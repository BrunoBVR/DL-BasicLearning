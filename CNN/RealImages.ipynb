{
 "cells": [
  {
   "cell_type": "code",
   "execution_count": 1,
   "id": "african-shelter",
   "metadata": {},
   "outputs": [],
   "source": [
    "import os"
   ]
  },
  {
   "cell_type": "code",
   "execution_count": 2,
   "id": "exterior-dallas",
   "metadata": {},
   "outputs": [],
   "source": [
    "data_dir = '/home/bruno/Documents/simulacoes/DL/CNN/cell_images'"
   ]
  },
  {
   "cell_type": "code",
   "execution_count": 3,
   "id": "awful-virtue",
   "metadata": {},
   "outputs": [
    {
     "data": {
      "text/plain": [
       "['test', 'train']"
      ]
     },
     "execution_count": 3,
     "metadata": {},
     "output_type": "execute_result"
    }
   ],
   "source": [
    "os.listdir(data_dir)"
   ]
  },
  {
   "cell_type": "markdown",
   "id": "according-quarter",
   "metadata": {},
   "source": [
    "# Working with Custom Images\n",
    "\n",
    "So far everything we've worked with has been nicely formatted for us already by Keras.\n",
    "\n",
    "Let's explore what its like to work with a more realistic data set.\n",
    "\n",
    "## The Data\n",
    "\n",
    "-----------\n",
    "\n",
    "## PLEASE NOTE: THIS DATASET IS VERY LARGE. IT CAN BE DOWNLOADED FROM THE PREVIOUS LECTURE. PLEASE WATCH THE VIDEO LECTURE ON HOW TO GET THE DATA.\n",
    "\n",
    "## USE OUR VERSION OF THE DATA. WE ALREADY ORGANIZED IT FOR YOU!!\n",
    "\n",
    "--------\n",
    "----------\n",
    "--------\n",
    "\n",
    "ORIGINAL DATA SOURCE:\n",
    "\n",
    "The dataset contains 2 folders - Infected - Uninfected\n",
    "\n",
    "And a total of 27,558 images.\n",
    "\n",
    "Acknowledgements\n",
    "This Dataset is taken from the official NIH Website: https://ceb.nlm.nih.gov/repositories/malaria-datasets/ \n",
    "\n",
    "**Note: We will be dealing with real image files, NOT numpy arrays. Which means a large part of this process will be learning how to work with and deal with large groups of image files. This is too much data to fit in memory as a numpy array, so we'll need to feed it into our model in batches. **\n",
    "\n",
    "### Visualizing the Data\n",
    "\n",
    "\n",
    "-------\n",
    "Let's take a closer look at the data."
   ]
  },
  {
   "cell_type": "code",
   "execution_count": 4,
   "id": "bright-heating",
   "metadata": {},
   "outputs": [],
   "source": [
    "import pandas as pd\n",
    "import numpy as np\n",
    "import matplotlib.pyplot as plt\n",
    "from matplotlib.image import imread\n",
    "import seaborn as sns\n",
    "\n",
    "%config Completer.use_jedi = False        # For autocomplete to work!"
   ]
  },
  {
   "cell_type": "code",
   "execution_count": 5,
   "id": "broken-lemon",
   "metadata": {},
   "outputs": [],
   "source": [
    "sns.set(rc={'figure.figsize':(10,6)})\n",
    "sns.set_style('whitegrid')\n",
    "sns.set_palette('Set2')"
   ]
  },
  {
   "cell_type": "code",
   "execution_count": 6,
   "id": "tender-provincial",
   "metadata": {},
   "outputs": [],
   "source": [
    "data_dir = '/home/bruno/Documents/simulacoes/DL/CNN/cell_images'"
   ]
  },
  {
   "cell_type": "code",
   "execution_count": 7,
   "id": "checked-domain",
   "metadata": {},
   "outputs": [
    {
     "data": {
      "text/plain": [
       "['test', 'train']"
      ]
     },
     "execution_count": 7,
     "metadata": {},
     "output_type": "execute_result"
    }
   ],
   "source": [
    "os.listdir(data_dir)"
   ]
  },
  {
   "cell_type": "code",
   "execution_count": 8,
   "id": "soviet-employee",
   "metadata": {},
   "outputs": [],
   "source": [
    "test_path = data_dir+'/test/'\n",
    "train_path = data_dir+'/train/'"
   ]
  },
  {
   "cell_type": "code",
   "execution_count": 9,
   "id": "personalized-patient",
   "metadata": {},
   "outputs": [
    {
     "data": {
      "text/plain": [
       "'/home/bruno/Documents/simulacoes/DL/CNN/cell_images/test/'"
      ]
     },
     "execution_count": 9,
     "metadata": {},
     "output_type": "execute_result"
    }
   ],
   "source": [
    "test_path"
   ]
  },
  {
   "cell_type": "code",
   "execution_count": 10,
   "id": "casual-origin",
   "metadata": {},
   "outputs": [
    {
     "data": {
      "text/plain": [
       "['parasitized', 'uninfected']"
      ]
     },
     "execution_count": 10,
     "metadata": {},
     "output_type": "execute_result"
    }
   ],
   "source": [
    "os.listdir(test_path)"
   ]
  },
  {
   "cell_type": "code",
   "execution_count": 11,
   "id": "documentary-hobby",
   "metadata": {},
   "outputs": [
    {
     "data": {
      "text/plain": [
       "['parasitized', 'uninfected']"
      ]
     },
     "execution_count": 11,
     "metadata": {},
     "output_type": "execute_result"
    }
   ],
   "source": [
    "os.listdir(train_path)"
   ]
  },
  {
   "cell_type": "markdown",
   "id": "contrary-mexico",
   "metadata": {},
   "source": [
    "Look at single image:"
   ]
  },
  {
   "cell_type": "code",
   "execution_count": 12,
   "id": "smooth-organ",
   "metadata": {},
   "outputs": [
    {
     "data": {
      "text/plain": [
       "'C113P74ThinF_IMG_20150930_134429_cell_184.png'"
      ]
     },
     "execution_count": 12,
     "metadata": {},
     "output_type": "execute_result"
    }
   ],
   "source": [
    "os.listdir(train_path+'parasitized')[0]"
   ]
  },
  {
   "cell_type": "code",
   "execution_count": 13,
   "id": "dominant-laser",
   "metadata": {},
   "outputs": [],
   "source": [
    "para_cell = train_path+'parasitized/'+os.listdir(train_path+'parasitized')[0]"
   ]
  },
  {
   "cell_type": "code",
   "execution_count": 14,
   "id": "racial-thread",
   "metadata": {},
   "outputs": [
    {
     "data": {
      "text/plain": [
       "'/home/bruno/Documents/simulacoes/DL/CNN/cell_images/train/parasitized/C113P74ThinF_IMG_20150930_134429_cell_184.png'"
      ]
     },
     "execution_count": 14,
     "metadata": {},
     "output_type": "execute_result"
    }
   ],
   "source": [
    "para_cell"
   ]
  },
  {
   "cell_type": "code",
   "execution_count": 15,
   "id": "israeli-electron",
   "metadata": {},
   "outputs": [
    {
     "data": {
      "text/plain": [
       "array([[[0., 0., 0.],\n",
       "        [0., 0., 0.],\n",
       "        [0., 0., 0.],\n",
       "        ...,\n",
       "        [0., 0., 0.],\n",
       "        [0., 0., 0.],\n",
       "        [0., 0., 0.]],\n",
       "\n",
       "       [[0., 0., 0.],\n",
       "        [0., 0., 0.],\n",
       "        [0., 0., 0.],\n",
       "        ...,\n",
       "        [0., 0., 0.],\n",
       "        [0., 0., 0.],\n",
       "        [0., 0., 0.]],\n",
       "\n",
       "       [[0., 0., 0.],\n",
       "        [0., 0., 0.],\n",
       "        [0., 0., 0.],\n",
       "        ...,\n",
       "        [0., 0., 0.],\n",
       "        [0., 0., 0.],\n",
       "        [0., 0., 0.]],\n",
       "\n",
       "       ...,\n",
       "\n",
       "       [[0., 0., 0.],\n",
       "        [0., 0., 0.],\n",
       "        [0., 0., 0.],\n",
       "        ...,\n",
       "        [0., 0., 0.],\n",
       "        [0., 0., 0.],\n",
       "        [0., 0., 0.]],\n",
       "\n",
       "       [[0., 0., 0.],\n",
       "        [0., 0., 0.],\n",
       "        [0., 0., 0.],\n",
       "        ...,\n",
       "        [0., 0., 0.],\n",
       "        [0., 0., 0.],\n",
       "        [0., 0., 0.]],\n",
       "\n",
       "       [[0., 0., 0.],\n",
       "        [0., 0., 0.],\n",
       "        [0., 0., 0.],\n",
       "        ...,\n",
       "        [0., 0., 0.],\n",
       "        [0., 0., 0.],\n",
       "        [0., 0., 0.]]], dtype=float32)"
      ]
     },
     "execution_count": 15,
     "metadata": {},
     "output_type": "execute_result"
    }
   ],
   "source": [
    "imread(para_cell)"
   ]
  },
  {
   "cell_type": "code",
   "execution_count": 16,
   "id": "sharing-contemporary",
   "metadata": {},
   "outputs": [
    {
     "data": {
      "text/plain": [
       "(112, 106, 3)"
      ]
     },
     "execution_count": 16,
     "metadata": {},
     "output_type": "execute_result"
    }
   ],
   "source": [
    "imread(para_cell).shape"
   ]
  },
  {
   "cell_type": "code",
   "execution_count": 17,
   "id": "advised-estonia",
   "metadata": {},
   "outputs": [
    {
     "data": {
      "image/png": "[encoded data removed]",
      "text/plain": [
       "<Figure size 720x432 with 1 Axes>"
      ]
     },
     "metadata": {},
     "output_type": "display_data"
    }
   ],
   "source": [
    "plt.imshow(imread(para_cell));"
   ]
  },
  {
   "cell_type": "code",
   "execution_count": 18,
   "id": "structured-vacation",
   "metadata": {},
   "outputs": [],
   "source": [
    "uninfected_cell = train_path+'uninfected/'+os.listdir(train_path+'uninfected')[0]"
   ]
  },
  {
   "cell_type": "code",
   "execution_count": 19,
   "id": "flexible-silver",
   "metadata": {},
   "outputs": [
    {
     "data": {
      "image/png": "[encoded data removed]",
      "text/plain": [
       "<Figure size 720x432 with 1 Axes>"
      ]
     },
     "metadata": {},
     "output_type": "display_data"
    }
   ],
   "source": [
    "plt.imshow(imread(uninfected_cell));"
   ]
  },
  {
   "cell_type": "markdown",
   "id": "rubber-patch",
   "metadata": {},
   "source": [
    "**Let's check how many images there are.**"
   ]
  },
  {
   "cell_type": "code",
   "execution_count": 20,
   "id": "middle-swimming",
   "metadata": {},
   "outputs": [
    {
     "data": {
      "text/plain": [
       "12480"
      ]
     },
     "execution_count": 20,
     "metadata": {},
     "output_type": "execute_result"
    }
   ],
   "source": [
    "len(os.listdir(train_path+'parasitized'))"
   ]
  },
  {
   "cell_type": "code",
   "execution_count": 21,
   "id": "dominican-refrigerator",
   "metadata": {},
   "outputs": [
    {
     "data": {
      "text/plain": [
       "12480"
      ]
     },
     "execution_count": 21,
     "metadata": {},
     "output_type": "execute_result"
    }
   ],
   "source": [
    "len(os.listdir(train_path+'uninfected'))"
   ]
  },
  {
   "cell_type": "code",
   "execution_count": 22,
   "id": "comparable-kitty",
   "metadata": {},
   "outputs": [
    {
     "data": {
      "text/plain": [
       "1300"
      ]
     },
     "execution_count": 22,
     "metadata": {},
     "output_type": "execute_result"
    }
   ],
   "source": [
    "len(os.listdir(test_path+'parasitized'))"
   ]
  },
  {
   "cell_type": "code",
   "execution_count": 23,
   "id": "serious-schema",
   "metadata": {},
   "outputs": [
    {
     "data": {
      "text/plain": [
       "1300"
      ]
     },
     "execution_count": 23,
     "metadata": {},
     "output_type": "execute_result"
    }
   ],
   "source": [
    "len(os.listdir(test_path+'uninfected'))"
   ]
  },
  {
   "cell_type": "markdown",
   "id": "environmental-lounge",
   "metadata": {},
   "source": [
    "**Let's find out the average dimensions of these images.**"
   ]
  },
  {
   "cell_type": "code",
   "execution_count": 24,
   "id": "waiting-server",
   "metadata": {},
   "outputs": [],
   "source": [
    "dim1 = []\n",
    "dim2 = []\n",
    "\n",
    "for image_filename in os.listdir(test_path+'uninfected'):\n",
    "    \n",
    "    img = imread(test_path+'uninfected/'+image_filename)\n",
    "    # Images are shaped as width,height,color channels\n",
    "    d1,d2,colors = img.shape\n",
    "    dim1.append(d1)\n",
    "    dim2.append(d2)"
   ]
  },
  {
   "cell_type": "code",
   "execution_count": 25,
   "id": "least-google",
   "metadata": {},
   "outputs": [
    {
     "data": {
      "text/plain": [
       "[115,\n",
       " 130,\n",
       " 169,\n",
       " 148,\n",
       " 103,\n",
       " 172,\n",
       " 124,\n",
       " 118,\n",
       " 145,\n",
       " 118,\n",
       " 136,\n",
       " 127,\n",
       " 142,\n",
       " 103,\n",
       " 136,\n",
       " 151,\n",
       " 106,\n",
       " 121,\n",
       " 121,\n",
       " 118,\n",
       " 136,\n",
       " 103,\n",
       " 130,\n",
       " 124,\n",
       " 118,\n",
       " 115,\n",
       " 121,\n",
       " 118,\n",
       " 124,\n",
       " 145,\n",
       " 127,\n",
       " 139,\n",
       " 169,\n",
       " 121,\n",
       " 130,\n",
       " 145,\n",
       " 121,\n",
       " 145,\n",
       " 106,\n",
       " 97,\n",
       " 127,\n",
       " 145,\n",
       " 124,\n",
       " 127,\n",
       " 154,\n",
       " 124,\n",
       " 124,\n",
       " 142,\n",
       " 100,\n",
       " 133,\n",
       " 112,\n",
       " 151,\n",
       " 100,\n",
       " 124,\n",
       " 121,\n",
       " 148,\n",
       " 145,\n",
       " 130,\n",
       " 127,\n",
       " 148,\n",
       " 118,\n",
       " 157,\n",
       " 139,\n",
       " 127,\n",
       " 121,\n",
       " 154,\n",
       " 118,\n",
       " 124,\n",
       " 184,\n",
       " 130,\n",
       " 106,\n",
       " 103,\n",
       " 115,\n",
       " 145,\n",
       " 136,\n",
       " 127,\n",
       " 109,\n",
       " 133,\n",
       " 130,\n",
       " 118,\n",
       " 133,\n",
       " 115,\n",
       " 136,\n",
       " 130,\n",
       " 109,\n",
       " 148,\n",
       " 118,\n",
       " 103,\n",
       " 109,\n",
       " 127,\n",
       " 115,\n",
       " 112,\n",
       " 124,\n",
       " 136,\n",
       " 127,\n",
       " 130,\n",
       " 127,\n",
       " 124,\n",
       " 112,\n",
       " 136,\n",
       " 136,\n",
       " 124,\n",
       " 118,\n",
       " 151,\n",
       " 136,\n",
       " 115,\n",
       " 142,\n",
       " 169,\n",
       " 121,\n",
       " 136,\n",
       " 130,\n",
       " 145,\n",
       " 115,\n",
       " 118,\n",
       " 130,\n",
       " 130,\n",
       " 130,\n",
       " 133,\n",
       " 106,\n",
       " 154,\n",
       " 124,\n",
       " 160,\n",
       " 160,\n",
       " 145,\n",
       " 94,\n",
       " 130,\n",
       " 127,\n",
       " 169,\n",
       " 139,\n",
       " 151,\n",
       " 112,\n",
       " 118,\n",
       " 130,\n",
       " 148,\n",
       " 184,\n",
       " 127,\n",
       " 124,\n",
       " 118,\n",
       " 196,\n",
       " 112,\n",
       " 127,\n",
       " 142,\n",
       " 115,\n",
       " 148,\n",
       " 133,\n",
       " 127,\n",
       " 163,\n",
       " 94,\n",
       " 136,\n",
       " 106,\n",
       " 121,\n",
       " 91,\n",
       " 127,\n",
       " 121,\n",
       " 97,\n",
       " 130,\n",
       " 121,\n",
       " 133,\n",
       " 148,\n",
       " 121,\n",
       " 76,\n",
       " 109,\n",
       " 169,\n",
       " 142,\n",
       " 130,\n",
       " 139,\n",
       " 115,\n",
       " 133,\n",
       " 136,\n",
       " 103,\n",
       " 97,\n",
       " 148,\n",
       " 142,\n",
       " 154,\n",
       " 127,\n",
       " 118,\n",
       " 100,\n",
       " 121,\n",
       " 142,\n",
       " 136,\n",
       " 136,\n",
       " 124,\n",
       " 145,\n",
       " 118,\n",
       " 142,\n",
       " 151,\n",
       " 127,\n",
       " 97,\n",
       " 136,\n",
       " 124,\n",
       " 190,\n",
       " 160,\n",
       " 115,\n",
       " 130,\n",
       " 115,\n",
       " 121,\n",
       " 121,\n",
       " 124,\n",
       " 115,\n",
       " 139,\n",
       " 112,\n",
       " 100,\n",
       " 127,\n",
       " 103,\n",
       " 154,\n",
       " 118,\n",
       " 157,\n",
       " 151,\n",
       " 124,\n",
       " 103,\n",
       " 160,\n",
       " 151,\n",
       " 109,\n",
       " 103,\n",
       " 130,\n",
       " 130,\n",
       " 139,\n",
       " 148,\n",
       " 139,\n",
       " 163,\n",
       " 124,\n",
       " 124,\n",
       " 136,\n",
       " 118,\n",
       " 130,\n",
       " 133,\n",
       " 109,\n",
       " 124,\n",
       " 124,\n",
       " 124,\n",
       " 127,\n",
       " 148,\n",
       " 160,\n",
       " 127,\n",
       " 100,\n",
       " 121,\n",
       " 121,\n",
       " 133,\n",
       " 160,\n",
       " 154,\n",
       " 145,\n",
       " 124,\n",
       " 124,\n",
       " 118,\n",
       " 127,\n",
       " 106,\n",
       " 130,\n",
       " 103,\n",
       " 151,\n",
       " 139,\n",
       " 127,\n",
       " 127,\n",
       " 127,\n",
       " 199,\n",
       " 61,\n",
       " 130,\n",
       " 121,\n",
       " 112,\n",
       " 127,\n",
       " 136,\n",
       " 121,\n",
       " 124,\n",
       " 136,\n",
       " 127,\n",
       " 154,\n",
       " 118,\n",
       " 136,\n",
       " 100,\n",
       " 130,\n",
       " 160,\n",
       " 184,\n",
       " 127,\n",
       " 136,\n",
       " 106,\n",
       " 112,\n",
       " 127,\n",
       " 130,\n",
       " 121,\n",
       " 124,\n",
       " 163,\n",
       " 136,\n",
       " 124,\n",
       " 121,\n",
       " 130,\n",
       " 115,\n",
       " 136,\n",
       " 118,\n",
       " 115,\n",
       " 127,\n",
       " 118,\n",
       " 112,\n",
       " 139,\n",
       " 136,\n",
       " 139,\n",
       " 157,\n",
       " 112,\n",
       " 142,\n",
       " 115,\n",
       " 94,\n",
       " 130,\n",
       " 136,\n",
       " 118,\n",
       " 121,\n",
       " 106,\n",
       " 118,\n",
       " 112,\n",
       " 130,\n",
       " 127,\n",
       " 118,\n",
       " 142,\n",
       " 169,\n",
       " 136,\n",
       " 121,\n",
       " 139,\n",
       " 109,\n",
       " 118,\n",
       " 142,\n",
       " 115,\n",
       " 130,\n",
       " 124,\n",
       " 124,\n",
       " 115,\n",
       " 148,\n",
       " 133,\n",
       " 106,\n",
       " 118,\n",
       " 70,\n",
       " 136,\n",
       " 175,\n",
       " 142,\n",
       " 154,\n",
       " 169,\n",
       " 124,\n",
       " 145,\n",
       " 145,\n",
       " 139,\n",
       " 103,\n",
       " 160,\n",
       " 118,\n",
       " 115,\n",
       " 85,\n",
       " 166,\n",
       " 133,\n",
       " 112,\n",
       " 106,\n",
       " 121,\n",
       " 154,\n",
       " 145,\n",
       " 124,\n",
       " 130,\n",
       " 109,\n",
       " 88,\n",
       " 151,\n",
       " 142,\n",
       " 136,\n",
       " 112,\n",
       " 133,\n",
       " 139,\n",
       " 124,\n",
       " 136,\n",
       " 166,\n",
       " 127,\n",
       " 139,\n",
       " 157,\n",
       " 124,\n",
       " 115,\n",
       " 118,\n",
       " 121,\n",
       " 142,\n",
       " 148,\n",
       " 121,\n",
       " 106,\n",
       " 145,\n",
       " 124,\n",
       " 118,\n",
       " 148,\n",
       " 127,\n",
       " 130,\n",
       " 139,\n",
       " 124,\n",
       " 115,\n",
       " 112,\n",
       " 118,\n",
       " 103,\n",
       " 127,\n",
       " 139,\n",
       " 178,\n",
       " 127,\n",
       " 127,\n",
       " 124,\n",
       " 163,\n",
       " 118,\n",
       " 124,\n",
       " 124,\n",
       " 157,\n",
       " 121,\n",
       " 112,\n",
       " 142,\n",
       " 130,\n",
       " 124,\n",
       " 133,\n",
       " 121,\n",
       " 124,\n",
       " 121,\n",
       " 142,\n",
       " 142,\n",
       " 130,\n",
       " 133,\n",
       " 139,\n",
       " 139,\n",
       " 127,\n",
       " 136,\n",
       " 148,\n",
       " 115,\n",
       " 145,\n",
       " 121,\n",
       " 145,\n",
       " 124,\n",
       " 136,\n",
       " 124,\n",
       " 154,\n",
       " 103,\n",
       " 124,\n",
       " 130,\n",
       " 154,\n",
       " 115,\n",
       " 139,\n",
       " 124,\n",
       " 157,\n",
       " 139,\n",
       " 157,\n",
       " 124,\n",
       " 136,\n",
       " 127,\n",
       " 109,\n",
       " 142,\n",
       " 142,\n",
       " 130,\n",
       " 142,\n",
       " 178,\n",
       " 121,\n",
       " 115,\n",
       " 88,\n",
       " 109,\n",
       " 106,\n",
       " 133,\n",
       " 130,\n",
       " 145,\n",
       " 130,\n",
       " 106,\n",
       " 127,\n",
       " 127,\n",
       " 130,\n",
       " 127,\n",
       " 133,\n",
       " 124,\n",
       " 115,\n",
       " 115,\n",
       " 151,\n",
       " 160,\n",
       " 142,\n",
       " 109,\n",
       " 151,\n",
       " 130,\n",
       " 121,\n",
       " 121,\n",
       " 130,\n",
       " 88,\n",
       " 124,\n",
       " 121,\n",
       " 145,\n",
       " 124,\n",
       " 145,\n",
       " 127,\n",
       " 148,\n",
       " 127,\n",
       " 127,\n",
       " 127,\n",
       " 133,\n",
       " 130,\n",
       " 142,\n",
       " 145,\n",
       " 133,\n",
       " 136,\n",
       " 157,\n",
       " 118,\n",
       " 142,\n",
       " 139,\n",
       " 139,\n",
       " 148,\n",
       " 145,\n",
       " 142,\n",
       " 142,\n",
       " 112,\n",
       " 88,\n",
       " 163,\n",
       " 142,\n",
       " 151,\n",
       " 166,\n",
       " 172,\n",
       " 124,\n",
       " 169,\n",
       " 166,\n",
       " 169,\n",
       " 136,\n",
       " 160,\n",
       " 133,\n",
       " 127,\n",
       " 133,\n",
       " 115,\n",
       " 130,\n",
       " 115,\n",
       " 127,\n",
       " 130,\n",
       " 160,\n",
       " 127,\n",
       " 127,\n",
       " 136,\n",
       " 139,\n",
       " 145,\n",
       " 127,\n",
       " 142,\n",
       " 154,\n",
       " 157,\n",
       " 109,\n",
       " 130,\n",
       " 124,\n",
       " 133,\n",
       " 145,\n",
       " 121,\n",
       " 115,\n",
       " 133,\n",
       " 151,\n",
       " 109,\n",
       " 109,\n",
       " 118,\n",
       " 112,\n",
       " 148,\n",
       " 112,\n",
       " 139,\n",
       " 190,\n",
       " 94,\n",
       " 133,\n",
       " 115,\n",
       " 112,\n",
       " 112,\n",
       " 151,\n",
       " 127,\n",
       " 133,\n",
       " 106,\n",
       " 121,\n",
       " 112,\n",
       " 163,\n",
       " 127,\n",
       " 130,\n",
       " 145,\n",
       " 175,\n",
       " 130,\n",
       " 103,\n",
       " 148,\n",
       " 130,\n",
       " 124,\n",
       " 136,\n",
       " 130,\n",
       " 160,\n",
       " 157,\n",
       " 118,\n",
       " 124,\n",
       " 142,\n",
       " 136,\n",
       " 121,\n",
       " 139,\n",
       " 118,\n",
       " 130,\n",
       " 121,\n",
       " 115,\n",
       " 136,\n",
       " 100,\n",
       " 133,\n",
       " 112,\n",
       " 172,\n",
       " 112,\n",
       " 148,\n",
       " 175,\n",
       " 154,\n",
       " 133,\n",
       " 103,\n",
       " 142,\n",
       " 175,\n",
       " 124,\n",
       " 130,\n",
       " 124,\n",
       " 145,\n",
       " 121,\n",
       " 118,\n",
       " 112,\n",
       " 124,\n",
       " 136,\n",
       " 127,\n",
       " 163,\n",
       " 172,\n",
       " 124,\n",
       " 130,\n",
       " 109,\n",
       " 145,\n",
       " 121,\n",
       " 133,\n",
       " 136,\n",
       " 211,\n",
       " 142,\n",
       " 133,\n",
       " 160,\n",
       " 145,\n",
       " 172,\n",
       " 130,\n",
       " 97,\n",
       " 121,\n",
       " 157,\n",
       " 85,\n",
       " 142,\n",
       " 133,\n",
       " 130,\n",
       " 127,\n",
       " 115,\n",
       " 151,\n",
       " 127,\n",
       " 148,\n",
       " 154,\n",
       " 136,\n",
       " 91,\n",
       " 133,\n",
       " 121,\n",
       " 130,\n",
       " 166,\n",
       " 136,\n",
       " 133,\n",
       " 142,\n",
       " 136,\n",
       " 121,\n",
       " 142,\n",
       " 145,\n",
       " 94,\n",
       " 118,\n",
       " 121,\n",
       " 109,\n",
       " 103,\n",
       " 148,\n",
       " 121,\n",
       " 112,\n",
       " 130,\n",
       " 145,\n",
       " 115,\n",
       " 160,\n",
       " 121,\n",
       " 133,\n",
       " 139,\n",
       " 145,\n",
       " 148,\n",
       " 121,\n",
       " 121,\n",
       " 118,\n",
       " 139,\n",
       " 109,\n",
       " 115,\n",
       " 130,\n",
       " 97,\n",
       " 145,\n",
       " 118,\n",
       " 136,\n",
       " 133,\n",
       " 133,\n",
       " 133,\n",
       " 133,\n",
       " 130,\n",
       " 118,\n",
       " 127,\n",
       " 130,\n",
       " 103,\n",
       " 127,\n",
       " 133,\n",
       " 127,\n",
       " 145,\n",
       " 139,\n",
       " 136,\n",
       " 142,\n",
       " 151,\n",
       " 124,\n",
       " 109,\n",
       " 136,\n",
       " 130,\n",
       " 133,\n",
       " 130,\n",
       " 121,\n",
       " 127,\n",
       " 124,\n",
       " 121,\n",
       " 145,\n",
       " 148,\n",
       " 103,\n",
       " 151,\n",
       " 136,\n",
       " 133,\n",
       " 118,\n",
       " 130,\n",
       " 157,\n",
       " 118,\n",
       " 97,\n",
       " 193,\n",
       " 142,\n",
       " 127,\n",
       " 121,\n",
       " 130,\n",
       " 115,\n",
       " 106,\n",
       " 136,\n",
       " 136,\n",
       " 139,\n",
       " 118,\n",
       " 118,\n",
       " 115,\n",
       " 118,\n",
       " 157,\n",
       " 88,\n",
       " 154,\n",
       " 115,\n",
       " 112,\n",
       " 130,\n",
       " 136,\n",
       " 133,\n",
       " 121,\n",
       " 130,\n",
       " 145,\n",
       " 124,\n",
       " 130,\n",
       " 130,\n",
       " 106,\n",
       " 151,\n",
       " 115,\n",
       " 118,\n",
       " 112,\n",
       " 109,\n",
       " 133,\n",
       " 118,\n",
       " 130,\n",
       " 136,\n",
       " 124,\n",
       " 130,\n",
       " 157,\n",
       " 133,\n",
       " 124,\n",
       " 154,\n",
       " 115,\n",
       " 112,\n",
       " 109,\n",
       " 70,\n",
       " 106,\n",
       " 148,\n",
       " 154,\n",
       " 118,\n",
       " 124,\n",
       " 115,\n",
       " 136,\n",
       " 139,\n",
       " 115,\n",
       " 139,\n",
       " 115,\n",
       " 121,\n",
       " 145,\n",
       " 124,\n",
       " 124,\n",
       " 121,\n",
       " 133,\n",
       " 166,\n",
       " 124,\n",
       " 184,\n",
       " 121,\n",
       " 115,\n",
       " 112,\n",
       " 139,\n",
       " 148,\n",
       " 136,\n",
       " 127,\n",
       " 148,\n",
       " 118,\n",
       " 127,\n",
       " 112,\n",
       " 142,\n",
       " 139,\n",
       " 133,\n",
       " 124,\n",
       " 166,\n",
       " 136,\n",
       " 118,\n",
       " 112,\n",
       " 106,\n",
       " 124,\n",
       " 136,\n",
       " 139,\n",
       " 133,\n",
       " 127,\n",
       " 145,\n",
       " 109,\n",
       " 115,\n",
       " 121,\n",
       " 97,\n",
       " 145,\n",
       " 139,\n",
       " 145,\n",
       " 142,\n",
       " 133,\n",
       " 121,\n",
       " 88,\n",
       " 127,\n",
       " 121,\n",
       " 160,\n",
       " 130,\n",
       " 154,\n",
       " 124,\n",
       " 124,\n",
       " 145,\n",
       " 199,\n",
       " 124,\n",
       " 109,\n",
       " 139,\n",
       " 133,\n",
       " 106,\n",
       " 118,\n",
       " 112,\n",
       " 112,\n",
       " 121,\n",
       " 151,\n",
       " 106,\n",
       " 145,\n",
       " 139,\n",
       " 106,\n",
       " 133,\n",
       " 130,\n",
       " 133,\n",
       " 139,\n",
       " 124,\n",
       " 136,\n",
       " 127,\n",
       " 115,\n",
       " 121,\n",
       " 127,\n",
       " 136,\n",
       " 136,\n",
       " 133,\n",
       " 145,\n",
       " 130,\n",
       " 130,\n",
       " 115,\n",
       " 118,\n",
       " 130,\n",
       " 121,\n",
       " 139,\n",
       " 118,\n",
       " 121,\n",
       " 127,\n",
       " 145,\n",
       " 112,\n",
       " 118,\n",
       " 166,\n",
       " 214,\n",
       " 133,\n",
       " 178,\n",
       " 115,\n",
       " 106,\n",
       " 121,\n",
       " 142,\n",
       " 139,\n",
       " 133,\n",
       " 121,\n",
       " 151,\n",
       " 115,\n",
       " 103,\n",
       " 154,\n",
       " 139,\n",
       " 130,\n",
       " 154,\n",
       " 133,\n",
       " 136,\n",
       " 136,\n",
       " 142,\n",
       " 139,\n",
       " 157,\n",
       " 148,\n",
       " 121,\n",
       " 133,\n",
       " 124,\n",
       " 109,\n",
       " 136,\n",
       " 97,\n",
       " 154,\n",
       " 127,\n",
       " 160,\n",
       " 127,\n",
       " 175,\n",
       " 118,\n",
       " 139,\n",
       " 133,\n",
       " 118,\n",
       " 142,\n",
       " 136,\n",
       " 172,\n",
       " 118,\n",
       " 94,\n",
       " 121,\n",
       " 130,\n",
       " 118,\n",
       " 139,\n",
       " 118,\n",
       " 139,\n",
       " 127,\n",
       " 124,\n",
       " 151,\n",
       " 121,\n",
       " 151,\n",
       " 130,\n",
       " 130,\n",
       " 109,\n",
       " 157,\n",
       " 127,\n",
       " 127,\n",
       " 124,\n",
       " 124,\n",
       " 142,\n",
       " 115,\n",
       " 133,\n",
       " 115,\n",
       " 139,\n",
       " 133,\n",
       " 154,\n",
       " 115,\n",
       " 118,\n",
       " 175,\n",
       " 130,\n",
       " 157,\n",
       " 112,\n",
       " 127,\n",
       " 172,\n",
       " 178,\n",
       " 136,\n",
       " 133,\n",
       " 115,\n",
       " 121,\n",
       " 136,\n",
       " 145,\n",
       " 109,\n",
       " 142,\n",
       " 124,\n",
       " 112,\n",
       " 145,\n",
       " 148,\n",
       " 124,\n",
       " 145,\n",
       " 136,\n",
       " 148,\n",
       " 139,\n",
       " 106,\n",
       " 133,\n",
       " 163,\n",
       " 127,\n",
       " 130,\n",
       " 109,\n",
       " 136,\n",
       " 136,\n",
       " 118,\n",
       " 172,\n",
       " 172,\n",
       " 106,\n",
       " 160,\n",
       " 145,\n",
       " 148,\n",
       " 118,\n",
       " 109,\n",
       " 127,\n",
       " 142,\n",
       " 154,\n",
       " 106,\n",
       " 118,\n",
       " 139,\n",
       " 118,\n",
       " 127,\n",
       " 154,\n",
       " 145,\n",
       " 127,\n",
       " 136,\n",
       " 103,\n",
       " 154,\n",
       " 154,\n",
       " 133,\n",
       " 133,\n",
       " 106,\n",
       " 133,\n",
       " 115,\n",
       " 136,\n",
       " 181,\n",
       " 115,\n",
       " 148,\n",
       " ...]"
      ]
     },
     "execution_count": 25,
     "metadata": {},
     "output_type": "execute_result"
    }
   ],
   "source": [
    "dim1"
   ]
  },
  {
   "cell_type": "code",
   "execution_count": 26,
   "id": "analyzed-links",
   "metadata": {},
   "outputs": [
    {
     "data": {
      "text/plain": [
       "<Figure size 720x432 with 0 Axes>"
      ]
     },
     "metadata": {},
     "output_type": "display_data"
    },
    {
     "data": {
      "image/png": "[encoded data removed]",
      "text/plain": [
       "<Figure size 432x432 with 3 Axes>"
      ]
     },
     "metadata": {},
     "output_type": "display_data"
    }
   ],
   "source": [
    "plt.figure(figsize=(10,6))\n",
    "sns.jointplot(x=dim1,y=dim2);"
   ]
  },
  {
   "cell_type": "markdown",
   "id": "surprised-balance",
   "metadata": {},
   "source": [
    "To use the CNN we need to resize all images to same dimensions!\n",
    "We'll chose the average size for the resized ones."
   ]
  },
  {
   "cell_type": "code",
   "execution_count": 27,
   "id": "weighted-letters",
   "metadata": {},
   "outputs": [
    {
     "data": {
      "text/plain": [
       "130.92538461538462"
      ]
     },
     "execution_count": 27,
     "metadata": {},
     "output_type": "execute_result"
    }
   ],
   "source": [
    "np.mean(dim1)"
   ]
  },
  {
   "cell_type": "code",
   "execution_count": 28,
   "id": "meaning-schedule",
   "metadata": {},
   "outputs": [
    {
     "data": {
      "text/plain": [
       "130.75"
      ]
     },
     "execution_count": 28,
     "metadata": {},
     "output_type": "execute_result"
    }
   ],
   "source": [
    "np.mean(dim2)"
   ]
  },
  {
   "cell_type": "code",
   "execution_count": 29,
   "id": "distant-lesbian",
   "metadata": {},
   "outputs": [],
   "source": [
    "image_shape = (130,130,3)"
   ]
  },
  {
   "cell_type": "markdown",
   "id": "distinct-location",
   "metadata": {},
   "source": [
    "## Preparing the Data for the model\n",
    "\n",
    "There is too much data for us to read all at once in memory. We can use some built in functions in Keras to automatically process the data, generate a flow of batches from a directory, and also manipulate the images.\n",
    "\n",
    "### Image Manipulation\n",
    "\n",
    "It's usually a good idea to manipulate the images with rotation, resizing, and scaling so the model becomes more robust to different images that our data set doesn't have. We can use the **ImageDataGenerator** to do this automatically for us. Check out the documentation for a full list of all the parameters you can use here!"
   ]
  },
  {
   "cell_type": "code",
   "execution_count": 30,
   "id": "small-entrepreneur",
   "metadata": {},
   "outputs": [],
   "source": [
    "from tensorflow.keras.preprocessing.image import ImageDataGenerator"
   ]
  },
  {
   "cell_type": "code",
   "execution_count": 31,
   "id": "adult-element",
   "metadata": {},
   "outputs": [
    {
     "name": "stdout",
     "output_type": "stream",
     "text": [
      "Help on class ImageDataGenerator in module tensorflow.python.keras.preprocessing.image:\n",
      "\n",
      "class ImageDataGenerator(keras_preprocessing.image.image_data_generator.ImageDataGenerator)\n",
      " |  ImageDataGenerator(featurewise_center=False, samplewise_center=False, featurewise_std_normalization=False, samplewise_std_normalization=False, zca_whitening=False, zca_epsilon=1e-06, rotation_range=0, width_shift_range=0.0, height_shift_range=0.0, brightness_range=None, shear_range=0.0, zoom_range=0.0, channel_shift_range=0.0, fill_mode='nearest', cval=0.0, horizontal_flip=False, vertical_flip=False, rescale=None, preprocessing_function=None, data_format=None, validation_split=0.0, dtype=None)\n",
      " |  \n",
      " |  Generate batches of tensor image data with real-time data augmentation.\n",
      " |  \n",
      " |   The data will be looped over (in batches).\n",
      " |  \n",
      " |  Arguments:\n",
      " |      featurewise_center: Boolean.\n",
      " |          Set input mean to 0 over the dataset, feature-wise.\n",
      " |      samplewise_center: Boolean. Set each sample mean to 0.\n",
      " |      featurewise_std_normalization: Boolean.\n",
      " |          Divide inputs by std of the dataset, feature-wise.\n",
      " |      samplewise_std_normalization: Boolean. Divide each input by its std.\n",
      " |      zca_epsilon: epsilon for ZCA whitening. Default is 1e-6.\n",
      " |      zca_whitening: Boolean. Apply ZCA whitening.\n",
      " |      rotation_range: Int. Degree range for random rotations.\n",
      " |      width_shift_range: Float, 1-D array-like or int\n",
      " |          - float: fraction of total width, if < 1, or pixels if >= 1.\n",
      " |          - 1-D array-like: random elements from the array.\n",
      " |          - int: integer number of pixels from interval\n",
      " |              `(-width_shift_range, +width_shift_range)`\n",
      " |          - With `width_shift_range=2` possible values\n",
      " |              are integers `[-1, 0, +1]`,\n",
      " |              same as with `width_shift_range=[-1, 0, +1]`,\n",
      " |              while with `width_shift_range=1.0` possible values are floats\n",
      " |              in the interval [-1.0, +1.0).\n",
      " |      height_shift_range: Float, 1-D array-like or int\n",
      " |          - float: fraction of total height, if < 1, or pixels if >= 1.\n",
      " |          - 1-D array-like: random elements from the array.\n",
      " |          - int: integer number of pixels from interval\n",
      " |              `(-height_shift_range, +height_shift_range)`\n",
      " |          - With `height_shift_range=2` possible values\n",
      " |              are integers `[-1, 0, +1]`,\n",
      " |              same as with `height_shift_range=[-1, 0, +1]`,\n",
      " |              while with `height_shift_range=1.0` possible values are floats\n",
      " |              in the interval [-1.0, +1.0).\n",
      " |      brightness_range: Tuple or list of two floats. Range for picking\n",
      " |          a brightness shift value from.\n",
      " |      shear_range: Float. Shear Intensity\n",
      " |          (Shear angle in counter-clockwise direction in degrees)\n",
      " |      zoom_range: Float or [lower, upper]. Range for random zoom.\n",
      " |          If a float, `[lower, upper] = [1-zoom_range, 1+zoom_range]`.\n",
      " |      channel_shift_range: Float. Range for random channel shifts.\n",
      " |      fill_mode: One of {\"constant\", \"nearest\", \"reflect\" or \"wrap\"}.\n",
      " |          Default is 'nearest'.\n",
      " |          Points outside the boundaries of the input are filled\n",
      " |          according to the given mode:\n",
      " |          - 'constant': kkkkkkkk|abcd|kkkkkkkk (cval=k)\n",
      " |          - 'nearest':  aaaaaaaa|abcd|dddddddd\n",
      " |          - 'reflect':  abcddcba|abcd|dcbaabcd\n",
      " |          - 'wrap':  abcdabcd|abcd|abcdabcd\n",
      " |      cval: Float or Int.\n",
      " |          Value used for points outside the boundaries\n",
      " |          when `fill_mode = \"constant\"`.\n",
      " |      horizontal_flip: Boolean. Randomly flip inputs horizontally.\n",
      " |      vertical_flip: Boolean. Randomly flip inputs vertically.\n",
      " |      rescale: rescaling factor. Defaults to None.\n",
      " |          If None or 0, no rescaling is applied,\n",
      " |          otherwise we multiply the data by the value provided\n",
      " |          (after applying all other transformations).\n",
      " |      preprocessing_function: function that will be applied on each input.\n",
      " |          The function will run after the image is resized and augmented.\n",
      " |          The function should take one argument:\n",
      " |          one image (Numpy tensor with rank 3),\n",
      " |          and should output a Numpy tensor with the same shape.\n",
      " |      data_format: Image data format,\n",
      " |          either \"channels_first\" or \"channels_last\".\n",
      " |          \"channels_last\" mode means that the images should have shape\n",
      " |          `(samples, height, width, channels)`,\n",
      " |          \"channels_first\" mode means that the images should have shape\n",
      " |          `(samples, channels, height, width)`.\n",
      " |          It defaults to the `image_data_format` value found in your\n",
      " |          Keras config file at `~/.keras/keras.json`.\n",
      " |          If you never set it, then it will be \"channels_last\".\n",
      " |      validation_split: Float. Fraction of images reserved for validation\n",
      " |          (strictly between 0 and 1).\n",
      " |      dtype: Dtype to use for the generated arrays.\n",
      " |  \n",
      " |  Examples:\n",
      " |  \n",
      " |  Example of using `.flow(x, y)`:\n",
      " |  \n",
      " |  ```python\n",
      " |  (x_train, y_train), (x_test, y_test) = cifar10.load_data()\n",
      " |  y_train = np_utils.to_categorical(y_train, num_classes)\n",
      " |  y_test = np_utils.to_categorical(y_test, num_classes)\n",
      " |  datagen = ImageDataGenerator(\n",
      " |      featurewise_center=True,\n",
      " |      featurewise_std_normalization=True,\n",
      " |      rotation_range=20,\n",
      " |      width_shift_range=0.2,\n",
      " |      height_shift_range=0.2,\n",
      " |      horizontal_flip=True)\n",
      " |  # compute quantities required for featurewise normalization\n",
      " |  # (std, mean, and principal components if ZCA whitening is applied)\n",
      " |  datagen.fit(x_train)\n",
      " |  # fits the model on batches with real-time data augmentation:\n",
      " |  model.fit(datagen.flow(x_train, y_train, batch_size=32),\n",
      " |            steps_per_epoch=len(x_train) / 32, epochs=epochs)\n",
      " |  # here's a more \"manual\" example\n",
      " |  for e in range(epochs):\n",
      " |      print('Epoch', e)\n",
      " |      batches = 0\n",
      " |      for x_batch, y_batch in datagen.flow(x_train, y_train, batch_size=32):\n",
      " |          model.fit(x_batch, y_batch)\n",
      " |          batches += 1\n",
      " |          if batches >= len(x_train) / 32:\n",
      " |              # we need to break the loop by hand because\n",
      " |              # the generator loops indefinitely\n",
      " |              break\n",
      " |  ```\n",
      " |  \n",
      " |  Example of using `.flow_from_directory(directory)`:\n",
      " |  \n",
      " |  ```python\n",
      " |  train_datagen = ImageDataGenerator(\n",
      " |          rescale=1./255,\n",
      " |          shear_range=0.2,\n",
      " |          zoom_range=0.2,\n",
      " |          horizontal_flip=True)\n",
      " |  test_datagen = ImageDataGenerator(rescale=1./255)\n",
      " |  train_generator = train_datagen.flow_from_directory(\n",
      " |          'data/train',\n",
      " |          target_size=(150, 150),\n",
      " |          batch_size=32,\n",
      " |          class_mode='binary')\n",
      " |  validation_generator = test_datagen.flow_from_directory(\n",
      " |          'data/validation',\n",
      " |          target_size=(150, 150),\n",
      " |          batch_size=32,\n",
      " |          class_mode='binary')\n",
      " |  model.fit(\n",
      " |          train_generator,\n",
      " |          steps_per_epoch=2000,\n",
      " |          epochs=50,\n",
      " |          validation_data=validation_generator,\n",
      " |          validation_steps=800)\n",
      " |  ```\n",
      " |  \n",
      " |  Example of transforming images and masks together.\n",
      " |  \n",
      " |  ```python\n",
      " |  # we create two instances with the same arguments\n",
      " |  data_gen_args = dict(featurewise_center=True,\n",
      " |                       featurewise_std_normalization=True,\n",
      " |                       rotation_range=90,\n",
      " |                       width_shift_range=0.1,\n",
      " |                       height_shift_range=0.1,\n",
      " |                       zoom_range=0.2)\n",
      " |  image_datagen = ImageDataGenerator(**data_gen_args)\n",
      " |  mask_datagen = ImageDataGenerator(**data_gen_args)\n",
      " |  # Provide the same seed and keyword arguments to the fit and flow methods\n",
      " |  seed = 1\n",
      " |  image_datagen.fit(images, augment=True, seed=seed)\n",
      " |  mask_datagen.fit(masks, augment=True, seed=seed)\n",
      " |  image_generator = image_datagen.flow_from_directory(\n",
      " |      'data/images',\n",
      " |      class_mode=None,\n",
      " |      seed=seed)\n",
      " |  mask_generator = mask_datagen.flow_from_directory(\n",
      " |      'data/masks',\n",
      " |      class_mode=None,\n",
      " |      seed=seed)\n",
      " |  # combine generators into one which yields image and masks\n",
      " |  train_generator = zip(image_generator, mask_generator)\n",
      " |  model.fit_generator(\n",
      " |      train_generator,\n",
      " |      steps_per_epoch=2000,\n",
      " |      epochs=50)\n",
      " |  ```\n",
      " |  \n",
      " |  Method resolution order:\n",
      " |      ImageDataGenerator\n",
      " |      keras_preprocessing.image.image_data_generator.ImageDataGenerator\n",
      " |      builtins.object\n",
      " |  \n",
      " |  Methods defined here:\n",
      " |  \n",
      " |  __init__(self, featurewise_center=False, samplewise_center=False, featurewise_std_normalization=False, samplewise_std_normalization=False, zca_whitening=False, zca_epsilon=1e-06, rotation_range=0, width_shift_range=0.0, height_shift_range=0.0, brightness_range=None, shear_range=0.0, zoom_range=0.0, channel_shift_range=0.0, fill_mode='nearest', cval=0.0, horizontal_flip=False, vertical_flip=False, rescale=None, preprocessing_function=None, data_format=None, validation_split=0.0, dtype=None)\n",
      " |      Initialize self.  See help(type(self)) for accurate signature.\n",
      " |  \n",
      " |  flow(self, x, y=None, batch_size=32, shuffle=True, sample_weight=None, seed=None, save_to_dir=None, save_prefix='', save_format='png', subset=None)\n",
      " |      Takes data & label arrays, generates batches of augmented data.\n",
      " |      \n",
      " |      Arguments:\n",
      " |          x: Input data. Numpy array of rank 4 or a tuple. If tuple, the first\n",
      " |            element should contain the images and the second element another numpy\n",
      " |            array or a list of numpy arrays that gets passed to the output without\n",
      " |            any modifications. Can be used to feed the model miscellaneous data\n",
      " |            along with the images. In case of grayscale data, the channels axis of\n",
      " |            the image array should have value 1, in case of RGB data, it should\n",
      " |            have value 3, and in case of RGBA data, it should have value 4.\n",
      " |          y: Labels.\n",
      " |          batch_size: Int (default: 32).\n",
      " |          shuffle: Boolean (default: True).\n",
      " |          sample_weight: Sample weights.\n",
      " |          seed: Int (default: None).\n",
      " |          save_to_dir: None or str (default: None). This allows you to optionally\n",
      " |            specify a directory to which to save the augmented pictures being\n",
      " |            generated (useful for visualizing what you are doing).\n",
      " |          save_prefix: Str (default: `''`). Prefix to use for filenames of saved\n",
      " |            pictures (only relevant if `save_to_dir` is set).\n",
      " |          save_format: one of \"png\", \"jpeg\"\n",
      " |              (only relevant if `save_to_dir` is set). Default: \"png\".\n",
      " |          subset: Subset of data (`\"training\"` or `\"validation\"`) if\n",
      " |            `validation_split` is set in `ImageDataGenerator`.\n",
      " |      \n",
      " |      Returns:\n",
      " |          An `Iterator` yielding tuples of `(x, y)`\n",
      " |              where `x` is a numpy array of image data\n",
      " |              (in the case of a single image input) or a list\n",
      " |              of numpy arrays (in the case with\n",
      " |              additional inputs) and `y` is a numpy array\n",
      " |              of corresponding labels. If 'sample_weight' is not None,\n",
      " |              the yielded tuples are of the form `(x, y, sample_weight)`.\n",
      " |              If `y` is None, only the numpy array `x` is returned.\n",
      " |  \n",
      " |  flow_from_dataframe(self, dataframe, directory=None, x_col='filename', y_col='class', weight_col=None, target_size=(256, 256), color_mode='rgb', classes=None, class_mode='categorical', batch_size=32, shuffle=True, seed=None, save_to_dir=None, save_prefix='', save_format='png', subset=None, interpolation='nearest', validate_filenames=True, **kwargs)\n",
      " |      Takes the dataframe and the path to a directory + generates batches.\n",
      " |      \n",
      " |       The generated batches contain augmented/normalized data.\n",
      " |      \n",
      " |      **A simple tutorial can be found **[here](\n",
      " |                                  http://bit.ly/keras_flow_from_dataframe).\n",
      " |      \n",
      " |      Arguments:\n",
      " |          dataframe: Pandas dataframe containing the filepaths relative to\n",
      " |            `directory` (or absolute paths if `directory` is None) of the images\n",
      " |            in a string column. It should include other column/s\n",
      " |              depending on the `class_mode`: - if `class_mode` is `\"categorical\"`\n",
      " |                (default value) it must include the `y_col` column with the\n",
      " |                class/es of each image. Values in column can be string/list/tuple\n",
      " |                if a single class or list/tuple if multiple classes. - if\n",
      " |                `class_mode` is `\"binary\"` or `\"sparse\"` it must include the given\n",
      " |                `y_col` column with class values as strings. - if `class_mode` is\n",
      " |                `\"raw\"` or `\"multi_output\"` it should contain the columns\n",
      " |                specified in `y_col`. - if `class_mode` is `\"input\"` or `None` no\n",
      " |                extra column is needed.\n",
      " |          directory: string, path to the directory to read images from. If `None`,\n",
      " |            data in `x_col` column should be absolute paths.\n",
      " |          x_col: string, column in `dataframe` that contains the filenames (or\n",
      " |            absolute paths if `directory` is `None`).\n",
      " |          y_col: string or list, column/s in `dataframe` that has the target data.\n",
      " |          weight_col: string, column in `dataframe` that contains the sample\n",
      " |              weights. Default: `None`.\n",
      " |          target_size: tuple of integers `(height, width)`, default: `(256, 256)`.\n",
      " |            The dimensions to which all images found will be resized.\n",
      " |          color_mode: one of \"grayscale\", \"rgb\", \"rgba\". Default: \"rgb\". Whether\n",
      " |            the images will be converted to have 1 or 3 color channels.\n",
      " |          classes: optional list of classes (e.g. `['dogs', 'cats']`). Default is\n",
      " |            None. If not provided, the list of classes will be automatically\n",
      " |            inferred from the `y_col`, which will map to the label indices, will\n",
      " |            be alphanumeric). The dictionary containing the mapping from class\n",
      " |            names to class indices can be obtained via the attribute\n",
      " |            `class_indices`.\n",
      " |          class_mode: one of \"binary\", \"categorical\", \"input\", \"multi_output\",\n",
      " |              \"raw\", sparse\" or None. Default: \"categorical\".\n",
      " |              Mode for yielding the targets:\n",
      " |              - `\"binary\"`: 1D numpy array of binary labels,\n",
      " |              - `\"categorical\"`: 2D numpy array of one-hot encoded labels.\n",
      " |                Supports multi-label output.\n",
      " |              - `\"input\"`: images identical to input images (mainly used to work\n",
      " |                with autoencoders),\n",
      " |              - `\"multi_output\"`: list with the values of the different columns,\n",
      " |              - `\"raw\"`: numpy array of values in `y_col` column(s),\n",
      " |              - `\"sparse\"`: 1D numpy array of integer labels, - `None`, no targets\n",
      " |                are returned (the generator will only yield batches of image data,\n",
      " |                which is useful to use in `model.predict_generator()`).\n",
      " |          batch_size: size of the batches of data (default: 32).\n",
      " |          shuffle: whether to shuffle the data (default: True)\n",
      " |          seed: optional random seed for shuffling and transformations.\n",
      " |          save_to_dir: None or str (default: None). This allows you to optionally\n",
      " |            specify a directory to which to save the augmented pictures being\n",
      " |            generated (useful for visualizing what you are doing).\n",
      " |          save_prefix: str. Prefix to use for filenames of saved pictures (only\n",
      " |            relevant if `save_to_dir` is set).\n",
      " |          save_format: one of \"png\", \"jpeg\"\n",
      " |              (only relevant if `save_to_dir` is set). Default: \"png\".\n",
      " |          subset: Subset of data (`\"training\"` or `\"validation\"`) if\n",
      " |            `validation_split` is set in `ImageDataGenerator`.\n",
      " |          interpolation: Interpolation method used to resample the image if the\n",
      " |            target size is different from that of the loaded image. Supported\n",
      " |            methods are `\"nearest\"`, `\"bilinear\"`, and `\"bicubic\"`. If PIL version\n",
      " |            1.1.3 or newer is installed, `\"lanczos\"` is also supported. If PIL\n",
      " |            version 3.4.0 or newer is installed, `\"box\"` and `\"hamming\"` are also\n",
      " |            supported. By default, `\"nearest\"` is used.\n",
      " |          validate_filenames: Boolean, whether to validate image filenames in\n",
      " |            `x_col`. If `True`, invalid images will be ignored. Disabling this\n",
      " |            option can lead to speed-up in the execution of this function.\n",
      " |            Defaults to `True`.\n",
      " |          **kwargs: legacy arguments for raising deprecation warnings.\n",
      " |      \n",
      " |      Returns:\n",
      " |          A `DataFrameIterator` yielding tuples of `(x, y)`\n",
      " |          where `x` is a numpy array containing a batch\n",
      " |          of images with shape `(batch_size, *target_size, channels)`\n",
      " |          and `y` is a numpy array of corresponding labels.\n",
      " |  \n",
      " |  flow_from_directory(self, directory, target_size=(256, 256), color_mode='rgb', classes=None, class_mode='categorical', batch_size=32, shuffle=True, seed=None, save_to_dir=None, save_prefix='', save_format='png', follow_links=False, subset=None, interpolation='nearest')\n",
      " |      Takes the path to a directory & generates batches of augmented data.\n",
      " |      \n",
      " |      Arguments:\n",
      " |          directory: string, path to the target directory. It should contain one\n",
      " |            subdirectory per class. Any PNG, JPG, BMP, PPM or TIF images inside\n",
      " |            each of the subdirectories directory tree will be included in the\n",
      " |            generator. See [this script](\n",
      " |              https://gist.github.com/fchollet/0830affa1f7f19fd47b06d4cf89ed44d)\n",
      " |                for more details.\n",
      " |          target_size: Tuple of integers `(height, width)`, defaults to `(256,\n",
      " |            256)`. The dimensions to which all images found will be resized.\n",
      " |          color_mode: One of \"grayscale\", \"rgb\", \"rgba\". Default: \"rgb\". Whether\n",
      " |            the images will be converted to have 1, 3, or 4 channels.\n",
      " |          classes: Optional list of class subdirectories\n",
      " |              (e.g. `['dogs', 'cats']`). Default: None. If not provided, the list\n",
      " |                of classes will be automatically inferred from the subdirectory\n",
      " |                names/structure under `directory`, where each subdirectory will be\n",
      " |                treated as a different class (and the order of the classes, which\n",
      " |                will map to the label indices, will be alphanumeric). The\n",
      " |                dictionary containing the mapping from class names to class\n",
      " |                indices can be obtained via the attribute `class_indices`.\n",
      " |          class_mode: One of \"categorical\", \"binary\", \"sparse\",\n",
      " |              \"input\", or None. Default: \"categorical\".\n",
      " |              Determines the type of label arrays that are returned: -\n",
      " |                \"categorical\" will be 2D one-hot encoded labels, - \"binary\" will\n",
      " |                be 1D binary labels, \"sparse\" will be 1D integer labels, - \"input\"\n",
      " |                will be images identical to input images (mainly used to work with\n",
      " |                autoencoders). - If None, no labels are returned (the generator\n",
      " |                will only yield batches of image data, which is useful to use with\n",
      " |                `model.predict_generator()`). Please note that in case of\n",
      " |                class_mode None, the data still needs to reside in a subdirectory\n",
      " |                of `directory` for it to work correctly.\n",
      " |          batch_size: Size of the batches of data (default: 32).\n",
      " |          shuffle: Whether to shuffle the data (default: True) If set to False,\n",
      " |            sorts the data in alphanumeric order.\n",
      " |          seed: Optional random seed for shuffling and transformations.\n",
      " |          save_to_dir: None or str (default: None). This allows you to optionally\n",
      " |            specify a directory to which to save the augmented pictures being\n",
      " |            generated (useful for visualizing what you are doing).\n",
      " |          save_prefix: Str. Prefix to use for filenames of saved pictures (only\n",
      " |            relevant if `save_to_dir` is set).\n",
      " |          save_format: One of \"png\", \"jpeg\"\n",
      " |              (only relevant if `save_to_dir` is set). Default: \"png\".\n",
      " |          follow_links: Whether to follow symlinks inside\n",
      " |              class subdirectories (default: False).\n",
      " |          subset: Subset of data (`\"training\"` or `\"validation\"`) if\n",
      " |            `validation_split` is set in `ImageDataGenerator`.\n",
      " |          interpolation: Interpolation method used to resample the image if the\n",
      " |            target size is different from that of the loaded image. Supported\n",
      " |            methods are `\"nearest\"`, `\"bilinear\"`, and `\"bicubic\"`. If PIL version\n",
      " |            1.1.3 or newer is installed, `\"lanczos\"` is also supported. If PIL\n",
      " |            version 3.4.0 or newer is installed, `\"box\"` and `\"hamming\"` are also\n",
      " |            supported. By default, `\"nearest\"` is used.\n",
      " |      \n",
      " |      Returns:\n",
      " |          A `DirectoryIterator` yielding tuples of `(x, y)`\n",
      " |              where `x` is a numpy array containing a batch\n",
      " |              of images with shape `(batch_size, *target_size, channels)`\n",
      " |              and `y` is a numpy array of corresponding labels.\n",
      " |  \n",
      " |  ----------------------------------------------------------------------\n",
      " |  Methods inherited from keras_preprocessing.image.image_data_generator.ImageDataGenerator:\n",
      " |  \n",
      " |  apply_transform(self, x, transform_parameters)\n",
      " |      Applies a transformation to an image according to given parameters.\n",
      " |      \n",
      " |      # Arguments\n",
      " |          x: 3D tensor, single image.\n",
      " |          transform_parameters: Dictionary with string - parameter pairs\n",
      " |              describing the transformation.\n",
      " |              Currently, the following parameters\n",
      " |              from the dictionary are used:\n",
      " |              - `'theta'`: Float. Rotation angle in degrees.\n",
      " |              - `'tx'`: Float. Shift in the x direction.\n",
      " |              - `'ty'`: Float. Shift in the y direction.\n",
      " |              - `'shear'`: Float. Shear angle in degrees.\n",
      " |              - `'zx'`: Float. Zoom in the x direction.\n",
      " |              - `'zy'`: Float. Zoom in the y direction.\n",
      " |              - `'flip_horizontal'`: Boolean. Horizontal flip.\n",
      " |              - `'flip_vertical'`: Boolean. Vertical flip.\n",
      " |              - `'channel_shift_intensity'`: Float. Channel shift intensity.\n",
      " |              - `'brightness'`: Float. Brightness shift intensity.\n",
      " |      \n",
      " |      # Returns\n",
      " |          A transformed version of the input (same shape).\n",
      " |  \n",
      " |  fit(self, x, augment=False, rounds=1, seed=None)\n",
      " |      Fits the data generator to some sample data.\n",
      " |      \n",
      " |      This computes the internal data stats related to the\n",
      " |      data-dependent transformations, based on an array of sample data.\n",
      " |      \n",
      " |      Only required if `featurewise_center` or\n",
      " |      `featurewise_std_normalization` or `zca_whitening` are set to True.\n",
      " |      \n",
      " |      When `rescale` is set to a value, rescaling is applied to\n",
      " |      sample data before computing the internal data stats.\n",
      " |      \n",
      " |      # Arguments\n",
      " |          x: Sample data. Should have rank 4.\n",
      " |           In case of grayscale data,\n",
      " |           the channels axis should have value 1, in case\n",
      " |           of RGB data, it should have value 3, and in case\n",
      " |           of RGBA data, it should have value 4.\n",
      " |          augment: Boolean (default: False).\n",
      " |              Whether to fit on randomly augmented samples.\n",
      " |          rounds: Int (default: 1).\n",
      " |              If using data augmentation (`augment=True`),\n",
      " |              this is how many augmentation passes over the data to use.\n",
      " |          seed: Int (default: None). Random seed.\n",
      " |  \n",
      " |  get_random_transform(self, img_shape, seed=None)\n",
      " |      Generates random parameters for a transformation.\n",
      " |      \n",
      " |      # Arguments\n",
      " |          seed: Random seed.\n",
      " |          img_shape: Tuple of integers.\n",
      " |              Shape of the image that is transformed.\n",
      " |      \n",
      " |      # Returns\n",
      " |          A dictionary containing randomly chosen parameters describing the\n",
      " |          transformation.\n",
      " |  \n",
      " |  random_transform(self, x, seed=None)\n",
      " |      Applies a random transformation to an image.\n",
      " |      \n",
      " |      # Arguments\n",
      " |          x: 3D tensor, single image.\n",
      " |          seed: Random seed.\n",
      " |      \n",
      " |      # Returns\n",
      " |          A randomly transformed version of the input (same shape).\n",
      " |  \n",
      " |  standardize(self, x)\n",
      " |      Applies the normalization configuration in-place to a batch of inputs.\n",
      " |      \n",
      " |      `x` is changed in-place since the function is mainly used internally\n",
      " |      to standardize images and feed them to your network. If a copy of `x`\n",
      " |      would be created instead it would have a significant performance cost.\n",
      " |      If you want to apply this method without changing the input in-place\n",
      " |      you can call the method creating a copy before:\n",
      " |      \n",
      " |      standardize(np.copy(x))\n",
      " |      \n",
      " |      # Arguments\n",
      " |          x: Batch of inputs to be normalized.\n",
      " |      \n",
      " |      # Returns\n",
      " |          The inputs, normalized.\n",
      " |  \n",
      " |  ----------------------------------------------------------------------\n",
      " |  Data descriptors inherited from keras_preprocessing.image.image_data_generator.ImageDataGenerator:\n",
      " |  \n",
      " |  __dict__\n",
      " |      dictionary for instance variables (if defined)\n",
      " |  \n",
      " |  __weakref__\n",
      " |      list of weak references to the object (if defined)\n",
      "\n"
     ]
    }
   ],
   "source": [
    "help(ImageDataGenerator)"
   ]
  },
  {
   "cell_type": "code",
   "execution_count": 32,
   "id": "noted-testament",
   "metadata": {},
   "outputs": [],
   "source": [
    "image_gen = ImageDataGenerator(rotation_range=20, # rotates the image 20deg\n",
    "                               width_shift_range = 0.1, # Shift the pic width by a max of 10%\n",
    "                               height_shift_range = 0.1,# shift the pic height by a max of 10%\n",
    "                               rescale = 1/255, # Rescale the image by normalizing it\n",
    "                               shear_range=0.1, # Shear means cutting away part of the image (max 10%)\n",
    "                               zoom_range=0.1, # Zoom in by 10%\n",
    "                               horizontal_flip=True, # Allow horizontal flipping\n",
    "                               fill_mode='nearest' # Fill in missing pixels with the nearest filled value\n",
    "                              )"
   ]
  },
  {
   "cell_type": "code",
   "execution_count": 33,
   "id": "incoming-beaver",
   "metadata": {},
   "outputs": [
    {
     "data": {
      "text/plain": [
       "<matplotlib.image.AxesImage at 0x7f3bd4981970>"
      ]
     },
     "execution_count": 33,
     "metadata": {},
     "output_type": "execute_result"
    },
    {
     "data": {
      "image/png": "[encoded data removed]",
      "text/plain": [
       "<Figure size 720x432 with 1 Axes>"
      ]
     },
     "metadata": {},
     "output_type": "display_data"
    }
   ],
   "source": [
    "para_img = imread(para_cell)\n",
    "plt.imshow(para_img)"
   ]
  },
  {
   "cell_type": "code",
   "execution_count": 34,
   "id": "metallic-norfolk",
   "metadata": {},
   "outputs": [
    {
     "data": {
      "text/plain": [
       "<matplotlib.image.AxesImage at 0x7f3bd48d4790>"
      ]
     },
     "execution_count": 34,
     "metadata": {},
     "output_type": "execute_result"
    },
    {
     "data": {
      "image/png": "[encoded data removed]",
      "text/plain": [
       "<Figure size 720x432 with 1 Axes>"
      ]
     },
     "metadata": {},
     "output_type": "display_data"
    }
   ],
   "source": [
    "# Seeing the random transformation from our generator\n",
    "plt.imshow(image_gen.random_transform(para_img))"
   ]
  },
  {
   "cell_type": "markdown",
   "id": "accredited-aging",
   "metadata": {},
   "source": [
    "### Generating many manipulated images from a directory\n",
    "\n",
    "\n",
    "In order to use .flow_from_directory, you must organize the images in sub-directories. This is an **absolute requirement**, otherwise the method won't work. The directories should only contain images of one class, so one folder per class of images.\n",
    "\n",
    "Structure Needed:\n",
    "\n",
    "* Image Data Folder\n",
    "    * Class 1\n",
    "        * 0.jpg\n",
    "        * 1.jpg\n",
    "        * ...\n",
    "    * Class 2\n",
    "        * 0.jpg\n",
    "        * 1.jpg\n",
    "        * ...\n",
    "    * ...\n",
    "    * Class n\n",
    "    \n",
    "In our folder we already have (for train and test separately) two classes in different folders: `parasitized` and `uninfected`."
   ]
  },
  {
   "cell_type": "code",
   "execution_count": 35,
   "id": "incident-apparatus",
   "metadata": {},
   "outputs": [
    {
     "name": "stdout",
     "output_type": "stream",
     "text": [
      "Found 24958 images belonging to 2 classes.\n"
     ]
    },
    {
     "data": {
      "text/plain": [
       "<tensorflow.python.keras.preprocessing.image.DirectoryIterator at 0x7f3c0114b280>"
      ]
     },
     "execution_count": 35,
     "metadata": {},
     "output_type": "execute_result"
    }
   ],
   "source": [
    "image_gen.flow_from_directory(train_path)"
   ]
  },
  {
   "cell_type": "code",
   "execution_count": 36,
   "id": "gross-jenny",
   "metadata": {},
   "outputs": [
    {
     "name": "stdout",
     "output_type": "stream",
     "text": [
      "Found 2600 images belonging to 2 classes.\n"
     ]
    },
    {
     "data": {
      "text/plain": [
       "<tensorflow.python.keras.preprocessing.image.DirectoryIterator at 0x7f3bd4092700>"
      ]
     },
     "execution_count": 36,
     "metadata": {},
     "output_type": "execute_result"
    }
   ],
   "source": [
    "image_gen.flow_from_directory(test_path)"
   ]
  },
  {
   "cell_type": "markdown",
   "id": "hollow-aquarium",
   "metadata": {},
   "source": [
    "# Creating the Model"
   ]
  },
  {
   "cell_type": "code",
   "execution_count": 37,
   "id": "available-hobby",
   "metadata": {},
   "outputs": [],
   "source": [
    "from tensorflow.keras.models import Sequential\n",
    "from tensorflow.keras.layers import Dense, Conv2D, MaxPool2D, Dropout, Flatten"
   ]
  },
  {
   "cell_type": "code",
   "execution_count": 38,
   "id": "stylish-newcastle",
   "metadata": {},
   "outputs": [],
   "source": [
    "##https://stats.stackexchange.com/questions/148139/rules-for-selecting-convolutional-neural-network-hyperparameters\n",
    "model = Sequential()\n",
    "\n",
    "model.add(Conv2D(filters=32,kernel_size=(3,3),input_shape=image_shape,activation='relu'))\n",
    "model.add(MaxPool2D(pool_size=(2,2)))\n",
    "\n",
    "model.add(Conv2D(filters=64,kernel_size=(3,3),input_shape=image_shape,activation='relu'))\n",
    "model.add(MaxPool2D(pool_size=(2,2)))\n",
    "\n",
    "model.add(Conv2D(filters=64,kernel_size=(3,3),input_shape=image_shape,activation='relu'))\n",
    "model.add(MaxPool2D(pool_size=(2,2)))\n",
    "\n",
    "model.add(Flatten())\n",
    "\n",
    "model.add(Dense(128,activation='relu'))\n",
    "# Dropouts help reduce overfitting by randomly turning neurons off during training.\n",
    "# Here we say randomly turn off 50% of neurons.\n",
    "model.add(Dropout(0.5))\n",
    "\n",
    "model.add(Dense(1,activation='sigmoid'))\n",
    "\n",
    "model.compile(loss='binary_crossentropy', optimizer='adam',\n",
    "              metrics=['accuracy'])"
   ]
  },
  {
   "cell_type": "code",
   "execution_count": 39,
   "id": "likely-partition",
   "metadata": {},
   "outputs": [
    {
     "name": "stdout",
     "output_type": "stream",
     "text": [
      "Model: \"sequential\"\n",
      "_________________________________________________________________\n",
      "Layer (type)                 Output Shape              Param #   \n",
      "=================================================================\n",
      "conv2d (Conv2D)              (None, 128, 128, 32)      896       \n",
      "_________________________________________________________________\n",
      "max_pooling2d (MaxPooling2D) (None, 64, 64, 32)        0         \n",
      "_________________________________________________________________\n",
      "conv2d_1 (Conv2D)            (None, 62, 62, 64)        18496     \n",
      "_________________________________________________________________\n",
      "max_pooling2d_1 (MaxPooling2 (None, 31, 31, 64)        0         \n",
      "_________________________________________________________________\n",
      "conv2d_2 (Conv2D)            (None, 29, 29, 64)        36928     \n",
      "_________________________________________________________________\n",
      "max_pooling2d_2 (MaxPooling2 (None, 14, 14, 64)        0         \n",
      "_________________________________________________________________\n",
      "flatten (Flatten)            (None, 12544)             0         \n",
      "_________________________________________________________________\n",
      "dense (Dense)                (None, 128)               1605760   \n",
      "_________________________________________________________________\n",
      "dropout (Dropout)            (None, 128)               0         \n",
      "_________________________________________________________________\n",
      "dense_1 (Dense)              (None, 1)                 129       \n",
      "=================================================================\n",
      "Total params: 1,662,209\n",
      "Trainable params: 1,662,209\n",
      "Non-trainable params: 0\n",
      "_________________________________________________________________\n"
     ]
    }
   ],
   "source": [
    "model.summary()"
   ]
  },
  {
   "cell_type": "code",
   "execution_count": 40,
   "id": "certified-douglas",
   "metadata": {},
   "outputs": [],
   "source": [
    "from tensorflow.keras.callbacks import EarlyStopping"
   ]
  },
  {
   "cell_type": "code",
   "execution_count": 41,
   "id": "pending-excess",
   "metadata": {},
   "outputs": [],
   "source": [
    "early_stop = EarlyStopping(monitor='val_loss', patience=2)"
   ]
  },
  {
   "cell_type": "code",
   "execution_count": 42,
   "id": "accessory-guyana",
   "metadata": {},
   "outputs": [],
   "source": [
    "batch_size = 16"
   ]
  },
  {
   "cell_type": "code",
   "execution_count": 43,
   "id": "floppy-folder",
   "metadata": {},
   "outputs": [
    {
     "data": {
      "text/plain": [
       "(130, 130)"
      ]
     },
     "execution_count": 43,
     "metadata": {},
     "output_type": "execute_result"
    }
   ],
   "source": [
    "image_shape[:2]"
   ]
  },
  {
   "cell_type": "code",
   "execution_count": 44,
   "id": "excited-berlin",
   "metadata": {},
   "outputs": [
    {
     "name": "stdout",
     "output_type": "stream",
     "text": [
      "Found 24958 images belonging to 2 classes.\n"
     ]
    }
   ],
   "source": [
    "train_image_gen = image_gen.flow_from_directory(train_path,\n",
    "                                                target_size=image_shape[:2],\n",
    "                                                color_mode='rgb',\n",
    "                                                batch_size=batch_size,\n",
    "                                                class_mode='binary')"
   ]
  },
  {
   "cell_type": "code",
   "execution_count": 45,
   "id": "matched-mauritius",
   "metadata": {},
   "outputs": [
    {
     "name": "stdout",
     "output_type": "stream",
     "text": [
      "Found 2600 images belonging to 2 classes.\n"
     ]
    }
   ],
   "source": [
    "test_image_gen = image_gen.flow_from_directory(test_path,\n",
    "                                               target_size=image_shape[:2],\n",
    "                                               color_mode='rgb',\n",
    "                                               batch_size=batch_size,\n",
    "                                               class_mode='binary',\n",
    "                                               shuffle=False) # Test data shouldn't be shuffled (mixes the indices)"
   ]
  },
  {
   "cell_type": "code",
   "execution_count": 46,
   "id": "changing-tracy",
   "metadata": {},
   "outputs": [
    {
     "data": {
      "text/plain": [
       "{'parasitized': 0, 'uninfected': 1}"
      ]
     },
     "execution_count": 46,
     "metadata": {},
     "output_type": "execute_result"
    }
   ],
   "source": [
    "train_image_gen.class_indices"
   ]
  },
  {
   "cell_type": "code",
   "execution_count": 47,
   "id": "liberal-aluminum",
   "metadata": {},
   "outputs": [
    {
     "name": "stdout",
     "output_type": "stream",
     "text": [
      "Epoch 1/20\n",
      "1560/1560 [==============================] - 301s 193ms/step - loss: 0.3441 - accuracy: 0.8538 - val_loss: 0.2079 - val_accuracy: 0.9300\n",
      "Epoch 2/20\n",
      "1560/1560 [==============================] - 302s 193ms/step - loss: 0.1813 - accuracy: 0.9433 - val_loss: 0.1919 - val_accuracy: 0.9423\n",
      "Epoch 3/20\n",
      "1560/1560 [==============================] - 277s 178ms/step - loss: 0.1679 - accuracy: 0.9470 - val_loss: 0.1676 - val_accuracy: 0.9431\n",
      "Epoch 4/20\n",
      "1560/1560 [==============================] - 276s 177ms/step - loss: 0.1619 - accuracy: 0.9488 - val_loss: 0.1685 - val_accuracy: 0.9454\n",
      "Epoch 5/20\n",
      "1560/1560 [==============================] - 276s 177ms/step - loss: 0.1586 - accuracy: 0.9502 - val_loss: 0.2100 - val_accuracy: 0.9396\n"
     ]
    }
   ],
   "source": [
    "results = model.fit(train_image_gen, epochs=20,\n",
    "                              validation_data=test_image_gen,\n",
    "                              callbacks = [early_stop])"
   ]
  },
  {
   "cell_type": "code",
   "execution_count": 56,
   "id": "detected-difficulty",
   "metadata": {},
   "outputs": [],
   "source": [
    "from tensorflow.keras.models import load_model"
   ]
  },
  {
   "cell_type": "code",
   "execution_count": 57,
   "id": "lyric-virtue",
   "metadata": {},
   "outputs": [],
   "source": [
    "model.save('malaria_detector.h5')"
   ]
  },
  {
   "cell_type": "markdown",
   "id": "particular-dealer",
   "metadata": {},
   "source": [
    "# Evaluate the model"
   ]
  },
  {
   "cell_type": "code",
   "execution_count": 58,
   "id": "fundamental-hindu",
   "metadata": {},
   "outputs": [],
   "source": [
    "losses = pd.DataFrame(model.history.history)"
   ]
  },
  {
   "cell_type": "code",
   "execution_count": 59,
   "id": "bronze-astrology",
   "metadata": {},
   "outputs": [
    {
     "data": {
      "text/html": [
       "<div>\n",
       "<style scoped>\n",
       "    .dataframe tbody tr th:only-of-type {\n",
       "        vertical-align: middle;\n",
       "    }\n",
       "\n",
       "    .dataframe tbody tr th {\n",
       "        vertical-align: top;\n",
       "    }\n",
       "\n",
       "    .dataframe thead th {\n",
       "        text-align: right;\n",
       "    }\n",
       "</style>\n",
       "<table border=\"1\" class=\"dataframe\">\n",
       "  <thead>\n",
       "    <tr style=\"text-align: right;\">\n",
       "      <th></th>\n",
       "      <th>loss</th>\n",
       "      <th>accuracy</th>\n",
       "      <th>val_loss</th>\n",
       "      <th>val_accuracy</th>\n",
       "    </tr>\n",
       "  </thead>\n",
       "  <tbody>\n",
       "    <tr>\n",
       "      <th>0</th>\n",
       "      <td>0.344102</td>\n",
       "      <td>0.853834</td>\n",
       "      <td>0.207911</td>\n",
       "      <td>0.930000</td>\n",
       "    </tr>\n",
       "    <tr>\n",
       "      <th>1</th>\n",
       "      <td>0.181316</td>\n",
       "      <td>0.943305</td>\n",
       "      <td>0.191886</td>\n",
       "      <td>0.942308</td>\n",
       "    </tr>\n",
       "    <tr>\n",
       "      <th>2</th>\n",
       "      <td>0.167918</td>\n",
       "      <td>0.946991</td>\n",
       "      <td>0.167614</td>\n",
       "      <td>0.943077</td>\n",
       "    </tr>\n",
       "    <tr>\n",
       "      <th>3</th>\n",
       "      <td>0.161911</td>\n",
       "      <td>0.948754</td>\n",
       "      <td>0.168512</td>\n",
       "      <td>0.945385</td>\n",
       "    </tr>\n",
       "    <tr>\n",
       "      <th>4</th>\n",
       "      <td>0.158587</td>\n",
       "      <td>0.950196</td>\n",
       "      <td>0.209976</td>\n",
       "      <td>0.939615</td>\n",
       "    </tr>\n",
       "  </tbody>\n",
       "</table>\n",
       "</div>"
      ],
      "text/plain": [
       "       loss  accuracy  val_loss  val_accuracy\n",
       "0  0.344102  0.853834  0.207911      0.930000\n",
       "1  0.181316  0.943305  0.191886      0.942308\n",
       "2  0.167918  0.946991  0.167614      0.943077\n",
       "3  0.161911  0.948754  0.168512      0.945385\n",
       "4  0.158587  0.950196  0.209976      0.939615"
      ]
     },
     "execution_count": 59,
     "metadata": {},
     "output_type": "execute_result"
    }
   ],
   "source": [
    "losses"
   ]
  },
  {
   "cell_type": "code",
   "execution_count": 60,
   "id": "revolutionary-sensitivity",
   "metadata": {},
   "outputs": [
    {
     "data": {
      "image/png": "[encoded data removed]",
      "text/plain": [
       "<Figure size 720x432 with 1 Axes>"
      ]
     },
     "metadata": {},
     "output_type": "display_data"
    }
   ],
   "source": [
    "losses[['loss','val_loss']].plot();"
   ]
  },
  {
   "cell_type": "code",
   "execution_count": 62,
   "id": "abroad-metallic",
   "metadata": {},
   "outputs": [
    {
     "name": "stdout",
     "output_type": "stream",
     "text": [
      "163/163 [==============================] - 14s 83ms/step - loss: 0.2126 - accuracy: 0.9419\n"
     ]
    },
    {
     "data": {
      "text/plain": [
       "[0.21255600452423096, 0.9419230818748474]"
      ]
     },
     "execution_count": 62,
     "metadata": {},
     "output_type": "execute_result"
    }
   ],
   "source": [
    "model.evaluate(test_image_gen)"
   ]
  },
  {
   "cell_type": "code",
   "execution_count": 63,
   "id": "contained-section",
   "metadata": {},
   "outputs": [
    {
     "data": {
      "text/plain": [
       "['loss', 'accuracy']"
      ]
     },
     "execution_count": 63,
     "metadata": {},
     "output_type": "execute_result"
    }
   ],
   "source": [
    "model.metrics_names"
   ]
  },
  {
   "cell_type": "code",
   "execution_count": 64,
   "id": "excited-narrow",
   "metadata": {},
   "outputs": [],
   "source": [
    "pred = model.predict(test_image_gen)"
   ]
  },
  {
   "cell_type": "code",
   "execution_count": 65,
   "id": "governmental-integer",
   "metadata": {},
   "outputs": [
    {
     "data": {
      "text/plain": [
       "array([[1.47002165e-05],\n",
       "       [6.15439058e-05],\n",
       "       [1.62303448e-04],\n",
       "       ...,\n",
       "       [9.91016626e-01],\n",
       "       [9.78010535e-01],\n",
       "       [9.87060249e-01]], dtype=float32)"
      ]
     },
     "execution_count": 65,
     "metadata": {},
     "output_type": "execute_result"
    }
   ],
   "source": [
    "pred"
   ]
  },
  {
   "cell_type": "markdown",
   "id": "destroyed-basketball",
   "metadata": {},
   "source": [
    "This returns probabilities."
   ]
  },
  {
   "cell_type": "code",
   "execution_count": 66,
   "id": "quality-message",
   "metadata": {},
   "outputs": [],
   "source": [
    "predictions = pred > 0.5"
   ]
  },
  {
   "cell_type": "markdown",
   "id": "behavioral-bearing",
   "metadata": {},
   "source": [
    "This is something you could tune! The threshold of 0.5 can be changed..."
   ]
  },
  {
   "cell_type": "code",
   "execution_count": 67,
   "id": "attempted-milton",
   "metadata": {},
   "outputs": [
    {
     "data": {
      "text/plain": [
       "array([[False],\n",
       "       [False],\n",
       "       [False],\n",
       "       ...,\n",
       "       [ True],\n",
       "       [ True],\n",
       "       [ True]])"
      ]
     },
     "execution_count": 67,
     "metadata": {},
     "output_type": "execute_result"
    }
   ],
   "source": [
    "predictions"
   ]
  },
  {
   "cell_type": "code",
   "execution_count": 68,
   "id": "sustainable-disposition",
   "metadata": {},
   "outputs": [
    {
     "data": {
      "text/plain": [
       "2600"
      ]
     },
     "execution_count": 68,
     "metadata": {},
     "output_type": "execute_result"
    }
   ],
   "source": [
    "len(pred) # Should be 1300+1300 for the entire test set"
   ]
  },
  {
   "cell_type": "code",
   "execution_count": 69,
   "id": "leading-niagara",
   "metadata": {},
   "outputs": [],
   "source": [
    "from sklearn.metrics import classification_report, confusion_matrix"
   ]
  },
  {
   "cell_type": "code",
   "execution_count": 70,
   "id": "gorgeous-packaging",
   "metadata": {},
   "outputs": [
    {
     "data": {
      "text/plain": [
       "array([0, 0, 0, ..., 1, 1, 1], dtype=int32)"
      ]
     },
     "execution_count": 70,
     "metadata": {},
     "output_type": "execute_result"
    }
   ],
   "source": [
    "test_image_gen.classes # This are our y_test values!"
   ]
  },
  {
   "cell_type": "code",
   "execution_count": 71,
   "id": "pressing-illustration",
   "metadata": {},
   "outputs": [
    {
     "name": "stdout",
     "output_type": "stream",
     "text": [
      "              precision    recall  f1-score   support\n",
      "\n",
      "           0       0.98      0.90      0.94      1300\n",
      "           1       0.91      0.98      0.94      1300\n",
      "\n",
      "    accuracy                           0.94      2600\n",
      "   macro avg       0.94      0.94      0.94      2600\n",
      "weighted avg       0.94      0.94      0.94      2600\n",
      "\n"
     ]
    }
   ],
   "source": [
    "print(classification_report(test_image_gen.classes, predictions))"
   ]
  },
  {
   "cell_type": "code",
   "execution_count": 72,
   "id": "adverse-houston",
   "metadata": {},
   "outputs": [
    {
     "data": {
      "text/plain": [
       "array([[1168,  132],\n",
       "       [  29, 1271]])"
      ]
     },
     "execution_count": 72,
     "metadata": {},
     "output_type": "execute_result"
    }
   ],
   "source": [
    "confusion_matrix(test_image_gen.classes, predictions)"
   ]
  },
  {
   "cell_type": "code",
   "execution_count": 74,
   "id": "persistent-party",
   "metadata": {},
   "outputs": [
    {
     "data": {
      "text/plain": [
       "<AxesSubplot:>"
      ]
     },
     "execution_count": 74,
     "metadata": {},
     "output_type": "execute_result"
    },
    {
     "data": {
      "image/png": "[encoded data removed]",
      "text/plain": [
       "<Figure size 720x432 with 2 Axes>"
      ]
     },
     "metadata": {},
     "output_type": "display_data"
    }
   ],
   "source": [
    "sns.heatmap(confusion_matrix(test_image_gen.classes, predictions), annot=True,\n",
    "            cmap='viridis')"
   ]
  },
  {
   "cell_type": "markdown",
   "id": "little-european",
   "metadata": {},
   "source": [
    "# Predicting on an Image"
   ]
  },
  {
   "cell_type": "code",
   "execution_count": 75,
   "id": "imperial-object",
   "metadata": {},
   "outputs": [],
   "source": [
    "from tensorflow.keras.preprocessing import image"
   ]
  },
  {
   "cell_type": "code",
   "execution_count": 77,
   "id": "accepting-cambodia",
   "metadata": {},
   "outputs": [],
   "source": [
    "my_image = image.load_img(para_cell, target_size=image_shape)"
   ]
  },
  {
   "cell_type": "code",
   "execution_count": 78,
   "id": "level-asthma",
   "metadata": {},
   "outputs": [
    {
     "data": {
      "image/png": "[encoded data removed]",
      "text/plain": [
       "<PIL.Image.Image image mode=RGB size=130x130 at 0x7F3BCCB391F0>"
      ]
     },
     "execution_count": 78,
     "metadata": {},
     "output_type": "execute_result"
    }
   ],
   "source": [
    "my_image"
   ]
  },
  {
   "cell_type": "code",
   "execution_count": 79,
   "id": "planned-construction",
   "metadata": {},
   "outputs": [],
   "source": [
    "my_img_arr = image.img_to_array(my_image)"
   ]
  },
  {
   "cell_type": "code",
   "execution_count": 80,
   "id": "clean-negotiation",
   "metadata": {},
   "outputs": [
    {
     "data": {
      "text/plain": [
       "array([[[0., 0., 0.],\n",
       "        [0., 0., 0.],\n",
       "        [0., 0., 0.],\n",
       "        ...,\n",
       "        [0., 0., 0.],\n",
       "        [0., 0., 0.],\n",
       "        [0., 0., 0.]],\n",
       "\n",
       "       [[0., 0., 0.],\n",
       "        [0., 0., 0.],\n",
       "        [0., 0., 0.],\n",
       "        ...,\n",
       "        [0., 0., 0.],\n",
       "        [0., 0., 0.],\n",
       "        [0., 0., 0.]],\n",
       "\n",
       "       [[0., 0., 0.],\n",
       "        [0., 0., 0.],\n",
       "        [0., 0., 0.],\n",
       "        ...,\n",
       "        [0., 0., 0.],\n",
       "        [0., 0., 0.],\n",
       "        [0., 0., 0.]],\n",
       "\n",
       "       ...,\n",
       "\n",
       "       [[0., 0., 0.],\n",
       "        [0., 0., 0.],\n",
       "        [0., 0., 0.],\n",
       "        ...,\n",
       "        [0., 0., 0.],\n",
       "        [0., 0., 0.],\n",
       "        [0., 0., 0.]],\n",
       "\n",
       "       [[0., 0., 0.],\n",
       "        [0., 0., 0.],\n",
       "        [0., 0., 0.],\n",
       "        ...,\n",
       "        [0., 0., 0.],\n",
       "        [0., 0., 0.],\n",
       "        [0., 0., 0.]],\n",
       "\n",
       "       [[0., 0., 0.],\n",
       "        [0., 0., 0.],\n",
       "        [0., 0., 0.],\n",
       "        ...,\n",
       "        [0., 0., 0.],\n",
       "        [0., 0., 0.],\n",
       "        [0., 0., 0.]]], dtype=float32)"
      ]
     },
     "execution_count": 80,
     "metadata": {},
     "output_type": "execute_result"
    }
   ],
   "source": [
    "my_img_arr"
   ]
  },
  {
   "cell_type": "code",
   "execution_count": 81,
   "id": "surprised-office",
   "metadata": {},
   "outputs": [
    {
     "data": {
      "text/plain": [
       "(130, 130, 3)"
      ]
     },
     "execution_count": 81,
     "metadata": {},
     "output_type": "execute_result"
    }
   ],
   "source": [
    "my_img_arr.shape"
   ]
  },
  {
   "cell_type": "markdown",
   "id": "differential-advance",
   "metadata": {},
   "source": [
    "We need to reshape the image to have (1,130,130,3), as (number of images, width, height, color channels)."
   ]
  },
  {
   "cell_type": "code",
   "execution_count": 82,
   "id": "stretch-appointment",
   "metadata": {},
   "outputs": [],
   "source": [
    "my_img_arr = np.expand_dims(my_img_arr, axis=0)"
   ]
  },
  {
   "cell_type": "code",
   "execution_count": 83,
   "id": "lasting-coach",
   "metadata": {},
   "outputs": [
    {
     "data": {
      "text/plain": [
       "(1, 130, 130, 3)"
      ]
     },
     "execution_count": 83,
     "metadata": {},
     "output_type": "execute_result"
    }
   ],
   "source": [
    "my_img_arr.shape"
   ]
  },
  {
   "cell_type": "code",
   "execution_count": 84,
   "id": "alternative-parade",
   "metadata": {},
   "outputs": [
    {
     "data": {
      "text/plain": [
       "array([[0.]], dtype=float32)"
      ]
     },
     "execution_count": 84,
     "metadata": {},
     "output_type": "execute_result"
    }
   ],
   "source": [
    "model.predict(my_img_arr)"
   ]
  },
  {
   "cell_type": "code",
   "execution_count": 85,
   "id": "female-grenada",
   "metadata": {},
   "outputs": [
    {
     "data": {
      "text/plain": [
       "{'parasitized': 0, 'uninfected': 1}"
      ]
     },
     "execution_count": 85,
     "metadata": {},
     "output_type": "execute_result"
    }
   ],
   "source": [
    "test_image_gen.class_indices"
   ]
  },
  {
   "cell_type": "markdown",
   "id": "urban-abuse",
   "metadata": {},
   "source": [
    "Predicted as `parasitized`, which looks correct from:"
   ]
  },
  {
   "cell_type": "code",
   "execution_count": 86,
   "id": "federal-generic",
   "metadata": {},
   "outputs": [
    {
     "data": {
      "image/png": "[encoded data removed]",
      "text/plain": [
       "<PIL.Image.Image image mode=RGB size=130x130 at 0x7F3BCCB391F0>"
      ]
     },
     "execution_count": 86,
     "metadata": {},
     "output_type": "execute_result"
    }
   ],
   "source": [
    "my_image"
   ]
  },
  {
   "cell_type": "code",
   "execution_count": null,
   "id": "finished-ultimate",
   "metadata": {},
   "outputs": [],
   "source": []
  }
 ],
 "metadata": {
  "kernelspec": {
   "display_name": "Python 3",
   "language": "python",
   "name": "python3"
  },
  "language_info": {
   "codemirror_mode": {
    "name": "ipython",
    "version": 3
   },
   "file_extension": ".py",
   "mimetype": "text/x-python",
   "name": "python",
   "nbconvert_exporter": "python",
   "pygments_lexer": "ipython3",
   "version": "3.8.5"
  }
 },
 "nbformat": 4,
 "nbformat_minor": 5
}
