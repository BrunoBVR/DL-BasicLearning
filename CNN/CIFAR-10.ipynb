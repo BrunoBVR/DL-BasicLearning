{
 "cells": [
  {
   "cell_type": "code",
   "execution_count": 1,
   "id": "recovered-moderator",
   "metadata": {},
   "outputs": [],
   "source": [
    "import pandas as pd\n",
    "import numpy as np\n",
    "import matplotlib.pyplot as plt\n",
    "import seaborn as sns\n",
    "\n",
    "%config Completer.use_jedi = False        # For autocomplete to work!"
   ]
  },
  {
   "cell_type": "code",
   "execution_count": 2,
   "id": "earned-juice",
   "metadata": {},
   "outputs": [],
   "source": [
    "sns.set(rc={'figure.figsize':(8,5)})\n",
    "sns.set_style('whitegrid')\n",
    "sns.set_palette('Set2')"
   ]
  },
  {
   "cell_type": "markdown",
   "id": "medium-reservoir",
   "metadata": {},
   "source": [
    "# The Data\n",
    "\n",
    "CIFAR-10 is a dataset of 50,000 32x32 color training images, labeled over 10 categories, and 10,000 test images."
   ]
  },
  {
   "cell_type": "code",
   "execution_count": 3,
   "id": "suburban-omaha",
   "metadata": {},
   "outputs": [],
   "source": [
    "from tensorflow.keras.datasets import cifar10"
   ]
  },
  {
   "cell_type": "code",
   "execution_count": 4,
   "id": "sexual-correction",
   "metadata": {},
   "outputs": [],
   "source": [
    "(X_train, y_train),(X_test, y_test)=cifar10.load_data()"
   ]
  },
  {
   "cell_type": "code",
   "execution_count": 5,
   "id": "boolean-potato",
   "metadata": {},
   "outputs": [
    {
     "data": {
      "text/plain": [
       "(50000, 32, 32, 3)"
      ]
     },
     "execution_count": 5,
     "metadata": {},
     "output_type": "execute_result"
    }
   ],
   "source": [
    "X_train.shape"
   ]
  },
  {
   "cell_type": "code",
   "execution_count": 6,
   "id": "royal-scroll",
   "metadata": {},
   "outputs": [],
   "source": [
    "# Notice 3 color channels"
   ]
  },
  {
   "cell_type": "code",
   "execution_count": 7,
   "id": "abroad-coffee",
   "metadata": {},
   "outputs": [
    {
     "data": {
      "text/plain": [
       "array([[[ 59,  62,  63],\n",
       "        [ 43,  46,  45],\n",
       "        [ 50,  48,  43],\n",
       "        ...,\n",
       "        [158, 132, 108],\n",
       "        [152, 125, 102],\n",
       "        [148, 124, 103]],\n",
       "\n",
       "       [[ 16,  20,  20],\n",
       "        [  0,   0,   0],\n",
       "        [ 18,   8,   0],\n",
       "        ...,\n",
       "        [123,  88,  55],\n",
       "        [119,  83,  50],\n",
       "        [122,  87,  57]],\n",
       "\n",
       "       [[ 25,  24,  21],\n",
       "        [ 16,   7,   0],\n",
       "        [ 49,  27,   8],\n",
       "        ...,\n",
       "        [118,  84,  50],\n",
       "        [120,  84,  50],\n",
       "        [109,  73,  42]],\n",
       "\n",
       "       ...,\n",
       "\n",
       "       [[208, 170,  96],\n",
       "        [201, 153,  34],\n",
       "        [198, 161,  26],\n",
       "        ...,\n",
       "        [160, 133,  70],\n",
       "        [ 56,  31,   7],\n",
       "        [ 53,  34,  20]],\n",
       "\n",
       "       [[180, 139,  96],\n",
       "        [173, 123,  42],\n",
       "        [186, 144,  30],\n",
       "        ...,\n",
       "        [184, 148,  94],\n",
       "        [ 97,  62,  34],\n",
       "        [ 83,  53,  34]],\n",
       "\n",
       "       [[177, 144, 116],\n",
       "        [168, 129,  94],\n",
       "        [179, 142,  87],\n",
       "        ...,\n",
       "        [216, 184, 140],\n",
       "        [151, 118,  84],\n",
       "        [123,  92,  72]]], dtype=uint8)"
      ]
     },
     "execution_count": 7,
     "metadata": {},
     "output_type": "execute_result"
    }
   ],
   "source": [
    "X_train[0]"
   ]
  },
  {
   "cell_type": "code",
   "execution_count": 8,
   "id": "owned-trunk",
   "metadata": {},
   "outputs": [
    {
     "data": {
      "text/plain": [
       "<matplotlib.image.AxesImage at 0x7fe512319250>"
      ]
     },
     "execution_count": 8,
     "metadata": {},
     "output_type": "execute_result"
    },
    {
     "data": {
      "image/png": "[encoded data removed]",
      "text/plain": [
       "<Figure size 576x360 with 1 Axes>"
      ]
     },
     "metadata": {},
     "output_type": "display_data"
    }
   ],
   "source": [
    "plt.imshow(X_train[0])"
   ]
  },
  {
   "cell_type": "code",
   "execution_count": 9,
   "id": "binary-interim",
   "metadata": {},
   "outputs": [],
   "source": [
    "# If we really try we can see a frog!"
   ]
  },
  {
   "cell_type": "code",
   "execution_count": 10,
   "id": "emerging-algorithm",
   "metadata": {},
   "outputs": [
    {
     "data": {
      "text/plain": [
       "<matplotlib.image.AxesImage at 0x7fe5101e59d0>"
      ]
     },
     "execution_count": 10,
     "metadata": {},
     "output_type": "execute_result"
    },
    {
     "data": {
      "image/png": "[encoded data removed]",
      "text/plain": [
       "<Figure size 576x360 with 1 Axes>"
      ]
     },
     "metadata": {},
     "output_type": "display_data"
    }
   ],
   "source": [
    "plt.imshow(X_train[12])"
   ]
  },
  {
   "cell_type": "code",
   "execution_count": 11,
   "id": "noble-public",
   "metadata": {},
   "outputs": [],
   "source": [
    "# Maybe a horse..."
   ]
  },
  {
   "cell_type": "markdown",
   "id": "adjustable-mouse",
   "metadata": {},
   "source": [
    "# PreProcessing"
   ]
  },
  {
   "cell_type": "code",
   "execution_count": 12,
   "id": "empirical-solomon",
   "metadata": {},
   "outputs": [
    {
     "data": {
      "text/plain": [
       "255"
      ]
     },
     "execution_count": 12,
     "metadata": {},
     "output_type": "execute_result"
    }
   ],
   "source": [
    "X_train[0].max()"
   ]
  },
  {
   "cell_type": "code",
   "execution_count": 13,
   "id": "heavy-offense",
   "metadata": {},
   "outputs": [],
   "source": [
    "X_train = X_train/255\n",
    "X_test = X_test/255"
   ]
  },
  {
   "cell_type": "code",
   "execution_count": 14,
   "id": "dense-williams",
   "metadata": {},
   "outputs": [
    {
     "data": {
      "text/plain": [
       "1.0"
      ]
     },
     "execution_count": 14,
     "metadata": {},
     "output_type": "execute_result"
    }
   ],
   "source": [
    "X_train[0].max()"
   ]
  },
  {
   "cell_type": "code",
   "execution_count": 15,
   "id": "focal-paraguay",
   "metadata": {},
   "outputs": [
    {
     "data": {
      "text/plain": [
       "(10000, 32, 32, 3)"
      ]
     },
     "execution_count": 15,
     "metadata": {},
     "output_type": "execute_result"
    }
   ],
   "source": [
    "X_test.shape"
   ]
  },
  {
   "cell_type": "code",
   "execution_count": 16,
   "id": "alpine-preparation",
   "metadata": {},
   "outputs": [],
   "source": [
    "# 10000 images in test set"
   ]
  },
  {
   "cell_type": "markdown",
   "id": "streaming-diagnosis",
   "metadata": {},
   "source": [
    "## Labels\n",
    "\n",
    "One-hot encoding."
   ]
  },
  {
   "cell_type": "code",
   "execution_count": 17,
   "id": "spanish-honor",
   "metadata": {},
   "outputs": [],
   "source": [
    "from tensorflow.keras.utils import to_categorical"
   ]
  },
  {
   "cell_type": "code",
   "execution_count": 18,
   "id": "missing-begin",
   "metadata": {},
   "outputs": [],
   "source": [
    "y_cat_train = to_categorical(y_train, 10)\n",
    "y_cat_test = to_categorical(y_test, 10)"
   ]
  },
  {
   "cell_type": "code",
   "execution_count": 19,
   "id": "electoral-penetration",
   "metadata": {},
   "outputs": [
    {
     "data": {
      "text/plain": [
       "array([6], dtype=uint8)"
      ]
     },
     "execution_count": 19,
     "metadata": {},
     "output_type": "execute_result"
    }
   ],
   "source": [
    "y_train[0]"
   ]
  },
  {
   "cell_type": "markdown",
   "id": "valid-basket",
   "metadata": {},
   "source": [
    "Check [here](https://www.cs.toronto.edu/~kriz/cifar.html) for label of each figure. Ex.: label 6 corresponds to a frog."
   ]
  },
  {
   "cell_type": "markdown",
   "id": "everyday-debate",
   "metadata": {},
   "source": [
    "----------\n",
    "# Building the Model"
   ]
  },
  {
   "cell_type": "code",
   "execution_count": 20,
   "id": "blind-financing",
   "metadata": {},
   "outputs": [],
   "source": [
    "from tensorflow.keras.models import Sequential\n",
    "from tensorflow.keras.layers import Dense, Conv2D, MaxPool2D, Flatten"
   ]
  },
  {
   "cell_type": "markdown",
   "id": "aquatic-volleyball",
   "metadata": {},
   "source": [
    "As images get more copmlex, it is a good ideia to add more convolutional and pooling layers (compared to MNIST)."
   ]
  },
  {
   "cell_type": "code",
   "execution_count": 21,
   "id": "durable-hungarian",
   "metadata": {},
   "outputs": [],
   "source": [
    "model = Sequential()\n",
    "\n",
    "# Convolutional layer\n",
    "model.add(Conv2D(filters=32, kernel_size=(4,4), strides=(1,1), padding='valid',\n",
    "                 input_shape=(32,32,3), activation = 'relu'))\n",
    "# Pooling layer\n",
    "model.add(MaxPool2D(pool_size=(2,2)))\n",
    "\n",
    "# Convolutional layer\n",
    "model.add(Conv2D(filters=32, kernel_size=(4,4), strides=(1,1), padding='valid',\n",
    "                 input_shape=(32,32,3), activation = 'relu'))\n",
    "# Pooling layer\n",
    "model.add(MaxPool2D(pool_size=(2,2)))\n",
    "\n",
    "# Flattening\n",
    "model.add(Flatten())\n",
    "\n",
    "# Final dense layer\n",
    "model.add(Dense(256, activation='relu'))\n",
    "\n",
    "# Final output layer\n",
    "model.add(Dense(10, activation='softmax'))\n",
    "\n",
    "# Compile\n",
    "model.compile(loss='categorical_crossentropy', optimizer='adam',\n",
    "              metrics=['accuracy'])"
   ]
  },
  {
   "cell_type": "code",
   "execution_count": 22,
   "id": "helpful-archives",
   "metadata": {},
   "outputs": [
    {
     "name": "stdout",
     "output_type": "stream",
     "text": [
      "Model: \"sequential\"\n",
      "_________________________________________________________________\n",
      "Layer (type)                 Output Shape              Param #   \n",
      "=================================================================\n",
      "conv2d (Conv2D)              (None, 29, 29, 32)        1568      \n",
      "_________________________________________________________________\n",
      "max_pooling2d (MaxPooling2D) (None, 14, 14, 32)        0         \n",
      "_________________________________________________________________\n",
      "conv2d_1 (Conv2D)            (None, 11, 11, 32)        16416     \n",
      "_________________________________________________________________\n",
      "max_pooling2d_1 (MaxPooling2 (None, 5, 5, 32)          0         \n",
      "_________________________________________________________________\n",
      "flatten (Flatten)            (None, 800)               0         \n",
      "_________________________________________________________________\n",
      "dense (Dense)                (None, 256)               205056    \n",
      "_________________________________________________________________\n",
      "dense_1 (Dense)              (None, 10)                2570      \n",
      "=================================================================\n",
      "Total params: 225,610\n",
      "Trainable params: 225,610\n",
      "Non-trainable params: 0\n",
      "_________________________________________________________________\n"
     ]
    }
   ],
   "source": [
    "model.summary()"
   ]
  },
  {
   "cell_type": "code",
   "execution_count": 23,
   "id": "choice-penny",
   "metadata": {},
   "outputs": [],
   "source": [
    "from tensorflow.keras.callbacks import EarlyStopping"
   ]
  },
  {
   "cell_type": "code",
   "execution_count": 24,
   "id": "completed-health",
   "metadata": {},
   "outputs": [],
   "source": [
    "early_stop = EarlyStopping(monitor='val_loss', patience=2)"
   ]
  },
  {
   "cell_type": "code",
   "execution_count": 25,
   "id": "narrative-relief",
   "metadata": {},
   "outputs": [
    {
     "name": "stdout",
     "output_type": "stream",
     "text": [
      "Epoch 1/20\n",
      "1563/1563 [==============================] - 28s 18ms/step - loss: 1.4859 - accuracy: 0.4621 - val_loss: 1.2653 - val_accuracy: 0.5556\n",
      "Epoch 2/20\n",
      "1563/1563 [==============================] - 32s 20ms/step - loss: 1.1587 - accuracy: 0.5915 - val_loss: 1.1055 - val_accuracy: 0.6108\n",
      "Epoch 3/20\n",
      "1563/1563 [==============================] - 32s 21ms/step - loss: 1.0075 - accuracy: 0.6487 - val_loss: 1.0512 - val_accuracy: 0.6287\n",
      "Epoch 4/20\n",
      "1563/1563 [==============================] - 32s 20ms/step - loss: 0.8933 - accuracy: 0.6893 - val_loss: 1.0380 - val_accuracy: 0.6392\n",
      "Epoch 5/20\n",
      "1563/1563 [==============================] - 30s 19ms/step - loss: 0.8020 - accuracy: 0.7211 - val_loss: 0.9884 - val_accuracy: 0.6657\n",
      "Epoch 6/20\n",
      "1563/1563 [==============================] - 30s 19ms/step - loss: 0.7243 - accuracy: 0.7481 - val_loss: 0.9817 - val_accuracy: 0.6703\n",
      "Epoch 7/20\n",
      "1563/1563 [==============================] - 25s 16ms/step - loss: 0.6563 - accuracy: 0.7714 - val_loss: 0.9807 - val_accuracy: 0.6758\n",
      "Epoch 8/20\n",
      "1563/1563 [==============================] - 26s 17ms/step - loss: 0.5897 - accuracy: 0.7939 - val_loss: 1.0522 - val_accuracy: 0.6690\n",
      "Epoch 9/20\n",
      "1563/1563 [==============================] - 30s 19ms/step - loss: 0.5376 - accuracy: 0.8114 - val_loss: 1.0840 - val_accuracy: 0.6658\n"
     ]
    },
    {
     "data": {
      "text/plain": [
       "<tensorflow.python.keras.callbacks.History at 0x7fe4b44f2040>"
      ]
     },
     "execution_count": 25,
     "metadata": {},
     "output_type": "execute_result"
    }
   ],
   "source": [
    "model.fit(X_train,y_cat_train, epochs = 20,\n",
    "          validation_data=(X_test,y_cat_test),\n",
    "          callbacks=[early_stop])"
   ]
  },
  {
   "cell_type": "code",
   "execution_count": 26,
   "id": "continuing-murder",
   "metadata": {},
   "outputs": [],
   "source": [
    "metrics = pd.DataFrame(model.history.history)"
   ]
  },
  {
   "cell_type": "code",
   "execution_count": 27,
   "id": "secondary-lover",
   "metadata": {},
   "outputs": [
    {
     "data": {
      "text/html": [
       "<div>\n",
       "<style scoped>\n",
       "    .dataframe tbody tr th:only-of-type {\n",
       "        vertical-align: middle;\n",
       "    }\n",
       "\n",
       "    .dataframe tbody tr th {\n",
       "        vertical-align: top;\n",
       "    }\n",
       "\n",
       "    .dataframe thead th {\n",
       "        text-align: right;\n",
       "    }\n",
       "</style>\n",
       "<table border=\"1\" class=\"dataframe\">\n",
       "  <thead>\n",
       "    <tr style=\"text-align: right;\">\n",
       "      <th></th>\n",
       "      <th>loss</th>\n",
       "      <th>accuracy</th>\n",
       "      <th>val_loss</th>\n",
       "      <th>val_accuracy</th>\n",
       "    </tr>\n",
       "  </thead>\n",
       "  <tbody>\n",
       "    <tr>\n",
       "      <th>0</th>\n",
       "      <td>1.485943</td>\n",
       "      <td>0.46210</td>\n",
       "      <td>1.265288</td>\n",
       "      <td>0.5556</td>\n",
       "    </tr>\n",
       "    <tr>\n",
       "      <th>1</th>\n",
       "      <td>1.158676</td>\n",
       "      <td>0.59154</td>\n",
       "      <td>1.105522</td>\n",
       "      <td>0.6108</td>\n",
       "    </tr>\n",
       "    <tr>\n",
       "      <th>2</th>\n",
       "      <td>1.007477</td>\n",
       "      <td>0.64874</td>\n",
       "      <td>1.051223</td>\n",
       "      <td>0.6287</td>\n",
       "    </tr>\n",
       "    <tr>\n",
       "      <th>3</th>\n",
       "      <td>0.893284</td>\n",
       "      <td>0.68932</td>\n",
       "      <td>1.038044</td>\n",
       "      <td>0.6392</td>\n",
       "    </tr>\n",
       "    <tr>\n",
       "      <th>4</th>\n",
       "      <td>0.801994</td>\n",
       "      <td>0.72114</td>\n",
       "      <td>0.988416</td>\n",
       "      <td>0.6657</td>\n",
       "    </tr>\n",
       "    <tr>\n",
       "      <th>5</th>\n",
       "      <td>0.724306</td>\n",
       "      <td>0.74808</td>\n",
       "      <td>0.981659</td>\n",
       "      <td>0.6703</td>\n",
       "    </tr>\n",
       "    <tr>\n",
       "      <th>6</th>\n",
       "      <td>0.656339</td>\n",
       "      <td>0.77138</td>\n",
       "      <td>0.980750</td>\n",
       "      <td>0.6758</td>\n",
       "    </tr>\n",
       "    <tr>\n",
       "      <th>7</th>\n",
       "      <td>0.589728</td>\n",
       "      <td>0.79390</td>\n",
       "      <td>1.052196</td>\n",
       "      <td>0.6690</td>\n",
       "    </tr>\n",
       "    <tr>\n",
       "      <th>8</th>\n",
       "      <td>0.537564</td>\n",
       "      <td>0.81140</td>\n",
       "      <td>1.083971</td>\n",
       "      <td>0.6658</td>\n",
       "    </tr>\n",
       "  </tbody>\n",
       "</table>\n",
       "</div>"
      ],
      "text/plain": [
       "       loss  accuracy  val_loss  val_accuracy\n",
       "0  1.485943   0.46210  1.265288        0.5556\n",
       "1  1.158676   0.59154  1.105522        0.6108\n",
       "2  1.007477   0.64874  1.051223        0.6287\n",
       "3  0.893284   0.68932  1.038044        0.6392\n",
       "4  0.801994   0.72114  0.988416        0.6657\n",
       "5  0.724306   0.74808  0.981659        0.6703\n",
       "6  0.656339   0.77138  0.980750        0.6758\n",
       "7  0.589728   0.79390  1.052196        0.6690\n",
       "8  0.537564   0.81140  1.083971        0.6658"
      ]
     },
     "execution_count": 27,
     "metadata": {},
     "output_type": "execute_result"
    }
   ],
   "source": [
    "metrics"
   ]
  },
  {
   "cell_type": "code",
   "execution_count": 28,
   "id": "collected-satisfaction",
   "metadata": {},
   "outputs": [
    {
     "data": {
      "text/plain": [
       "Index(['loss', 'accuracy', 'val_loss', 'val_accuracy'], dtype='object')"
      ]
     },
     "execution_count": 28,
     "metadata": {},
     "output_type": "execute_result"
    }
   ],
   "source": [
    "metrics.columns"
   ]
  },
  {
   "cell_type": "code",
   "execution_count": 29,
   "id": "shared-sunrise",
   "metadata": {},
   "outputs": [
    {
     "data": {
      "text/plain": [
       "<AxesSubplot:>"
      ]
     },
     "execution_count": 29,
     "metadata": {},
     "output_type": "execute_result"
    },
    {
     "data": {
      "image/png": "[encoded data removed]",
      "text/plain": [
       "<Figure size 576x360 with 1 Axes>"
      ]
     },
     "metadata": {},
     "output_type": "display_data"
    }
   ],
   "source": [
    "metrics[['accuracy','val_accuracy']].plot()"
   ]
  },
  {
   "cell_type": "code",
   "execution_count": 30,
   "id": "cardiac-starter",
   "metadata": {},
   "outputs": [
    {
     "data": {
      "text/plain": [
       "<AxesSubplot:>"
      ]
     },
     "execution_count": 30,
     "metadata": {},
     "output_type": "execute_result"
    },
    {
     "data": {
      "image/png": "[encoded data removed]",
      "text/plain": [
       "<Figure size 576x360 with 1 Axes>"
      ]
     },
     "metadata": {},
     "output_type": "display_data"
    }
   ],
   "source": [
    "metrics[['loss','val_loss']].plot()"
   ]
  },
  {
   "cell_type": "code",
   "execution_count": 31,
   "id": "removable-values",
   "metadata": {},
   "outputs": [
    {
     "name": "stdout",
     "output_type": "stream",
     "text": [
      "313/313 [==============================] - 1s 3ms/step - loss: 1.0840 - accuracy: 0.6658\n"
     ]
    },
    {
     "data": {
      "text/plain": [
       "[1.083970546722412, 0.6657999753952026]"
      ]
     },
     "execution_count": 31,
     "metadata": {},
     "output_type": "execute_result"
    }
   ],
   "source": [
    "model.evaluate(X_test, y_cat_test, verbose=1)"
   ]
  },
  {
   "cell_type": "code",
   "execution_count": 32,
   "id": "floppy-burden",
   "metadata": {},
   "outputs": [],
   "source": [
    "from sklearn.metrics import classification_report, confusion_matrix"
   ]
  },
  {
   "cell_type": "code",
   "execution_count": 36,
   "id": "voluntary-korean",
   "metadata": {},
   "outputs": [],
   "source": [
    "predictions = np.argmax(model.predict(X_test), axis=-1)"
   ]
  },
  {
   "cell_type": "code",
   "execution_count": 37,
   "id": "abandoned-examination",
   "metadata": {},
   "outputs": [
    {
     "name": "stdout",
     "output_type": "stream",
     "text": [
      "              precision    recall  f1-score   support\n",
      "\n",
      "           0       0.79      0.69      0.73      1000\n",
      "           1       0.82      0.75      0.78      1000\n",
      "           2       0.55      0.57      0.56      1000\n",
      "           3       0.47      0.45      0.46      1000\n",
      "           4       0.64      0.62      0.63      1000\n",
      "           5       0.46      0.68      0.55      1000\n",
      "           6       0.78      0.72      0.75      1000\n",
      "           7       0.74      0.68      0.71      1000\n",
      "           8       0.86      0.70      0.77      1000\n",
      "           9       0.72      0.80      0.76      1000\n",
      "\n",
      "    accuracy                           0.67     10000\n",
      "   macro avg       0.68      0.67      0.67     10000\n",
      "weighted avg       0.68      0.67      0.67     10000\n",
      "\n"
     ]
    }
   ],
   "source": [
    "print(classification_report(y_test, predictions))"
   ]
  },
  {
   "cell_type": "code",
   "execution_count": 38,
   "id": "industrial-natural",
   "metadata": {},
   "outputs": [
    {
     "data": {
      "text/plain": [
       "array([[687,  28,  61,  29,  27,  29,  19,  14,  56,  50],\n",
       "       [ 19, 747,  16,  18,   7,  20,  18,   8,  10, 137],\n",
       "       [ 54,   4, 574,  69,  79, 118,  48,  30,  10,  14],\n",
       "       [  5,   8,  75, 450,  59, 290,  53,  38,   4,  18],\n",
       "       [ 13,   3, 100,  76, 619,  87,  27,  62,   8,   5],\n",
       "       [  9,   3,  68, 133,  40, 683,  10,  45,   1,   8],\n",
       "       [  2,   8,  68,  76,  45,  66, 717,  10,   3,   5],\n",
       "       [  5,   5,  40,  48,  61, 135,   5, 684,   1,  16],\n",
       "       [ 65,  46,  25,  42,  17,  29,  13,   8, 698,  57],\n",
       "       [ 16,  63,  13,  24,  11,  20,  10,  24,  20, 799]])"
      ]
     },
     "execution_count": 38,
     "metadata": {},
     "output_type": "execute_result"
    }
   ],
   "source": [
    "confusion_matrix(y_test, predicitions)"
   ]
  },
  {
   "cell_type": "code",
   "execution_count": 39,
   "id": "italic-singles",
   "metadata": {},
   "outputs": [
    {
     "data": {
      "image/png": "[encoded data removed]",
      "text/plain": [
       "<Figure size 864x864 with 2 Axes>"
      ]
     },
     "metadata": {},
     "output_type": "display_data"
    }
   ],
   "source": [
    "plt.figure(figsize=(12,12))\n",
    "sns.heatmap(confusion_matrix(y_test, predicitions), annot=True);"
   ]
  },
  {
   "cell_type": "markdown",
   "id": "compliant-margin",
   "metadata": {},
   "source": [
    "# Predicting a given image"
   ]
  },
  {
   "cell_type": "code",
   "execution_count": 40,
   "id": "auburn-aquatic",
   "metadata": {},
   "outputs": [],
   "source": [
    "my_image = X_test[0]"
   ]
  },
  {
   "cell_type": "code",
   "execution_count": 42,
   "id": "naughty-orleans",
   "metadata": {},
   "outputs": [
    {
     "data": {
      "image/png": "[encoded data removed]",
      "text/plain": [
       "<Figure size 576x360 with 1 Axes>"
      ]
     },
     "metadata": {},
     "output_type": "display_data"
    }
   ],
   "source": [
    "plt.imshow(my_image);"
   ]
  },
  {
   "cell_type": "code",
   "execution_count": 43,
   "id": "northern-police",
   "metadata": {},
   "outputs": [
    {
     "data": {
      "text/plain": [
       "array([3], dtype=uint8)"
      ]
     },
     "execution_count": 43,
     "metadata": {},
     "output_type": "execute_result"
    }
   ],
   "source": [
    "# What is this????\n",
    "# Checking it out:\n",
    "y_test[0]"
   ]
  },
  {
   "cell_type": "code",
   "execution_count": 44,
   "id": "opening-aurora",
   "metadata": {},
   "outputs": [],
   "source": [
    "# 3 --> cat"
   ]
  },
  {
   "cell_type": "code",
   "execution_count": 45,
   "id": "coordinate-valuable",
   "metadata": {},
   "outputs": [
    {
     "data": {
      "text/plain": [
       "array([3])"
      ]
     },
     "execution_count": 45,
     "metadata": {},
     "output_type": "execute_result"
    }
   ],
   "source": [
    "np.argmax(model.predict(my_image.reshape(1,32,32,3)), axis=-1)"
   ]
  },
  {
   "cell_type": "markdown",
   "id": "educational-tooth",
   "metadata": {},
   "source": [
    "So, the model predicted correctly! I couldn't...\n",
    "\n",
    "Let's check a different image."
   ]
  },
  {
   "cell_type": "code",
   "execution_count": 46,
   "id": "structured-cartridge",
   "metadata": {},
   "outputs": [],
   "source": [
    "my_image = X_test[16]"
   ]
  },
  {
   "cell_type": "code",
   "execution_count": 47,
   "id": "tired-repair",
   "metadata": {},
   "outputs": [
    {
     "data": {
      "image/png": "[encoded data removed]",
      "text/plain": [
       "<Figure size 576x360 with 1 Axes>"
      ]
     },
     "metadata": {},
     "output_type": "display_data"
    }
   ],
   "source": [
    "plt.imshow(my_image);"
   ]
  },
  {
   "cell_type": "markdown",
   "id": "specialized-festival",
   "metadata": {},
   "source": [
    "Clearly a dog!"
   ]
  },
  {
   "cell_type": "code",
   "execution_count": 48,
   "id": "fifty-idaho",
   "metadata": {},
   "outputs": [
    {
     "data": {
      "text/plain": [
       "array([5])"
      ]
     },
     "execution_count": 48,
     "metadata": {},
     "output_type": "execute_result"
    }
   ],
   "source": [
    "np.argmax(model.predict(my_image.reshape(1,32,32,3)), axis=-1)"
   ]
  },
  {
   "cell_type": "code",
   "execution_count": null,
   "id": "first-insurance",
   "metadata": {},
   "outputs": [],
   "source": []
  }
 ],
 "metadata": {
  "kernelspec": {
   "display_name": "Python 3",
   "language": "python",
   "name": "python3"
  },
  "language_info": {
   "codemirror_mode": {
    "name": "ipython",
    "version": 3
   },
   "file_extension": ".py",
   "mimetype": "text/x-python",
   "name": "python",
   "nbconvert_exporter": "python",
   "pygments_lexer": "ipython3",
   "version": "3.8.5"
  }
 },
 "nbformat": 4,
 "nbformat_minor": 5
}
