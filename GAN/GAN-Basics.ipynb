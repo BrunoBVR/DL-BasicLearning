{
 "cells": [
  {
   "cell_type": "code",
   "execution_count": 1,
   "id": "declared-atlanta",
   "metadata": {},
   "outputs": [],
   "source": [
    "%config Completer.use_jedi = False        # For autocomplete to work!"
   ]
  },
  {
   "cell_type": "code",
   "execution_count": 2,
   "id": "central-wichita",
   "metadata": {},
   "outputs": [],
   "source": [
    "import pandas as pd\n",
    "import seaborn as sns\n",
    "import matplotlib.pyplot as plt\n",
    "import numpy as np"
   ]
  },
  {
   "cell_type": "code",
   "execution_count": 3,
   "id": "catholic-tower",
   "metadata": {},
   "outputs": [],
   "source": [
    "sns.set(rc={'figure.figsize':(12,8)})\n",
    "# sns.set_style('whitegrid')\n",
    "# sns.set_palette('Set2')"
   ]
  },
  {
   "cell_type": "code",
   "execution_count": 4,
   "id": "regulated-superintendent",
   "metadata": {},
   "outputs": [],
   "source": [
    "from tensorflow.keras.datasets import mnist"
   ]
  },
  {
   "cell_type": "code",
   "execution_count": 5,
   "id": "durable-establishment",
   "metadata": {},
   "outputs": [],
   "source": [
    "(X_train, y_train), (X_test, y_test) = mnist.load_data()"
   ]
  },
  {
   "cell_type": "code",
   "execution_count": 6,
   "id": "signed-discrimination",
   "metadata": {},
   "outputs": [
    {
     "data": {
      "text/plain": [
       "<matplotlib.image.AxesImage at 0x7f96903cfd30>"
      ]
     },
     "execution_count": 6,
     "metadata": {},
     "output_type": "execute_result"
    },
    {
     "data": {
      "image/png": "[encoded data removed]",
      "text/plain": [
       "<Figure size 864x576 with 1 Axes>"
      ]
     },
     "metadata": {},
     "output_type": "display_data"
    }
   ],
   "source": [
    "plt.imshow(X_train[0])"
   ]
  },
  {
   "cell_type": "code",
   "execution_count": 7,
   "id": "agreed-light",
   "metadata": {},
   "outputs": [
    {
     "data": {
      "text/plain": [
       "array([5, 0, 4, ..., 5, 6, 8], dtype=uint8)"
      ]
     },
     "execution_count": 7,
     "metadata": {},
     "output_type": "execute_result"
    }
   ],
   "source": [
    "y_train"
   ]
  },
  {
   "cell_type": "code",
   "execution_count": 8,
   "id": "related-struggle",
   "metadata": {},
   "outputs": [],
   "source": [
    "only_ones = X_train[y_train == 1]"
   ]
  },
  {
   "cell_type": "code",
   "execution_count": 9,
   "id": "wrong-disney",
   "metadata": {},
   "outputs": [
    {
     "data": {
      "text/plain": [
       "(6742, 28, 28)"
      ]
     },
     "execution_count": 9,
     "metadata": {},
     "output_type": "execute_result"
    }
   ],
   "source": [
    "only_ones.shape"
   ]
  },
  {
   "cell_type": "code",
   "execution_count": 10,
   "id": "transsexual-dylan",
   "metadata": {},
   "outputs": [
    {
     "data": {
      "text/plain": [
       "<matplotlib.image.AxesImage at 0x7f968ddaa760>"
      ]
     },
     "execution_count": 10,
     "metadata": {},
     "output_type": "execute_result"
    },
    {
     "data": {
      "image/png": "[encoded data removed]",
      "text/plain": [
       "<Figure size 864x576 with 1 Axes>"
      ]
     },
     "metadata": {},
     "output_type": "display_data"
    }
   ],
   "source": [
    "plt.imshow(only_ones[0])"
   ]
  },
  {
   "cell_type": "code",
   "execution_count": 11,
   "id": "aggressive-station",
   "metadata": {},
   "outputs": [],
   "source": [
    "import tensorflow as tf\n",
    "from tensorflow.keras.layers import Dense, Reshape, Flatten\n",
    "from tensorflow.keras.models import Sequential"
   ]
  },
  {
   "cell_type": "code",
   "execution_count": 12,
   "id": "adaptive-fellowship",
   "metadata": {},
   "outputs": [],
   "source": [
    "discriminator = Sequential()\n",
    "discriminator.add(Flatten(input_shape=(28,28)))\n",
    "discriminator.add(Dense(150, activation='relu'))\n",
    "discriminator.add(Dense(100, activation='relu'))\n",
    "# Final output layer\n",
    "discriminator.add(Dense(1, activation='sigmoid'))\n",
    "\n",
    "discriminator.compile(loss = 'binary_crossentropy', optimizer='adam')"
   ]
  },
  {
   "cell_type": "code",
   "execution_count": 13,
   "id": "humanitarian-contributor",
   "metadata": {},
   "outputs": [],
   "source": [
    "codings_size = 100\n",
    "# 100 --> 150 --> 784 (28*28)\n",
    "generator = Sequential()\n",
    "generator.add(Dense(100, activation='relu', input_shape=[codings_size]))\n",
    "generator.add(Dense(150, activation='relu'))\n",
    "generator.add(Dense(784, activation='relu'))\n",
    "generator.add(Reshape((28,28)))"
   ]
  },
  {
   "cell_type": "code",
   "execution_count": 14,
   "id": "former-sapphire",
   "metadata": {},
   "outputs": [],
   "source": [
    "GAN = Sequential([generator, discriminator])"
   ]
  },
  {
   "cell_type": "code",
   "execution_count": 15,
   "id": "vital-springfield",
   "metadata": {},
   "outputs": [],
   "source": [
    "discriminator.trainable = False"
   ]
  },
  {
   "cell_type": "code",
   "execution_count": 16,
   "id": "based-queue",
   "metadata": {},
   "outputs": [],
   "source": [
    "GAN.compile(loss = 'binary_crossentropy', optimizer='adam')"
   ]
  },
  {
   "cell_type": "code",
   "execution_count": 17,
   "id": "instrumental-marathon",
   "metadata": {},
   "outputs": [],
   "source": [
    "batch_size = 32"
   ]
  },
  {
   "cell_type": "code",
   "execution_count": 18,
   "id": "encouraging-method",
   "metadata": {},
   "outputs": [],
   "source": [
    "# my_data = X_train\n",
    "my_data = only_ones"
   ]
  },
  {
   "cell_type": "code",
   "execution_count": 19,
   "id": "institutional-bones",
   "metadata": {},
   "outputs": [],
   "source": [
    "dataset = tf.data.Dataset.from_tensor_slices(my_data).shuffle(buffer_size = 1000)"
   ]
  },
  {
   "cell_type": "code",
   "execution_count": 20,
   "id": "optical-narrow",
   "metadata": {},
   "outputs": [
    {
     "data": {
      "text/plain": [
       "tensorflow.python.data.ops.dataset_ops.ShuffleDataset"
      ]
     },
     "execution_count": 20,
     "metadata": {},
     "output_type": "execute_result"
    }
   ],
   "source": [
    "type(dataset)"
   ]
  },
  {
   "cell_type": "code",
   "execution_count": 21,
   "id": "enclosed-dimension",
   "metadata": {},
   "outputs": [],
   "source": [
    "dataset = dataset.batch(batch_size, drop_remainder=True).prefetch(1)"
   ]
  },
  {
   "cell_type": "code",
   "execution_count": 22,
   "id": "comic-remainder",
   "metadata": {},
   "outputs": [],
   "source": [
    "epochs = 5"
   ]
  },
  {
   "cell_type": "code",
   "execution_count": 23,
   "id": "reasonable-maker",
   "metadata": {},
   "outputs": [
    {
     "data": {
      "text/plain": [
       "<tensorflow.python.keras.engine.sequential.Sequential at 0x7f968e3080a0>"
      ]
     },
     "execution_count": 23,
     "metadata": {},
     "output_type": "execute_result"
    }
   ],
   "source": [
    "GAN"
   ]
  },
  {
   "cell_type": "code",
   "execution_count": 24,
   "id": "geological-boutique",
   "metadata": {},
   "outputs": [
    {
     "name": "stdout",
     "output_type": "stream",
     "text": [
      "Currently on Epoch 1\n",
      "\t Currently on batch under 100 of 210\n",
      "\t Currently on batch under 200 of 210\n",
      "Currently on Epoch 2\n",
      "\t Currently on batch under 100 of 210\n",
      "\t Currently on batch under 200 of 210\n",
      "Currently on Epoch 3\n",
      "\t Currently on batch under 100 of 210\n",
      "\t Currently on batch under 200 of 210\n",
      "Currently on Epoch 4\n",
      "\t Currently on batch under 100 of 210\n",
      "\t Currently on batch under 200 of 210\n",
      "Currently on Epoch 5\n",
      "\t Currently on batch under 100 of 210\n",
      "\t Currently on batch under 200 of 210\n"
     ]
    }
   ],
   "source": [
    "generator, discriminator = GAN.layers\n",
    "\n",
    "for epoch in range(epochs):\n",
    "    print(f\"Currently on Epoch {epoch +1}\")\n",
    "    i = 0\n",
    "    \n",
    "    # For every batch on dataset\n",
    "    for X_batch in dataset:\n",
    "        \n",
    "        i += 1\n",
    "        if i%100 == 0:\n",
    "            print(f\"\\t Currently on batch under {i} of {len(my_data)//batch_size}\")\n",
    "        \n",
    "        # DISCRIMINATOR TRAINING PHASE\n",
    "        noise = tf.random.normal(shape=[batch_size, codings_size])\n",
    "        \n",
    "        gen_images = generator(noise)\n",
    "        \n",
    "        X_fake_vs_real = tf.concat([gen_images, tf.dtypes.cast(X_batch, tf.float32)], axis=0)\n",
    "        \n",
    "        y1 = tf.constant([[0.0]]*batch_size + [[1.0]]*batch_size)\n",
    "        \n",
    "        discriminator.trainable = True\n",
    "        \n",
    "        discriminator.train_on_batch(X_fake_vs_real, y1)\n",
    "        \n",
    "        \n",
    "        # TRAIN GENERATOR\n",
    "        noise = tf.random.normal(shape=[batch_size, codings_size])\n",
    "        y2 = tf.constant([[1.0]]*batch_size)\n",
    "        discriminator.trainable = False\n",
    "        GAN.train_on_batch(noise, y2)    \n",
    "        "
   ]
  },
  {
   "cell_type": "code",
   "execution_count": 25,
   "id": "literary-thomson",
   "metadata": {},
   "outputs": [],
   "source": [
    "noise = tf.random.normal(shape=[10, codings_size])"
   ]
  },
  {
   "cell_type": "code",
   "execution_count": 26,
   "id": "descending-royalty",
   "metadata": {},
   "outputs": [
    {
     "data": {
      "text/plain": [
       "TensorShape([10, 100])"
      ]
     },
     "execution_count": 26,
     "metadata": {},
     "output_type": "execute_result"
    }
   ],
   "source": [
    "noise.shape"
   ]
  },
  {
   "cell_type": "code",
   "execution_count": 27,
   "id": "deluxe-lotus",
   "metadata": {},
   "outputs": [
    {
     "data": {
      "text/plain": [
       "<matplotlib.image.AxesImage at 0x7f967c1cf370>"
      ]
     },
     "execution_count": 27,
     "metadata": {},
     "output_type": "execute_result"
    },
    {
     "data": {
      "image/png": "[encoded data removed]",
      "text/plain": [
       "<Figure size 864x576 with 1 Axes>"
      ]
     },
     "metadata": {},
     "output_type": "display_data"
    }
   ],
   "source": [
    "plt.imshow(noise)"
   ]
  },
  {
   "cell_type": "code",
   "execution_count": 28,
   "id": "vietnamese-contributor",
   "metadata": {},
   "outputs": [],
   "source": [
    "images = generator(noise)"
   ]
  },
  {
   "cell_type": "code",
   "execution_count": 29,
   "id": "dying-dubai",
   "metadata": {},
   "outputs": [
    {
     "data": {
      "text/plain": [
       "TensorShape([10, 28, 28])"
      ]
     },
     "execution_count": 29,
     "metadata": {},
     "output_type": "execute_result"
    }
   ],
   "source": [
    "images.shape"
   ]
  },
  {
   "cell_type": "code",
   "execution_count": 30,
   "id": "discrete-blank",
   "metadata": {},
   "outputs": [
    {
     "data": {
      "image/png": "[encoded data removed]",
      "text/plain": [
       "<Figure size 864x576 with 1 Axes>"
      ]
     },
     "metadata": {},
     "output_type": "display_data"
    }
   ],
   "source": [
    "plt.imshow(images[2]);"
   ]
  },
  {
   "cell_type": "code",
   "execution_count": null,
   "id": "accompanied-button",
   "metadata": {},
   "outputs": [],
   "source": []
  },
  {
   "cell_type": "code",
   "execution_count": null,
   "id": "expanded-danger",
   "metadata": {},
   "outputs": [],
   "source": []
  }
 ],
 "metadata": {
  "kernelspec": {
   "display_name": "Python 3",
   "language": "python",
   "name": "python3"
  },
  "language_info": {
   "codemirror_mode": {
    "name": "ipython",
    "version": 3
   },
   "file_extension": ".py",
   "mimetype": "text/x-python",
   "name": "python",
   "nbconvert_exporter": "python",
   "pygments_lexer": "ipython3",
   "version": "3.8.5"
  }
 },
 "nbformat": 4,
 "nbformat_minor": 5
}
