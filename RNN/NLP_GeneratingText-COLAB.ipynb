{
  "nbformat": 4,
  "nbformat_minor": 5,
  "metadata": {
    "kernelspec": {
      "display_name": "Python 3",
      "language": "python",
      "name": "python3"
    },
    "language_info": {
      "codemirror_mode": {
        "name": "ipython",
        "version": 3
      },
      "file_extension": ".py",
      "mimetype": "text/x-python",
      "name": "python",
      "nbconvert_exporter": "python",
      "pygments_lexer": "ipython3",
      "version": "3.8.5"
    },
    "colab": {
      "name": "NLP-GeneratingText.ipynb",
      "provenance": [],
      "collapsed_sections": [
        "civic-charleston",
        "connected-bandwidth"
      ]
    },
    "accelerator": "GPU"
  },
  "cells": [
    {
      "cell_type": "code",
      "metadata": {
        "colab": {
          "base_uri": "https://localhost:8080/"
        },
        "id": "exposed-therapist",
        "outputId": "45be206c-86b7-4182-bbac-9d6ccf75b437"
      },
      "source": [
        "import pandas as pd\n",
        "import numpy as np\n",
        "import matplotlib.pyplot as plt\n",
        "import seaborn as sns\n",
        "\n",
        "%config Completer.use_jedi = False        # For autocomplete to work!"
      ],
      "id": "exposed-therapist",
      "execution_count": 7,
      "outputs": [
        {
          "output_type": "stream",
          "text": [
            "/usr/local/lib/python3.7/dist-packages/ipykernel_launcher.py:6: UserWarning: Config option `use_jedi` not recognized by `IPCompleter`.\n",
            "  \n"
          ],
          "name": "stderr"
        }
      ]
    },
    {
      "cell_type": "code",
      "metadata": {
        "id": "controlling-handy"
      },
      "source": [
        "sns.set(rc={'figure.figsize':(10,6)})\n",
        "sns.set_style('whitegrid')\n",
        "sns.set_palette('Set2')"
      ],
      "id": "controlling-handy",
      "execution_count": 8,
      "outputs": []
    },
    {
      "cell_type": "markdown",
      "metadata": {
        "id": "adapted-milan"
      },
      "source": [
        "# Text Generation with Neural Networks\n",
        "\n",
        "In this notebook we will create a network that can generate text, here we show it being done character by character. Very awesome write up on this here: http://karpathy.github.io/2015/05/21/rnn-effectiveness/\n",
        "\n",
        "We organized the process into \"steps\" so you can easily follow along with your own data sets."
      ],
      "id": "adapted-milan"
    },
    {
      "cell_type": "code",
      "metadata": {
        "id": "dominican-mother"
      },
      "source": [
        "%tensorflow_version 2.x\n",
        "\n",
        "import tensorflow as tf"
      ],
      "id": "dominican-mother",
      "execution_count": 9,
      "outputs": []
    },
    {
      "cell_type": "markdown",
      "metadata": {
        "id": "vital-wisconsin"
      },
      "source": [
        "## Step 1: The Data\n",
        "\n",
        "You can grab any free text you want from here: https://www.gutenberg.org/\n",
        "\n",
        "We'll choose all of shakespeare's works (which we have already downloaded for you), mainly for two reasons:\n",
        "\n",
        "1. Its a large corpus of text, its usually recommended you have at least a source of 1 million characters total to get realistic text generation.\n",
        "\n",
        "2. It has a very distinctive style. Since the text data uses old style english and is formatted in the style of a stage play, it will be very obvious to us if the model is able to reproduce similar results."
      ],
      "id": "vital-wisconsin"
    },
    {
      "cell_type": "code",
      "metadata": {
        "id": "corporate-maryland"
      },
      "source": [
        "path_to_file = \"shakespeare.txt\""
      ],
      "id": "corporate-maryland",
      "execution_count": 10,
      "outputs": []
    },
    {
      "cell_type": "code",
      "metadata": {
        "id": "stable-puppy"
      },
      "source": [
        "text = open(path_to_file,'r').read()"
      ],
      "id": "stable-puppy",
      "execution_count": 11,
      "outputs": []
    },
    {
      "cell_type": "code",
      "metadata": {
        "colab": {
          "base_uri": "https://localhost:8080/"
        },
        "id": "criminal-dealer",
        "outputId": "959ed31d-ee5b-4f6b-ef7b-c1f70adf2f2a"
      },
      "source": [
        "print(text[:500])"
      ],
      "id": "criminal-dealer",
      "execution_count": 12,
      "outputs": [
        {
          "output_type": "stream",
          "text": [
            "\n",
            "                     1\n",
            "  From fairest creatures we desire increase,\n",
            "  That thereby beauty's rose might never die,\n",
            "  But as the riper should by time decease,\n",
            "  His tender heir might bear his memory:\n",
            "  But thou contracted to thine own bright eyes,\n",
            "  Feed'st thy light's flame with self-substantial fuel,\n",
            "  Making a famine where abundance lies,\n",
            "  Thy self thy foe, to thy sweet self too cruel:\n",
            "  Thou that art now the world's fresh ornament,\n",
            "  And only herald to the gaudy spring,\n",
            "  Within thine own bu\n"
          ],
          "name": "stdout"
        }
      ]
    },
    {
      "cell_type": "markdown",
      "metadata": {
        "id": "compressed-poultry"
      },
      "source": [
        "### Understanding unique characters\n"
      ],
      "id": "compressed-poultry"
    },
    {
      "cell_type": "code",
      "metadata": {
        "colab": {
          "base_uri": "https://localhost:8080/"
        },
        "id": "proof-qualification",
        "outputId": "e774b322-aa3a-49ed-965a-558f161132a7"
      },
      "source": [
        "sorted(set(text))"
      ],
      "id": "proof-qualification",
      "execution_count": 13,
      "outputs": [
        {
          "output_type": "execute_result",
          "data": {
            "text/plain": [
              "['\\n',\n",
              " ' ',\n",
              " '!',\n",
              " '\"',\n",
              " '&',\n",
              " \"'\",\n",
              " '(',\n",
              " ')',\n",
              " ',',\n",
              " '-',\n",
              " '.',\n",
              " '0',\n",
              " '1',\n",
              " '2',\n",
              " '3',\n",
              " '4',\n",
              " '5',\n",
              " '6',\n",
              " '7',\n",
              " '8',\n",
              " '9',\n",
              " ':',\n",
              " ';',\n",
              " '<',\n",
              " '>',\n",
              " '?',\n",
              " 'A',\n",
              " 'B',\n",
              " 'C',\n",
              " 'D',\n",
              " 'E',\n",
              " 'F',\n",
              " 'G',\n",
              " 'H',\n",
              " 'I',\n",
              " 'J',\n",
              " 'K',\n",
              " 'L',\n",
              " 'M',\n",
              " 'N',\n",
              " 'O',\n",
              " 'P',\n",
              " 'Q',\n",
              " 'R',\n",
              " 'S',\n",
              " 'T',\n",
              " 'U',\n",
              " 'V',\n",
              " 'W',\n",
              " 'X',\n",
              " 'Y',\n",
              " 'Z',\n",
              " '[',\n",
              " ']',\n",
              " '_',\n",
              " 'a',\n",
              " 'b',\n",
              " 'c',\n",
              " 'd',\n",
              " 'e',\n",
              " 'f',\n",
              " 'g',\n",
              " 'h',\n",
              " 'i',\n",
              " 'j',\n",
              " 'k',\n",
              " 'l',\n",
              " 'm',\n",
              " 'n',\n",
              " 'o',\n",
              " 'p',\n",
              " 'q',\n",
              " 'r',\n",
              " 's',\n",
              " 't',\n",
              " 'u',\n",
              " 'v',\n",
              " 'w',\n",
              " 'x',\n",
              " 'y',\n",
              " 'z',\n",
              " '|']"
            ]
          },
          "metadata": {
            "tags": []
          },
          "execution_count": 13
        }
      ]
    },
    {
      "cell_type": "code",
      "metadata": {
        "id": "brutal-houston"
      },
      "source": [
        "vocab = sorted(set(text))"
      ],
      "id": "brutal-houston",
      "execution_count": 14,
      "outputs": []
    },
    {
      "cell_type": "code",
      "metadata": {
        "colab": {
          "base_uri": "https://localhost:8080/"
        },
        "id": "important-price",
        "outputId": "02ffa6b7-641a-42f7-cf7a-f83704b3e59f"
      },
      "source": [
        "len(vocab)"
      ],
      "id": "important-price",
      "execution_count": 15,
      "outputs": [
        {
          "output_type": "execute_result",
          "data": {
            "text/plain": [
              "82"
            ]
          },
          "metadata": {
            "tags": []
          },
          "execution_count": 15
        }
      ]
    },
    {
      "cell_type": "markdown",
      "metadata": {
        "id": "powerful-combining"
      },
      "source": [
        "## Step 2: Text Processing"
      ],
      "id": "powerful-combining"
    },
    {
      "cell_type": "markdown",
      "metadata": {
        "id": "located-writing"
      },
      "source": [
        "### Text Vectorization\n",
        "\n",
        "We know a neural network can't take in the raw string data, we need to assign numbers to each character. Let's create two dictionaries that can go from numeric index to character and character to numeric index."
      ],
      "id": "located-writing"
    },
    {
      "cell_type": "code",
      "metadata": {
        "colab": {
          "base_uri": "https://localhost:8080/"
        },
        "id": "ambient-armenia",
        "outputId": "6b767e92-37b7-41cc-ba11-48a3c5c0ce14"
      },
      "source": [
        "for pair in enumerate(vocab):\n",
        "    print(pair)"
      ],
      "id": "ambient-armenia",
      "execution_count": 16,
      "outputs": [
        {
          "output_type": "stream",
          "text": [
            "(0, '\\n')\n",
            "(1, ' ')\n",
            "(2, '!')\n",
            "(3, '\"')\n",
            "(4, '&')\n",
            "(5, \"'\")\n",
            "(6, '(')\n",
            "(7, ')')\n",
            "(8, ',')\n",
            "(9, '-')\n",
            "(10, '.')\n",
            "(11, '0')\n",
            "(12, '1')\n",
            "(13, '2')\n",
            "(14, '3')\n",
            "(15, '4')\n",
            "(16, '5')\n",
            "(17, '6')\n",
            "(18, '7')\n",
            "(19, '8')\n",
            "(20, '9')\n",
            "(21, ':')\n",
            "(22, ';')\n",
            "(23, '<')\n",
            "(24, '>')\n",
            "(25, '?')\n",
            "(26, 'A')\n",
            "(27, 'B')\n",
            "(28, 'C')\n",
            "(29, 'D')\n",
            "(30, 'E')\n",
            "(31, 'F')\n",
            "(32, 'G')\n",
            "(33, 'H')\n",
            "(34, 'I')\n",
            "(35, 'J')\n",
            "(36, 'K')\n",
            "(37, 'L')\n",
            "(38, 'M')\n",
            "(39, 'N')\n",
            "(40, 'O')\n",
            "(41, 'P')\n",
            "(42, 'Q')\n",
            "(43, 'R')\n",
            "(44, 'S')\n",
            "(45, 'T')\n",
            "(46, 'U')\n",
            "(47, 'V')\n",
            "(48, 'W')\n",
            "(49, 'X')\n",
            "(50, 'Y')\n",
            "(51, 'Z')\n",
            "(52, '[')\n",
            "(53, ']')\n",
            "(54, '_')\n",
            "(55, 'a')\n",
            "(56, 'b')\n",
            "(57, 'c')\n",
            "(58, 'd')\n",
            "(59, 'e')\n",
            "(60, 'f')\n",
            "(61, 'g')\n",
            "(62, 'h')\n",
            "(63, 'i')\n",
            "(64, 'j')\n",
            "(65, 'k')\n",
            "(66, 'l')\n",
            "(67, 'm')\n",
            "(68, 'n')\n",
            "(69, 'o')\n",
            "(70, 'p')\n",
            "(71, 'q')\n",
            "(72, 'r')\n",
            "(73, 's')\n",
            "(74, 't')\n",
            "(75, 'u')\n",
            "(76, 'v')\n",
            "(77, 'w')\n",
            "(78, 'x')\n",
            "(79, 'y')\n",
            "(80, 'z')\n",
            "(81, '|')\n"
          ],
          "name": "stdout"
        }
      ]
    },
    {
      "cell_type": "code",
      "metadata": {
        "id": "comfortable-humanitarian"
      },
      "source": [
        "char_to_ind = {char:ind for ind,char in enumerate(vocab)}"
      ],
      "id": "comfortable-humanitarian",
      "execution_count": 17,
      "outputs": []
    },
    {
      "cell_type": "code",
      "metadata": {
        "colab": {
          "base_uri": "https://localhost:8080/"
        },
        "id": "understood-sunday",
        "outputId": "280f9b35-c546-4f5e-8c3f-c0a14518159e"
      },
      "source": [
        "char_to_ind"
      ],
      "id": "understood-sunday",
      "execution_count": 18,
      "outputs": [
        {
          "output_type": "execute_result",
          "data": {
            "text/plain": [
              "{'\\n': 0,\n",
              " ' ': 1,\n",
              " '!': 2,\n",
              " '\"': 3,\n",
              " '&': 4,\n",
              " \"'\": 5,\n",
              " '(': 6,\n",
              " ')': 7,\n",
              " ',': 8,\n",
              " '-': 9,\n",
              " '.': 10,\n",
              " '0': 11,\n",
              " '1': 12,\n",
              " '2': 13,\n",
              " '3': 14,\n",
              " '4': 15,\n",
              " '5': 16,\n",
              " '6': 17,\n",
              " '7': 18,\n",
              " '8': 19,\n",
              " '9': 20,\n",
              " ':': 21,\n",
              " ';': 22,\n",
              " '<': 23,\n",
              " '>': 24,\n",
              " '?': 25,\n",
              " 'A': 26,\n",
              " 'B': 27,\n",
              " 'C': 28,\n",
              " 'D': 29,\n",
              " 'E': 30,\n",
              " 'F': 31,\n",
              " 'G': 32,\n",
              " 'H': 33,\n",
              " 'I': 34,\n",
              " 'J': 35,\n",
              " 'K': 36,\n",
              " 'L': 37,\n",
              " 'M': 38,\n",
              " 'N': 39,\n",
              " 'O': 40,\n",
              " 'P': 41,\n",
              " 'Q': 42,\n",
              " 'R': 43,\n",
              " 'S': 44,\n",
              " 'T': 45,\n",
              " 'U': 46,\n",
              " 'V': 47,\n",
              " 'W': 48,\n",
              " 'X': 49,\n",
              " 'Y': 50,\n",
              " 'Z': 51,\n",
              " '[': 52,\n",
              " ']': 53,\n",
              " '_': 54,\n",
              " 'a': 55,\n",
              " 'b': 56,\n",
              " 'c': 57,\n",
              " 'd': 58,\n",
              " 'e': 59,\n",
              " 'f': 60,\n",
              " 'g': 61,\n",
              " 'h': 62,\n",
              " 'i': 63,\n",
              " 'j': 64,\n",
              " 'k': 65,\n",
              " 'l': 66,\n",
              " 'm': 67,\n",
              " 'n': 68,\n",
              " 'o': 69,\n",
              " 'p': 70,\n",
              " 'q': 71,\n",
              " 'r': 72,\n",
              " 's': 73,\n",
              " 't': 74,\n",
              " 'u': 75,\n",
              " 'v': 76,\n",
              " 'w': 77,\n",
              " 'x': 78,\n",
              " 'y': 79,\n",
              " 'z': 80,\n",
              " '|': 81}"
            ]
          },
          "metadata": {
            "tags": []
          },
          "execution_count": 18
        }
      ]
    },
    {
      "cell_type": "markdown",
      "metadata": {
        "id": "completed-manual"
      },
      "source": [
        "What's the numerical index of the letter `H`?"
      ],
      "id": "completed-manual"
    },
    {
      "cell_type": "code",
      "metadata": {
        "colab": {
          "base_uri": "https://localhost:8080/"
        },
        "id": "agreed-therapist",
        "outputId": "1939463d-e415-4c22-89db-3cef363dcfd7"
      },
      "source": [
        "char_to_ind['H']"
      ],
      "id": "agreed-therapist",
      "execution_count": 19,
      "outputs": [
        {
          "output_type": "execute_result",
          "data": {
            "text/plain": [
              "33"
            ]
          },
          "metadata": {
            "tags": []
          },
          "execution_count": 19
        }
      ]
    },
    {
      "cell_type": "markdown",
      "metadata": {
        "id": "aboriginal-fitting"
      },
      "source": [
        "And, for the other way around we simply put the `vocab` in a numpy array, so the index is the corresponding character."
      ],
      "id": "aboriginal-fitting"
    },
    {
      "cell_type": "code",
      "metadata": {
        "id": "measured-instrument"
      },
      "source": [
        "ind_to_char = np.array(vocab)"
      ],
      "id": "measured-instrument",
      "execution_count": 20,
      "outputs": []
    },
    {
      "cell_type": "code",
      "metadata": {
        "colab": {
          "base_uri": "https://localhost:8080/",
          "height": 35
        },
        "id": "latter-albany",
        "outputId": "7bf6f01d-79f2-4462-af2f-6da5340c1136"
      },
      "source": [
        "ind_to_char[33]"
      ],
      "id": "latter-albany",
      "execution_count": 21,
      "outputs": [
        {
          "output_type": "execute_result",
          "data": {
            "application/vnd.google.colaboratory.intrinsic+json": {
              "type": "string"
            },
            "text/plain": [
              "'H'"
            ]
          },
          "metadata": {
            "tags": []
          },
          "execution_count": 21
        }
      ]
    },
    {
      "cell_type": "code",
      "metadata": {
        "id": "cardiac-christmas"
      },
      "source": [
        "encoded_text = np.array([char_to_ind[c] for c in text])"
      ],
      "id": "cardiac-christmas",
      "execution_count": 22,
      "outputs": []
    },
    {
      "cell_type": "code",
      "metadata": {
        "colab": {
          "base_uri": "https://localhost:8080/"
        },
        "id": "chubby-classification",
        "outputId": "a7f0c9f5-cf38-4fec-f2a6-0a88d8f8f9fd"
      },
      "source": [
        "encoded_text[:500]"
      ],
      "id": "chubby-classification",
      "execution_count": 23,
      "outputs": [
        {
          "output_type": "execute_result",
          "data": {
            "text/plain": [
              "array([ 0,  1,  1,  1,  1,  1,  1,  1,  1,  1,  1,  1,  1,  1,  1,  1,  1,\n",
              "        1,  1,  1,  1,  1, 12,  0,  1,  1, 31, 72, 69, 67,  1, 60, 55, 63,\n",
              "       72, 59, 73, 74,  1, 57, 72, 59, 55, 74, 75, 72, 59, 73,  1, 77, 59,\n",
              "        1, 58, 59, 73, 63, 72, 59,  1, 63, 68, 57, 72, 59, 55, 73, 59,  8,\n",
              "        0,  1,  1, 45, 62, 55, 74,  1, 74, 62, 59, 72, 59, 56, 79,  1, 56,\n",
              "       59, 55, 75, 74, 79,  5, 73,  1, 72, 69, 73, 59,  1, 67, 63, 61, 62,\n",
              "       74,  1, 68, 59, 76, 59, 72,  1, 58, 63, 59,  8,  0,  1,  1, 27, 75,\n",
              "       74,  1, 55, 73,  1, 74, 62, 59,  1, 72, 63, 70, 59, 72,  1, 73, 62,\n",
              "       69, 75, 66, 58,  1, 56, 79,  1, 74, 63, 67, 59,  1, 58, 59, 57, 59,\n",
              "       55, 73, 59,  8,  0,  1,  1, 33, 63, 73,  1, 74, 59, 68, 58, 59, 72,\n",
              "        1, 62, 59, 63, 72,  1, 67, 63, 61, 62, 74,  1, 56, 59, 55, 72,  1,\n",
              "       62, 63, 73,  1, 67, 59, 67, 69, 72, 79, 21,  0,  1,  1, 27, 75, 74,\n",
              "        1, 74, 62, 69, 75,  1, 57, 69, 68, 74, 72, 55, 57, 74, 59, 58,  1,\n",
              "       74, 69,  1, 74, 62, 63, 68, 59,  1, 69, 77, 68,  1, 56, 72, 63, 61,\n",
              "       62, 74,  1, 59, 79, 59, 73,  8,  0,  1,  1, 31, 59, 59, 58,  5, 73,\n",
              "       74,  1, 74, 62, 79,  1, 66, 63, 61, 62, 74,  5, 73,  1, 60, 66, 55,\n",
              "       67, 59,  1, 77, 63, 74, 62,  1, 73, 59, 66, 60,  9, 73, 75, 56, 73,\n",
              "       74, 55, 68, 74, 63, 55, 66,  1, 60, 75, 59, 66,  8,  0,  1,  1, 38,\n",
              "       55, 65, 63, 68, 61,  1, 55,  1, 60, 55, 67, 63, 68, 59,  1, 77, 62,\n",
              "       59, 72, 59,  1, 55, 56, 75, 68, 58, 55, 68, 57, 59,  1, 66, 63, 59,\n",
              "       73,  8,  0,  1,  1, 45, 62, 79,  1, 73, 59, 66, 60,  1, 74, 62, 79,\n",
              "        1, 60, 69, 59,  8,  1, 74, 69,  1, 74, 62, 79,  1, 73, 77, 59, 59,\n",
              "       74,  1, 73, 59, 66, 60,  1, 74, 69, 69,  1, 57, 72, 75, 59, 66, 21,\n",
              "        0,  1,  1, 45, 62, 69, 75,  1, 74, 62, 55, 74,  1, 55, 72, 74,  1,\n",
              "       68, 69, 77,  1, 74, 62, 59,  1, 77, 69, 72, 66, 58,  5, 73,  1, 60,\n",
              "       72, 59, 73, 62,  1, 69, 72, 68, 55, 67, 59, 68, 74,  8,  0,  1,  1,\n",
              "       26, 68, 58,  1, 69, 68, 66, 79,  1, 62, 59, 72, 55, 66, 58,  1, 74,\n",
              "       69,  1, 74, 62, 59,  1, 61, 55, 75, 58, 79,  1, 73, 70, 72, 63, 68,\n",
              "       61,  8,  0,  1,  1, 48, 63, 74, 62, 63, 68,  1, 74, 62, 63, 68, 59,\n",
              "        1, 69, 77, 68,  1, 56, 75])"
            ]
          },
          "metadata": {
            "tags": []
          },
          "execution_count": 23
        }
      ]
    },
    {
      "cell_type": "code",
      "metadata": {
        "colab": {
          "base_uri": "https://localhost:8080/"
        },
        "id": "national-passenger",
        "outputId": "1c29c6d4-94fe-4789-f0f7-10e121c8cdd6"
      },
      "source": [
        "encoded_text.shape"
      ],
      "id": "national-passenger",
      "execution_count": 24,
      "outputs": [
        {
          "output_type": "execute_result",
          "data": {
            "text/plain": [
              "(1048576,)"
            ]
          },
          "metadata": {
            "tags": []
          },
          "execution_count": 24
        }
      ]
    },
    {
      "cell_type": "markdown",
      "metadata": {
        "id": "timely-jimmy"
      },
      "source": [
        "We now have a mapping we can use to go back and forth from characters to numerics."
      ],
      "id": "timely-jimmy"
    },
    {
      "cell_type": "code",
      "metadata": {
        "colab": {
          "base_uri": "https://localhost:8080/",
          "height": 35
        },
        "id": "surface-roommate",
        "outputId": "6fd381d2-e68e-404a-8ad9-07a04aa59425"
      },
      "source": [
        "sample = text[:20]\n",
        "sample"
      ],
      "id": "surface-roommate",
      "execution_count": 25,
      "outputs": [
        {
          "output_type": "execute_result",
          "data": {
            "application/vnd.google.colaboratory.intrinsic+json": {
              "type": "string"
            },
            "text/plain": [
              "'\\n                   '"
            ]
          },
          "metadata": {
            "tags": []
          },
          "execution_count": 25
        }
      ]
    },
    {
      "cell_type": "code",
      "metadata": {
        "colab": {
          "base_uri": "https://localhost:8080/"
        },
        "id": "integrated-scanner",
        "outputId": "b93143b2-75e0-49e9-d579-7cc27af8d7d6"
      },
      "source": [
        "encoded_text[:20]"
      ],
      "id": "integrated-scanner",
      "execution_count": 26,
      "outputs": [
        {
          "output_type": "execute_result",
          "data": {
            "text/plain": [
              "array([0, 1, 1, 1, 1, 1, 1, 1, 1, 1, 1, 1, 1, 1, 1, 1, 1, 1, 1, 1])"
            ]
          },
          "metadata": {
            "tags": []
          },
          "execution_count": 26
        }
      ]
    },
    {
      "cell_type": "markdown",
      "metadata": {
        "id": "aging-saturn"
      },
      "source": [
        "## Step 3: Creating Batches\n",
        "\n",
        "Overall what we are trying to achieve is to have the model predict the next highest probability character given a historical sequence of characters. Its up to us (the user) to choose how long that historic sequence. Too short a sequence and we don't have enough information (e.g. given the letter \"a\" , what is the next character) , too long a sequence and training will take too long and most likely overfit to sequence characters that are irrelevant to characters farther out. While there is no correct sequence length choice, you should consider the text itself, how long normal phrases are in it, and a reasonable idea of what characters/words are relevant to each other."
      ],
      "id": "aging-saturn"
    },
    {
      "cell_type": "code",
      "metadata": {
        "colab": {
          "base_uri": "https://localhost:8080/"
        },
        "id": "arbitrary-regression",
        "outputId": "04b02b8b-e06d-4fe3-c7aa-6c6859df1f37"
      },
      "source": [
        "print(text[:500])"
      ],
      "id": "arbitrary-regression",
      "execution_count": 27,
      "outputs": [
        {
          "output_type": "stream",
          "text": [
            "\n",
            "                     1\n",
            "  From fairest creatures we desire increase,\n",
            "  That thereby beauty's rose might never die,\n",
            "  But as the riper should by time decease,\n",
            "  His tender heir might bear his memory:\n",
            "  But thou contracted to thine own bright eyes,\n",
            "  Feed'st thy light's flame with self-substantial fuel,\n",
            "  Making a famine where abundance lies,\n",
            "  Thy self thy foe, to thy sweet self too cruel:\n",
            "  Thou that art now the world's fresh ornament,\n",
            "  And only herald to the gaudy spring,\n",
            "  Within thine own bu\n"
          ],
          "name": "stdout"
        }
      ]
    },
    {
      "cell_type": "code",
      "metadata": {
        "id": "mobile-baptist"
      },
      "source": [
        "line = 'From fairest creatures we desire increase'"
      ],
      "id": "mobile-baptist",
      "execution_count": 28,
      "outputs": []
    },
    {
      "cell_type": "code",
      "metadata": {
        "colab": {
          "base_uri": "https://localhost:8080/"
        },
        "id": "extensive-valley",
        "outputId": "b83dcf2d-c32a-4a47-ec0b-1fd2fa2cf441"
      },
      "source": [
        "len(line)"
      ],
      "id": "extensive-valley",
      "execution_count": 29,
      "outputs": [
        {
          "output_type": "execute_result",
          "data": {
            "text/plain": [
              "41"
            ]
          },
          "metadata": {
            "tags": []
          },
          "execution_count": 29
        }
      ]
    },
    {
      "cell_type": "code",
      "metadata": {
        "id": "enabling-candy"
      },
      "source": [
        "lines = '''\n",
        "From fairest creatures we desire increase,\n",
        "  That thereby beauty's rose might never die,\n",
        "  But as the riper should by time decease,\n",
        "'''"
      ],
      "id": "enabling-candy",
      "execution_count": 30,
      "outputs": []
    },
    {
      "cell_type": "code",
      "metadata": {
        "colab": {
          "base_uri": "https://localhost:8080/"
        },
        "id": "passing-printer",
        "outputId": "b3cf26ba-db47-4eeb-c843-f84ea1e02d15"
      },
      "source": [
        "len(lines)"
      ],
      "id": "passing-printer",
      "execution_count": 31,
      "outputs": [
        {
          "output_type": "execute_result",
          "data": {
            "text/plain": [
              "133"
            ]
          },
          "metadata": {
            "tags": []
          },
          "execution_count": 31
        }
      ]
    },
    {
      "cell_type": "markdown",
      "metadata": {
        "id": "civic-charleston"
      },
      "source": [
        "### Training Sequences\n",
        "\n",
        "The actual text data will be the text sequence shifted one character forward. For example:\n",
        "\n",
        "Sequence In: \"Hello my nam\"\n",
        "Sequence Out: \"ello my name\"\n",
        "\n",
        "\n",
        "We can use the `tf.data.Dataset.from_tensor_slices` function to convert a text vector into a stream of character indices."
      ],
      "id": "civic-charleston"
    },
    {
      "cell_type": "code",
      "metadata": {
        "id": "independent-parish"
      },
      "source": [
        "seq_len = 120"
      ],
      "id": "independent-parish",
      "execution_count": 32,
      "outputs": []
    },
    {
      "cell_type": "code",
      "metadata": {
        "id": "superior-accordance"
      },
      "source": [
        "total_num_seq = len(text) // (seq_len + 1)"
      ],
      "id": "superior-accordance",
      "execution_count": 33,
      "outputs": []
    },
    {
      "cell_type": "code",
      "metadata": {
        "colab": {
          "base_uri": "https://localhost:8080/"
        },
        "id": "developmental-julian",
        "outputId": "88423419-7ce9-485b-bb04-6e16a24acde8"
      },
      "source": [
        "total_num_seq"
      ],
      "id": "developmental-julian",
      "execution_count": 34,
      "outputs": [
        {
          "output_type": "execute_result",
          "data": {
            "text/plain": [
              "8665"
            ]
          },
          "metadata": {
            "tags": []
          },
          "execution_count": 34
        }
      ]
    },
    {
      "cell_type": "code",
      "metadata": {
        "id": "liquid-directive"
      },
      "source": [
        "# Create Training Sequences\n",
        "char_dataset = tf.data.Dataset.from_tensor_slices(encoded_text)"
      ],
      "id": "liquid-directive",
      "execution_count": 35,
      "outputs": []
    },
    {
      "cell_type": "code",
      "metadata": {
        "colab": {
          "base_uri": "https://localhost:8080/"
        },
        "id": "victorian-humidity",
        "outputId": "7c14ec35-9d21-45c0-83ea-a9757ee8bb36"
      },
      "source": [
        "type(char_dataset)"
      ],
      "id": "victorian-humidity",
      "execution_count": 36,
      "outputs": [
        {
          "output_type": "execute_result",
          "data": {
            "text/plain": [
              "tensorflow.python.data.ops.dataset_ops.TensorSliceDataset"
            ]
          },
          "metadata": {
            "tags": []
          },
          "execution_count": 36
        }
      ]
    },
    {
      "cell_type": "code",
      "metadata": {
        "colab": {
          "base_uri": "https://localhost:8080/"
        },
        "id": "played-blink",
        "outputId": "aff056e2-55d2-41e2-c44b-ea95d6c0e5c8"
      },
      "source": [
        "for item in char_dataset.take(500):\n",
        "    print(item.numpy())"
      ],
      "id": "played-blink",
      "execution_count": 37,
      "outputs": [
        {
          "output_type": "stream",
          "text": [
            "0\n",
            "1\n",
            "1\n",
            "1\n",
            "1\n",
            "1\n",
            "1\n",
            "1\n",
            "1\n",
            "1\n",
            "1\n",
            "1\n",
            "1\n",
            "1\n",
            "1\n",
            "1\n",
            "1\n",
            "1\n",
            "1\n",
            "1\n",
            "1\n",
            "1\n",
            "12\n",
            "0\n",
            "1\n",
            "1\n",
            "31\n",
            "72\n",
            "69\n",
            "67\n",
            "1\n",
            "60\n",
            "55\n",
            "63\n",
            "72\n",
            "59\n",
            "73\n",
            "74\n",
            "1\n",
            "57\n",
            "72\n",
            "59\n",
            "55\n",
            "74\n",
            "75\n",
            "72\n",
            "59\n",
            "73\n",
            "1\n",
            "77\n",
            "59\n",
            "1\n",
            "58\n",
            "59\n",
            "73\n",
            "63\n",
            "72\n",
            "59\n",
            "1\n",
            "63\n",
            "68\n",
            "57\n",
            "72\n",
            "59\n",
            "55\n",
            "73\n",
            "59\n",
            "8\n",
            "0\n",
            "1\n",
            "1\n",
            "45\n",
            "62\n",
            "55\n",
            "74\n",
            "1\n",
            "74\n",
            "62\n",
            "59\n",
            "72\n",
            "59\n",
            "56\n",
            "79\n",
            "1\n",
            "56\n",
            "59\n",
            "55\n",
            "75\n",
            "74\n",
            "79\n",
            "5\n",
            "73\n",
            "1\n",
            "72\n",
            "69\n",
            "73\n",
            "59\n",
            "1\n",
            "67\n",
            "63\n",
            "61\n",
            "62\n",
            "74\n",
            "1\n",
            "68\n",
            "59\n",
            "76\n",
            "59\n",
            "72\n",
            "1\n",
            "58\n",
            "63\n",
            "59\n",
            "8\n",
            "0\n",
            "1\n",
            "1\n",
            "27\n",
            "75\n",
            "74\n",
            "1\n",
            "55\n",
            "73\n",
            "1\n",
            "74\n",
            "62\n",
            "59\n",
            "1\n",
            "72\n",
            "63\n",
            "70\n",
            "59\n",
            "72\n",
            "1\n",
            "73\n",
            "62\n",
            "69\n",
            "75\n",
            "66\n",
            "58\n",
            "1\n",
            "56\n",
            "79\n",
            "1\n",
            "74\n",
            "63\n",
            "67\n",
            "59\n",
            "1\n",
            "58\n",
            "59\n",
            "57\n",
            "59\n",
            "55\n",
            "73\n",
            "59\n",
            "8\n",
            "0\n",
            "1\n",
            "1\n",
            "33\n",
            "63\n",
            "73\n",
            "1\n",
            "74\n",
            "59\n",
            "68\n",
            "58\n",
            "59\n",
            "72\n",
            "1\n",
            "62\n",
            "59\n",
            "63\n",
            "72\n",
            "1\n",
            "67\n",
            "63\n",
            "61\n",
            "62\n",
            "74\n",
            "1\n",
            "56\n",
            "59\n",
            "55\n",
            "72\n",
            "1\n",
            "62\n",
            "63\n",
            "73\n",
            "1\n",
            "67\n",
            "59\n",
            "67\n",
            "69\n",
            "72\n",
            "79\n",
            "21\n",
            "0\n",
            "1\n",
            "1\n",
            "27\n",
            "75\n",
            "74\n",
            "1\n",
            "74\n",
            "62\n",
            "69\n",
            "75\n",
            "1\n",
            "57\n",
            "69\n",
            "68\n",
            "74\n",
            "72\n",
            "55\n",
            "57\n",
            "74\n",
            "59\n",
            "58\n",
            "1\n",
            "74\n",
            "69\n",
            "1\n",
            "74\n",
            "62\n",
            "63\n",
            "68\n",
            "59\n",
            "1\n",
            "69\n",
            "77\n",
            "68\n",
            "1\n",
            "56\n",
            "72\n",
            "63\n",
            "61\n",
            "62\n",
            "74\n",
            "1\n",
            "59\n",
            "79\n",
            "59\n",
            "73\n",
            "8\n",
            "0\n",
            "1\n",
            "1\n",
            "31\n",
            "59\n",
            "59\n",
            "58\n",
            "5\n",
            "73\n",
            "74\n",
            "1\n",
            "74\n",
            "62\n",
            "79\n",
            "1\n",
            "66\n",
            "63\n",
            "61\n",
            "62\n",
            "74\n",
            "5\n",
            "73\n",
            "1\n",
            "60\n",
            "66\n",
            "55\n",
            "67\n",
            "59\n",
            "1\n",
            "77\n",
            "63\n",
            "74\n",
            "62\n",
            "1\n",
            "73\n",
            "59\n",
            "66\n",
            "60\n",
            "9\n",
            "73\n",
            "75\n",
            "56\n",
            "73\n",
            "74\n",
            "55\n",
            "68\n",
            "74\n",
            "63\n",
            "55\n",
            "66\n",
            "1\n",
            "60\n",
            "75\n",
            "59\n",
            "66\n",
            "8\n",
            "0\n",
            "1\n",
            "1\n",
            "38\n",
            "55\n",
            "65\n",
            "63\n",
            "68\n",
            "61\n",
            "1\n",
            "55\n",
            "1\n",
            "60\n",
            "55\n",
            "67\n",
            "63\n",
            "68\n",
            "59\n",
            "1\n",
            "77\n",
            "62\n",
            "59\n",
            "72\n",
            "59\n",
            "1\n",
            "55\n",
            "56\n",
            "75\n",
            "68\n",
            "58\n",
            "55\n",
            "68\n",
            "57\n",
            "59\n",
            "1\n",
            "66\n",
            "63\n",
            "59\n",
            "73\n",
            "8\n",
            "0\n",
            "1\n",
            "1\n",
            "45\n",
            "62\n",
            "79\n",
            "1\n",
            "73\n",
            "59\n",
            "66\n",
            "60\n",
            "1\n",
            "74\n",
            "62\n",
            "79\n",
            "1\n",
            "60\n",
            "69\n",
            "59\n",
            "8\n",
            "1\n",
            "74\n",
            "69\n",
            "1\n",
            "74\n",
            "62\n",
            "79\n",
            "1\n",
            "73\n",
            "77\n",
            "59\n",
            "59\n",
            "74\n",
            "1\n",
            "73\n",
            "59\n",
            "66\n",
            "60\n",
            "1\n",
            "74\n",
            "69\n",
            "69\n",
            "1\n",
            "57\n",
            "72\n",
            "75\n",
            "59\n",
            "66\n",
            "21\n",
            "0\n",
            "1\n",
            "1\n",
            "45\n",
            "62\n",
            "69\n",
            "75\n",
            "1\n",
            "74\n",
            "62\n",
            "55\n",
            "74\n",
            "1\n",
            "55\n",
            "72\n",
            "74\n",
            "1\n",
            "68\n",
            "69\n",
            "77\n",
            "1\n",
            "74\n",
            "62\n",
            "59\n",
            "1\n",
            "77\n",
            "69\n",
            "72\n",
            "66\n",
            "58\n",
            "5\n",
            "73\n",
            "1\n",
            "60\n",
            "72\n",
            "59\n",
            "73\n",
            "62\n",
            "1\n",
            "69\n",
            "72\n",
            "68\n",
            "55\n",
            "67\n",
            "59\n",
            "68\n",
            "74\n",
            "8\n",
            "0\n",
            "1\n",
            "1\n",
            "26\n",
            "68\n",
            "58\n",
            "1\n",
            "69\n",
            "68\n",
            "66\n",
            "79\n",
            "1\n",
            "62\n",
            "59\n",
            "72\n",
            "55\n",
            "66\n",
            "58\n",
            "1\n",
            "74\n",
            "69\n",
            "1\n",
            "74\n",
            "62\n",
            "59\n",
            "1\n",
            "61\n",
            "55\n",
            "75\n",
            "58\n",
            "79\n",
            "1\n",
            "73\n",
            "70\n",
            "72\n",
            "63\n",
            "68\n",
            "61\n",
            "8\n",
            "0\n",
            "1\n",
            "1\n",
            "48\n",
            "63\n",
            "74\n",
            "62\n",
            "63\n",
            "68\n",
            "1\n",
            "74\n",
            "62\n",
            "63\n",
            "68\n",
            "59\n",
            "1\n",
            "69\n",
            "77\n",
            "68\n",
            "1\n",
            "56\n",
            "75\n"
          ],
          "name": "stdout"
        }
      ]
    },
    {
      "cell_type": "code",
      "metadata": {
        "colab": {
          "base_uri": "https://localhost:8080/"
        },
        "id": "crude-slope",
        "outputId": "71423322-fb59-485c-cd32-f40a9fa4b19b"
      },
      "source": [
        "for item in char_dataset.take(500):\n",
        "    print(ind_to_char[item.numpy()])"
      ],
      "id": "crude-slope",
      "execution_count": 38,
      "outputs": [
        {
          "output_type": "stream",
          "text": [
            "\n",
            "\n",
            " \n",
            " \n",
            " \n",
            " \n",
            " \n",
            " \n",
            " \n",
            " \n",
            " \n",
            " \n",
            " \n",
            " \n",
            " \n",
            " \n",
            " \n",
            " \n",
            " \n",
            " \n",
            " \n",
            " \n",
            " \n",
            "1\n",
            "\n",
            "\n",
            " \n",
            " \n",
            "F\n",
            "r\n",
            "o\n",
            "m\n",
            " \n",
            "f\n",
            "a\n",
            "i\n",
            "r\n",
            "e\n",
            "s\n",
            "t\n",
            " \n",
            "c\n",
            "r\n",
            "e\n",
            "a\n",
            "t\n",
            "u\n",
            "r\n",
            "e\n",
            "s\n",
            " \n",
            "w\n",
            "e\n",
            " \n",
            "d\n",
            "e\n",
            "s\n",
            "i\n",
            "r\n",
            "e\n",
            " \n",
            "i\n",
            "n\n",
            "c\n",
            "r\n",
            "e\n",
            "a\n",
            "s\n",
            "e\n",
            ",\n",
            "\n",
            "\n",
            " \n",
            " \n",
            "T\n",
            "h\n",
            "a\n",
            "t\n",
            " \n",
            "t\n",
            "h\n",
            "e\n",
            "r\n",
            "e\n",
            "b\n",
            "y\n",
            " \n",
            "b\n",
            "e\n",
            "a\n",
            "u\n",
            "t\n",
            "y\n",
            "'\n",
            "s\n",
            " \n",
            "r\n",
            "o\n",
            "s\n",
            "e\n",
            " \n",
            "m\n",
            "i\n",
            "g\n",
            "h\n",
            "t\n",
            " \n",
            "n\n",
            "e\n",
            "v\n",
            "e\n",
            "r\n",
            " \n",
            "d\n",
            "i\n",
            "e\n",
            ",\n",
            "\n",
            "\n",
            " \n",
            " \n",
            "B\n",
            "u\n",
            "t\n",
            " \n",
            "a\n",
            "s\n",
            " \n",
            "t\n",
            "h\n",
            "e\n",
            " \n",
            "r\n",
            "i\n",
            "p\n",
            "e\n",
            "r\n",
            " \n",
            "s\n",
            "h\n",
            "o\n",
            "u\n",
            "l\n",
            "d\n",
            " \n",
            "b\n",
            "y\n",
            " \n",
            "t\n",
            "i\n",
            "m\n",
            "e\n",
            " \n",
            "d\n",
            "e\n",
            "c\n",
            "e\n",
            "a\n",
            "s\n",
            "e\n",
            ",\n",
            "\n",
            "\n",
            " \n",
            " \n",
            "H\n",
            "i\n",
            "s\n",
            " \n",
            "t\n",
            "e\n",
            "n\n",
            "d\n",
            "e\n",
            "r\n",
            " \n",
            "h\n",
            "e\n",
            "i\n",
            "r\n",
            " \n",
            "m\n",
            "i\n",
            "g\n",
            "h\n",
            "t\n",
            " \n",
            "b\n",
            "e\n",
            "a\n",
            "r\n",
            " \n",
            "h\n",
            "i\n",
            "s\n",
            " \n",
            "m\n",
            "e\n",
            "m\n",
            "o\n",
            "r\n",
            "y\n",
            ":\n",
            "\n",
            "\n",
            " \n",
            " \n",
            "B\n",
            "u\n",
            "t\n",
            " \n",
            "t\n",
            "h\n",
            "o\n",
            "u\n",
            " \n",
            "c\n",
            "o\n",
            "n\n",
            "t\n",
            "r\n",
            "a\n",
            "c\n",
            "t\n",
            "e\n",
            "d\n",
            " \n",
            "t\n",
            "o\n",
            " \n",
            "t\n",
            "h\n",
            "i\n",
            "n\n",
            "e\n",
            " \n",
            "o\n",
            "w\n",
            "n\n",
            " \n",
            "b\n",
            "r\n",
            "i\n",
            "g\n",
            "h\n",
            "t\n",
            " \n",
            "e\n",
            "y\n",
            "e\n",
            "s\n",
            ",\n",
            "\n",
            "\n",
            " \n",
            " \n",
            "F\n",
            "e\n",
            "e\n",
            "d\n",
            "'\n",
            "s\n",
            "t\n",
            " \n",
            "t\n",
            "h\n",
            "y\n",
            " \n",
            "l\n",
            "i\n",
            "g\n",
            "h\n",
            "t\n",
            "'\n",
            "s\n",
            " \n",
            "f\n",
            "l\n",
            "a\n",
            "m\n",
            "e\n",
            " \n",
            "w\n",
            "i\n",
            "t\n",
            "h\n",
            " \n",
            "s\n",
            "e\n",
            "l\n",
            "f\n",
            "-\n",
            "s\n",
            "u\n",
            "b\n",
            "s\n",
            "t\n",
            "a\n",
            "n\n",
            "t\n",
            "i\n",
            "a\n",
            "l\n",
            " \n",
            "f\n",
            "u\n",
            "e\n",
            "l\n",
            ",\n",
            "\n",
            "\n",
            " \n",
            " \n",
            "M\n",
            "a\n",
            "k\n",
            "i\n",
            "n\n",
            "g\n",
            " \n",
            "a\n",
            " \n",
            "f\n",
            "a\n",
            "m\n",
            "i\n",
            "n\n",
            "e\n",
            " \n",
            "w\n",
            "h\n",
            "e\n",
            "r\n",
            "e\n",
            " \n",
            "a\n",
            "b\n",
            "u\n",
            "n\n",
            "d\n",
            "a\n",
            "n\n",
            "c\n",
            "e\n",
            " \n",
            "l\n",
            "i\n",
            "e\n",
            "s\n",
            ",\n",
            "\n",
            "\n",
            " \n",
            " \n",
            "T\n",
            "h\n",
            "y\n",
            " \n",
            "s\n",
            "e\n",
            "l\n",
            "f\n",
            " \n",
            "t\n",
            "h\n",
            "y\n",
            " \n",
            "f\n",
            "o\n",
            "e\n",
            ",\n",
            " \n",
            "t\n",
            "o\n",
            " \n",
            "t\n",
            "h\n",
            "y\n",
            " \n",
            "s\n",
            "w\n",
            "e\n",
            "e\n",
            "t\n",
            " \n",
            "s\n",
            "e\n",
            "l\n",
            "f\n",
            " \n",
            "t\n",
            "o\n",
            "o\n",
            " \n",
            "c\n",
            "r\n",
            "u\n",
            "e\n",
            "l\n",
            ":\n",
            "\n",
            "\n",
            " \n",
            " \n",
            "T\n",
            "h\n",
            "o\n",
            "u\n",
            " \n",
            "t\n",
            "h\n",
            "a\n",
            "t\n",
            " \n",
            "a\n",
            "r\n",
            "t\n",
            " \n",
            "n\n",
            "o\n",
            "w\n",
            " \n",
            "t\n",
            "h\n",
            "e\n",
            " \n",
            "w\n",
            "o\n",
            "r\n",
            "l\n",
            "d\n",
            "'\n",
            "s\n",
            " \n",
            "f\n",
            "r\n",
            "e\n",
            "s\n",
            "h\n",
            " \n",
            "o\n",
            "r\n",
            "n\n",
            "a\n",
            "m\n",
            "e\n",
            "n\n",
            "t\n",
            ",\n",
            "\n",
            "\n",
            " \n",
            " \n",
            "A\n",
            "n\n",
            "d\n",
            " \n",
            "o\n",
            "n\n",
            "l\n",
            "y\n",
            " \n",
            "h\n",
            "e\n",
            "r\n",
            "a\n",
            "l\n",
            "d\n",
            " \n",
            "t\n",
            "o\n",
            " \n",
            "t\n",
            "h\n",
            "e\n",
            " \n",
            "g\n",
            "a\n",
            "u\n",
            "d\n",
            "y\n",
            " \n",
            "s\n",
            "p\n",
            "r\n",
            "i\n",
            "n\n",
            "g\n",
            ",\n",
            "\n",
            "\n",
            " \n",
            " \n",
            "W\n",
            "i\n",
            "t\n",
            "h\n",
            "i\n",
            "n\n",
            " \n",
            "t\n",
            "h\n",
            "i\n",
            "n\n",
            "e\n",
            " \n",
            "o\n",
            "w\n",
            "n\n",
            " \n",
            "b\n",
            "u\n"
          ],
          "name": "stdout"
        }
      ]
    },
    {
      "cell_type": "markdown",
      "metadata": {
        "id": "human-aquatic"
      },
      "source": [
        "The **batch** method converts these individual character calls into sequences we can feed in as a batch. We use seq_len+1 because of zero indexing. Here is what drop_remainder means:\n",
        "\n",
        "drop_remainder: (Optional.) A `tf.bool` scalar `tf.Tensor`, representing\n",
        "    whether the last batch should be dropped in the case it has fewer than\n",
        "    `batch_size` elements; the default behavior is not to drop the smaller\n",
        "    batch."
      ],
      "id": "human-aquatic"
    },
    {
      "cell_type": "code",
      "metadata": {
        "id": "significant-shirt"
      },
      "source": [
        "sequences = char_dataset.batch(seq_len+1, drop_remainder=True)"
      ],
      "id": "significant-shirt",
      "execution_count": 39,
      "outputs": []
    },
    {
      "cell_type": "markdown",
      "metadata": {
        "id": "athletic-champagne"
      },
      "source": [
        "Now that we have our sequences, we will perform the following steps for each one to create our target text sequences:\n",
        "\n",
        "1. Grab the input text sequence\n",
        "2. Assign the target text sequence as the input text sequence shifted by one step forward\n",
        "3. Group them together as a tuple"
      ],
      "id": "athletic-champagne"
    },
    {
      "cell_type": "code",
      "metadata": {
        "id": "colonial-kingdom"
      },
      "source": [
        "def create_seq_targets(seq):\n",
        "    input_txt = seq[:-1]\n",
        "    target_txt = seq[1:]\n",
        "    return input_txt, target_txt"
      ],
      "id": "colonial-kingdom",
      "execution_count": 40,
      "outputs": []
    },
    {
      "cell_type": "code",
      "metadata": {
        "id": "noticed-leeds"
      },
      "source": [
        "dataset = sequences.map(create_seq_targets)"
      ],
      "id": "noticed-leeds",
      "execution_count": 41,
      "outputs": []
    },
    {
      "cell_type": "code",
      "metadata": {
        "colab": {
          "base_uri": "https://localhost:8080/"
        },
        "id": "iraqi-thinking",
        "outputId": "9ab44fae-0244-4b95-c6c7-6875d69ffbc0"
      },
      "source": [
        "for input_txt, target_txt in dataset.take(1):\n",
        "    print(input_txt.numpy())\n",
        "    print(\"\".join(ind_to_char[input_txt.numpy()]))\n",
        "    print('\\n')\n",
        "    print(target_txt.numpy())\n",
        "    print(\"\".join(ind_to_char[target_txt.numpy()]))"
      ],
      "id": "iraqi-thinking",
      "execution_count": 42,
      "outputs": [
        {
          "output_type": "stream",
          "text": [
            "[ 0  1  1  1  1  1  1  1  1  1  1  1  1  1  1  1  1  1  1  1  1  1 12  0\n",
            "  1  1 31 72 69 67  1 60 55 63 72 59 73 74  1 57 72 59 55 74 75 72 59 73\n",
            "  1 77 59  1 58 59 73 63 72 59  1 63 68 57 72 59 55 73 59  8  0  1  1 45\n",
            " 62 55 74  1 74 62 59 72 59 56 79  1 56 59 55 75 74 79  5 73  1 72 69 73\n",
            " 59  1 67 63 61 62 74  1 68 59 76 59 72  1 58 63 59  8  0  1  1 27 75 74]\n",
            "\n",
            "                     1\n",
            "  From fairest creatures we desire increase,\n",
            "  That thereby beauty's rose might never die,\n",
            "  But\n",
            "\n",
            "\n",
            "[ 1  1  1  1  1  1  1  1  1  1  1  1  1  1  1  1  1  1  1  1  1 12  0  1\n",
            "  1 31 72 69 67  1 60 55 63 72 59 73 74  1 57 72 59 55 74 75 72 59 73  1\n",
            " 77 59  1 58 59 73 63 72 59  1 63 68 57 72 59 55 73 59  8  0  1  1 45 62\n",
            " 55 74  1 74 62 59 72 59 56 79  1 56 59 55 75 74 79  5 73  1 72 69 73 59\n",
            "  1 67 63 61 62 74  1 68 59 76 59 72  1 58 63 59  8  0  1  1 27 75 74  1]\n",
            "                     1\n",
            "  From fairest creatures we desire increase,\n",
            "  That thereby beauty's rose might never die,\n",
            "  But \n"
          ],
          "name": "stdout"
        }
      ]
    },
    {
      "cell_type": "markdown",
      "metadata": {
        "id": "connected-bandwidth"
      },
      "source": [
        "### Generating training batches\n",
        "\n",
        "Now that we have the actual sequences, we will create the batches, we want to shuffle these sequences into a random order, so the model doesn't overfit to any section of the text, but can instead generate characters given any seed text."
      ],
      "id": "connected-bandwidth"
    },
    {
      "cell_type": "code",
      "metadata": {
        "id": "digital-baptist"
      },
      "source": [
        "batch_size = 128\n",
        "\n",
        "# Buffer size to shuffle the dataset so it doesn't attempt to shuffle\n",
        "# the entire sequence in memory. Instead, it maintains a buffer in which it shuffles elements\n",
        "buffer_size = 10000\n",
        "\n",
        "dataset = dataset.shuffle(buffer_size).batch(batch_size, drop_remainder=True)"
      ],
      "id": "digital-baptist",
      "execution_count": 43,
      "outputs": []
    },
    {
      "cell_type": "code",
      "metadata": {
        "colab": {
          "base_uri": "https://localhost:8080/"
        },
        "id": "criminal-report",
        "outputId": "5d7da4b2-077e-4c02-baea-57f3d1470468"
      },
      "source": [
        "dataset"
      ],
      "id": "criminal-report",
      "execution_count": 44,
      "outputs": [
        {
          "output_type": "execute_result",
          "data": {
            "text/plain": [
              "<BatchDataset shapes: ((128, 120), (128, 120)), types: (tf.int64, tf.int64)>"
            ]
          },
          "metadata": {
            "tags": []
          },
          "execution_count": 44
        }
      ]
    },
    {
      "cell_type": "markdown",
      "metadata": {
        "id": "developmental-source"
      },
      "source": [
        "## Step 4: Creating the Model\n"
      ],
      "id": "developmental-source"
    },
    {
      "cell_type": "markdown",
      "metadata": {
        "id": "underlying-jumping"
      },
      "source": [
        "We will use an LSTM based model with a few extra features, including an embedding layer to start off with and **two** LSTM layers. We based this model architecture off the [DeepMoji](https://deepmoji.mit.edu/) and the original source code can be found [here](https://github.com/bfelbo/DeepMoji).\n",
        "\n",
        "The embedding layer will serve as the input layer, which essentially creates a lookup table that maps the numbers indices of each character to a vector with \"embedding dim\" number of dimensions. As you can imagine, the larger this embedding size, the more complex the training. This is similar to the idea behind word2vec, where words are mapped to some n-dimensional space. Embedding before feeding straight into the LSTM usually leads to more realisitic results."
      ],
      "id": "underlying-jumping"
    },
    {
      "cell_type": "code",
      "metadata": {
        "id": "tropical-assist"
      },
      "source": [
        "# Length of the vocabulary in chars\n",
        "vocab_size = len(vocab)\n",
        "\n",
        "# The embedding dimension\n",
        "embed_dim = 64\n",
        "\n",
        "# Number of RNN units\n",
        "rnn_neurons = 1026"
      ],
      "id": "tropical-assist",
      "execution_count": 45,
      "outputs": []
    },
    {
      "cell_type": "markdown",
      "metadata": {
        "id": "grand-produce"
      },
      "source": [
        "Now let's create a function that easily adapts to different variables as shown above."
      ],
      "id": "grand-produce"
    },
    {
      "cell_type": "code",
      "metadata": {
        "id": "sonic-necessity"
      },
      "source": [
        "from tensorflow.keras.losses import sparse_categorical_crossentropy\n",
        "\n",
        "from tensorflow.keras.models import Sequential\n",
        "from tensorflow.keras.layers import LSTM,Dense,Embedding,Dropout,GRU"
      ],
      "id": "sonic-necessity",
      "execution_count": 46,
      "outputs": []
    },
    {
      "cell_type": "markdown",
      "metadata": {
        "id": "leading-facial"
      },
      "source": [
        "[Help with the choice of loss function](https://datascience.stackexchange.com/questions/41921/sparse-categorical-crossentropy-vs-categorical-crossentropy-keras-accuracy)"
      ],
      "id": "leading-facial"
    },
    {
      "cell_type": "markdown",
      "metadata": {
        "id": "electoral-things"
      },
      "source": [
        "### Setting up Loss Function\n",
        "\n",
        "For our loss we will use sparse categorical crossentropy, which we can import from Keras. We will also set this as logits=True"
      ],
      "id": "electoral-things"
    },
    {
      "cell_type": "code",
      "metadata": {
        "id": "funky-class"
      },
      "source": [
        "def sparse_cat_loss(y_true, y_pred):\n",
        "    return sparse_categorical_crossentropy(y_true,y_pred, from_logits=True)"
      ],
      "id": "funky-class",
      "execution_count": 47,
      "outputs": []
    },
    {
      "cell_type": "code",
      "metadata": {
        "id": "inclusive-devon"
      },
      "source": [
        "def create_model(vocab_size, embed_dim, rnn_neurons, batch_size):\n",
        "    \n",
        "    model = Sequential()\n",
        "    \n",
        "    model.add(Embedding(vocab_size, embed_dim,\n",
        "                        batch_input_shape=[batch_size,None]))\n",
        "    \n",
        "    model.add(GRU(rnn_neurons,return_sequences=True, stateful=True,\n",
        "                  recurrent_initializer='glorot_uniform'))\n",
        "    \n",
        "    model.add(Dense(vocab_size))\n",
        "    \n",
        "    model.compile('adam', loss=sparse_cat_loss)\n",
        "    \n",
        "    return model"
      ],
      "id": "inclusive-devon",
      "execution_count": 48,
      "outputs": []
    },
    {
      "cell_type": "code",
      "metadata": {
        "id": "elementary-contents"
      },
      "source": [
        "model = create_model(\n",
        "            vocab_size=vocab_size,\n",
        "            embed_dim=embed_dim,\n",
        "            rnn_neurons=rnn_neurons,\n",
        "            batch_size=batch_size)"
      ],
      "id": "elementary-contents",
      "execution_count": 49,
      "outputs": []
    },
    {
      "cell_type": "code",
      "metadata": {
        "colab": {
          "base_uri": "https://localhost:8080/"
        },
        "id": "administrative-income",
        "outputId": "2b3525b6-d72f-4882-dd02-8a6191343214"
      },
      "source": [
        "model.summary()"
      ],
      "id": "administrative-income",
      "execution_count": 50,
      "outputs": [
        {
          "output_type": "stream",
          "text": [
            "Model: \"sequential\"\n",
            "_________________________________________________________________\n",
            "Layer (type)                 Output Shape              Param #   \n",
            "=================================================================\n",
            "embedding (Embedding)        (128, None, 64)           5248      \n",
            "_________________________________________________________________\n",
            "gru (GRU)                    (128, None, 1026)         3361176   \n",
            "_________________________________________________________________\n",
            "dense (Dense)                (128, None, 82)           84214     \n",
            "=================================================================\n",
            "Total params: 3,450,638\n",
            "Trainable params: 3,450,638\n",
            "Non-trainable params: 0\n",
            "_________________________________________________________________\n"
          ],
          "name": "stdout"
        }
      ]
    },
    {
      "cell_type": "markdown",
      "metadata": {
        "id": "administrative-rabbit"
      },
      "source": [
        "## Step 5: Training the model\n",
        "\n",
        "Let's make sure everything is ok with our model before we spend too much time training! Let's pass in a batch to confirm the model currently predicts random characters without any training."
      ],
      "id": "administrative-rabbit"
    },
    {
      "cell_type": "code",
      "metadata": {
        "colab": {
          "base_uri": "https://localhost:8080/"
        },
        "id": "spoken-olive",
        "outputId": "25840c15-61b3-4df5-8e9c-cc21a60fe1ec"
      },
      "source": [
        "for input_example_batch, target_example_batch in dataset.take(1):\n",
        "\n",
        "  # Predict off some random batch\n",
        "  example_batch_predictions = model(input_example_batch)\n",
        "\n",
        "  # Display the dimensions of the predictions\n",
        "  print(example_batch_predictions.shape, \"<===(batch_size, sequence_length, vocab_size)\")"
      ],
      "id": "spoken-olive",
      "execution_count": 51,
      "outputs": [
        {
          "output_type": "stream",
          "text": [
            "(128, 120, 82) <===(batch_size, sequence_length, vocab_size)\n"
          ],
          "name": "stdout"
        }
      ]
    },
    {
      "cell_type": "code",
      "metadata": {
        "colab": {
          "base_uri": "https://localhost:8080/"
        },
        "id": "x8H-o_qHaRMW",
        "outputId": "83c7d7e5-de89-47e2-8001-bd06c443f640"
      },
      "source": [
        "example_batch_predictions[0]"
      ],
      "id": "x8H-o_qHaRMW",
      "execution_count": 52,
      "outputs": [
        {
          "output_type": "execute_result",
          "data": {
            "text/plain": [
              "<tf.Tensor: shape=(120, 82), dtype=float32, numpy=\n",
              "array([[-4.27961117e-03, -4.54277452e-03,  4.12639603e-03, ...,\n",
              "         7.07565050e-06,  1.79764582e-03, -6.79894164e-03],\n",
              "       [-1.59637444e-03, -5.13449253e-04,  7.45236687e-03, ...,\n",
              "         1.51748175e-03,  1.49562271e-04, -3.80668300e-03],\n",
              "       [-4.99771850e-04, -6.95040682e-03,  5.78096695e-03, ...,\n",
              "         1.20473222e-03,  5.22901909e-03, -2.97621498e-03],\n",
              "       ...,\n",
              "       [-7.28792232e-03, -7.58012384e-03,  3.34664294e-03, ...,\n",
              "         1.18032876e-04,  2.72836140e-03, -7.64672179e-03],\n",
              "       [ 3.33023467e-03,  1.60021312e-03,  3.59666912e-04, ...,\n",
              "         2.99664284e-03, -1.08204351e-03,  7.18554133e-04],\n",
              "       [ 1.63077051e-03,  1.53752847e-03,  5.27598104e-03, ...,\n",
              "         2.28313613e-03, -2.24717497e-03,  1.71120360e-03]], dtype=float32)>"
            ]
          },
          "metadata": {
            "tags": []
          },
          "execution_count": 52
        }
      ]
    },
    {
      "cell_type": "code",
      "metadata": {
        "id": "LFhzWhkcac7Q"
      },
      "source": [
        "sampled_indices = tf.random.categorical(example_batch_predictions[0],num_samples=1).numpy()"
      ],
      "id": "LFhzWhkcac7Q",
      "execution_count": 53,
      "outputs": []
    },
    {
      "cell_type": "code",
      "metadata": {
        "colab": {
          "base_uri": "https://localhost:8080/"
        },
        "id": "Pd7o6KXZa3i_",
        "outputId": "c2469ea3-4219-4213-b6fd-ef1a0fb220bf"
      },
      "source": [
        "sampled_indices"
      ],
      "id": "Pd7o6KXZa3i_",
      "execution_count": 54,
      "outputs": [
        {
          "output_type": "execute_result",
          "data": {
            "text/plain": [
              "array([[10],\n",
              "       [30],\n",
              "       [49],\n",
              "       [70],\n",
              "       [37],\n",
              "       [53],\n",
              "       [28],\n",
              "       [59],\n",
              "       [ 7],\n",
              "       [75],\n",
              "       [62],\n",
              "       [74],\n",
              "       [42],\n",
              "       [20],\n",
              "       [18],\n",
              "       [ 7],\n",
              "       [43],\n",
              "       [29],\n",
              "       [76],\n",
              "       [53],\n",
              "       [20],\n",
              "       [ 7],\n",
              "       [32],\n",
              "       [70],\n",
              "       [37],\n",
              "       [24],\n",
              "       [47],\n",
              "       [59],\n",
              "       [ 1],\n",
              "       [ 4],\n",
              "       [12],\n",
              "       [42],\n",
              "       [49],\n",
              "       [ 6],\n",
              "       [26],\n",
              "       [48],\n",
              "       [61],\n",
              "       [ 7],\n",
              "       [ 2],\n",
              "       [26],\n",
              "       [ 8],\n",
              "       [42],\n",
              "       [79],\n",
              "       [71],\n",
              "       [12],\n",
              "       [66],\n",
              "       [25],\n",
              "       [37],\n",
              "       [28],\n",
              "       [ 8],\n",
              "       [61],\n",
              "       [58],\n",
              "       [12],\n",
              "       [19],\n",
              "       [79],\n",
              "       [15],\n",
              "       [29],\n",
              "       [72],\n",
              "       [60],\n",
              "       [77],\n",
              "       [67],\n",
              "       [45],\n",
              "       [ 8],\n",
              "       [79],\n",
              "       [ 2],\n",
              "       [62],\n",
              "       [39],\n",
              "       [42],\n",
              "       [25],\n",
              "       [14],\n",
              "       [26],\n",
              "       [21],\n",
              "       [ 2],\n",
              "       [73],\n",
              "       [21],\n",
              "       [43],\n",
              "       [15],\n",
              "       [52],\n",
              "       [30],\n",
              "       [20],\n",
              "       [25],\n",
              "       [20],\n",
              "       [ 4],\n",
              "       [55],\n",
              "       [47],\n",
              "       [80],\n",
              "       [31],\n",
              "       [47],\n",
              "       [45],\n",
              "       [37],\n",
              "       [ 2],\n",
              "       [29],\n",
              "       [56],\n",
              "       [55],\n",
              "       [22],\n",
              "       [ 0],\n",
              "       [47],\n",
              "       [69],\n",
              "       [65],\n",
              "       [38],\n",
              "       [ 4],\n",
              "       [57],\n",
              "       [28],\n",
              "       [51],\n",
              "       [73],\n",
              "       [49],\n",
              "       [17],\n",
              "       [17],\n",
              "       [20],\n",
              "       [31],\n",
              "       [71],\n",
              "       [ 5],\n",
              "       [47],\n",
              "       [77],\n",
              "       [77],\n",
              "       [45],\n",
              "       [44],\n",
              "       [65],\n",
              "       [67],\n",
              "       [32]])"
            ]
          },
          "metadata": {
            "tags": []
          },
          "execution_count": 54
        }
      ]
    },
    {
      "cell_type": "code",
      "metadata": {
        "id": "Q1-g6ihpa8lX"
      },
      "source": [
        "sampled_indices = tf.squeeze(sampled_indices, axis=1).numpy()"
      ],
      "id": "Q1-g6ihpa8lX",
      "execution_count": 55,
      "outputs": []
    },
    {
      "cell_type": "code",
      "metadata": {
        "colab": {
          "base_uri": "https://localhost:8080/"
        },
        "id": "CSpxHSqLbd7t",
        "outputId": "a759be1e-5ca8-40f2-d55d-709859a7a476"
      },
      "source": [
        "ind_to_char[sampled_indices]"
      ],
      "id": "CSpxHSqLbd7t",
      "execution_count": 56,
      "outputs": [
        {
          "output_type": "execute_result",
          "data": {
            "text/plain": [
              "array(['.', 'E', 'X', 'p', 'L', ']', 'C', 'e', ')', 'u', 'h', 't', 'Q',\n",
              "       '9', '7', ')', 'R', 'D', 'v', ']', '9', ')', 'G', 'p', 'L', '>',\n",
              "       'V', 'e', ' ', '&', '1', 'Q', 'X', '(', 'A', 'W', 'g', ')', '!',\n",
              "       'A', ',', 'Q', 'y', 'q', '1', 'l', '?', 'L', 'C', ',', 'g', 'd',\n",
              "       '1', '8', 'y', '4', 'D', 'r', 'f', 'w', 'm', 'T', ',', 'y', '!',\n",
              "       'h', 'N', 'Q', '?', '3', 'A', ':', '!', 's', ':', 'R', '4', '[',\n",
              "       'E', '9', '?', '9', '&', 'a', 'V', 'z', 'F', 'V', 'T', 'L', '!',\n",
              "       'D', 'b', 'a', ';', '\\n', 'V', 'o', 'k', 'M', '&', 'c', 'C', 'Z',\n",
              "       's', 'X', '6', '6', '9', 'F', 'q', \"'\", 'V', 'w', 'w', 'T', 'S',\n",
              "       'k', 'm', 'G'], dtype='<U1')"
            ]
          },
          "metadata": {
            "tags": []
          },
          "execution_count": 56
        }
      ]
    },
    {
      "cell_type": "code",
      "metadata": {
        "colab": {
          "base_uri": "https://localhost:8080/"
        },
        "id": "OwQhT5z6bj83",
        "outputId": "a48e647e-d4f6-4da2-b5e1-d2f0ab596ea3"
      },
      "source": [
        "print(\"Given the input seq: \\n\")\n",
        "print(\"\".join(ind_to_char[input_example_batch[0]]))\n",
        "print('\\n')\n",
        "print(\"Next Char Predictions: \\n\")\n",
        "print(\"\".join(ind_to_char[sampled_indices ]))"
      ],
      "id": "OwQhT5z6bj83",
      "execution_count": 57,
      "outputs": [
        {
          "output_type": "stream",
          "text": [
            "Given the input seq: \n",
            "\n",
            "d queen,\n",
            "  The basest jewel will be well esteemed:\n",
            "  So are those errors that in thee are seen,\n",
            "  To truths translated, \n",
            "\n",
            "\n",
            "Next Char Predictions: \n",
            "\n",
            ".EXpL]Ce)uhtQ97)RDv]9)GpL>Ve &1QX(AWg)!A,Qyq1l?LC,gd18y4DrfwmT,y!hNQ?3A:!s:R4[E9?9&aVzFVTL!Dba;\n",
            "VokM&cCZsX669Fq'VwwTSkmG\n"
          ],
          "name": "stdout"
        }
      ]
    },
    {
      "cell_type": "code",
      "metadata": {
        "id": "dUHdIp1AbtMp"
      },
      "source": [
        ""
      ],
      "id": "dUHdIp1AbtMp",
      "execution_count": 57,
      "outputs": []
    },
    {
      "cell_type": "markdown",
      "metadata": {
        "id": "RtbqRCizb1xD"
      },
      "source": [
        "After confirming the dimensions are working, let's train our network!"
      ],
      "id": "RtbqRCizb1xD"
    },
    {
      "cell_type": "code",
      "metadata": {
        "id": "cx16fnCyb2ny"
      },
      "source": [
        "epochs = 30"
      ],
      "id": "cx16fnCyb2ny",
      "execution_count": 58,
      "outputs": []
    },
    {
      "cell_type": "code",
      "metadata": {
        "colab": {
          "base_uri": "https://localhost:8080/"
        },
        "id": "yAXxh4dPb6nH",
        "outputId": "30cc2e04-1546-4c55-be5d-233b7c94073c"
      },
      "source": [
        "model.fit(dataset, epochs=epochs)"
      ],
      "id": "yAXxh4dPb6nH",
      "execution_count": 59,
      "outputs": [
        {
          "output_type": "stream",
          "text": [
            "Epoch 1/30\n",
            "67/67 [==============================] - 10s 117ms/step - loss: 4.1377\n",
            "Epoch 2/30\n",
            "67/67 [==============================] - 9s 118ms/step - loss: 2.8568\n",
            "Epoch 3/30\n",
            "67/67 [==============================] - 9s 118ms/step - loss: 2.3705\n",
            "Epoch 4/30\n",
            "67/67 [==============================] - 9s 121ms/step - loss: 2.1774\n",
            "Epoch 5/30\n",
            "67/67 [==============================] - 9s 122ms/step - loss: 2.0445\n",
            "Epoch 6/30\n",
            "67/67 [==============================] - 9s 121ms/step - loss: 1.9200\n",
            "Epoch 7/30\n",
            "67/67 [==============================] - 9s 122ms/step - loss: 1.8076\n",
            "Epoch 8/30\n",
            "67/67 [==============================] - 9s 122ms/step - loss: 1.7040\n",
            "Epoch 9/30\n",
            "67/67 [==============================] - 9s 123ms/step - loss: 1.6234\n",
            "Epoch 10/30\n",
            "67/67 [==============================] - 9s 123ms/step - loss: 1.5546\n",
            "Epoch 11/30\n",
            "67/67 [==============================] - 9s 124ms/step - loss: 1.4968\n",
            "Epoch 12/30\n",
            "67/67 [==============================] - 9s 127ms/step - loss: 1.4440\n",
            "Epoch 13/30\n",
            "67/67 [==============================] - 10s 129ms/step - loss: 1.4023\n",
            "Epoch 14/30\n",
            "67/67 [==============================] - 10s 131ms/step - loss: 1.3646\n",
            "Epoch 15/30\n",
            "67/67 [==============================] - 10s 134ms/step - loss: 1.3315\n",
            "Epoch 16/30\n",
            "67/67 [==============================] - 10s 138ms/step - loss: 1.3043\n",
            "Epoch 17/30\n",
            "67/67 [==============================] - 10s 134ms/step - loss: 1.2774\n",
            "Epoch 18/30\n",
            "67/67 [==============================] - 10s 134ms/step - loss: 1.2525\n",
            "Epoch 19/30\n",
            "67/67 [==============================] - 10s 133ms/step - loss: 1.2287\n",
            "Epoch 20/30\n",
            "67/67 [==============================] - 10s 131ms/step - loss: 1.2097\n",
            "Epoch 21/30\n",
            "67/67 [==============================] - 10s 131ms/step - loss: 1.1831\n",
            "Epoch 22/30\n",
            "67/67 [==============================] - 10s 133ms/step - loss: 1.1650\n",
            "Epoch 23/30\n",
            "67/67 [==============================] - 10s 135ms/step - loss: 1.1451\n",
            "Epoch 24/30\n",
            "67/67 [==============================] - 10s 133ms/step - loss: 1.1231\n",
            "Epoch 25/30\n",
            "67/67 [==============================] - 10s 135ms/step - loss: 1.1061\n",
            "Epoch 26/30\n",
            "67/67 [==============================] - 10s 135ms/step - loss: 1.0862\n",
            "Epoch 27/30\n",
            "67/67 [==============================] - 10s 133ms/step - loss: 1.0605\n",
            "Epoch 28/30\n",
            "67/67 [==============================] - 10s 133ms/step - loss: 1.0372\n",
            "Epoch 29/30\n",
            "67/67 [==============================] - 10s 133ms/step - loss: 1.0158\n",
            "Epoch 30/30\n",
            "67/67 [==============================] - 10s 134ms/step - loss: 0.9960\n"
          ],
          "name": "stdout"
        },
        {
          "output_type": "execute_result",
          "data": {
            "text/plain": [
              "<tensorflow.python.keras.callbacks.History at 0x7f9e2d94c990>"
            ]
          },
          "metadata": {
            "tags": []
          },
          "execution_count": 59
        }
      ]
    },
    {
      "cell_type": "code",
      "metadata": {
        "id": "SvQQwpEpcKSz"
      },
      "source": [
        ""
      ],
      "id": "SvQQwpEpcKSz",
      "execution_count": 59,
      "outputs": []
    },
    {
      "cell_type": "markdown",
      "metadata": {
        "id": "94L6KGgWeK9t"
      },
      "source": [
        "Save the model!"
      ],
      "id": "94L6KGgWeK9t"
    },
    {
      "cell_type": "code",
      "metadata": {
        "id": "b8R9L4jueN5t"
      },
      "source": [
        "model.save('shakespeare_gen.h5')"
      ],
      "id": "b8R9L4jueN5t",
      "execution_count": 60,
      "outputs": []
    },
    {
      "cell_type": "code",
      "metadata": {
        "id": "VnQ6akvSeShu"
      },
      "source": [
        ""
      ],
      "id": "VnQ6akvSeShu",
      "execution_count": null,
      "outputs": []
    },
    {
      "cell_type": "markdown",
      "metadata": {
        "id": "0sfFZXBCeiL-"
      },
      "source": [
        "## Step 6: Generating text\n",
        "\n",
        "Currently our model only expects 128 sequences at a time. We can create a new model that only expects a batch_size=1. We can create a new model with this batch size, then load our saved models weights. Then call .build() on the model:"
      ],
      "id": "0sfFZXBCeiL-"
    },
    {
      "cell_type": "code",
      "metadata": {
        "id": "0nqafiFIemOr"
      },
      "source": [
        "from tensorflow.keras.models import load_model"
      ],
      "id": "0nqafiFIemOr",
      "execution_count": 61,
      "outputs": []
    },
    {
      "cell_type": "code",
      "metadata": {
        "id": "6Lme0fx-eyny"
      },
      "source": [
        "model = create_model(vocab_size, embed_dim, rnn_neurons, batch_size=1)\n",
        "\n",
        "model.load_weights('shakespeare_gen.h5')\n",
        "\n",
        "model.build(tf.TensorShape([1, None]))"
      ],
      "id": "6Lme0fx-eyny",
      "execution_count": 62,
      "outputs": []
    },
    {
      "cell_type": "code",
      "metadata": {
        "colab": {
          "base_uri": "https://localhost:8080/"
        },
        "id": "hwG5TXrLfaN3",
        "outputId": "88c18301-6492-47f2-826c-11be3b01b9ca"
      },
      "source": [
        "model.summary()"
      ],
      "id": "hwG5TXrLfaN3",
      "execution_count": 63,
      "outputs": [
        {
          "output_type": "stream",
          "text": [
            "Model: \"sequential_1\"\n",
            "_________________________________________________________________\n",
            "Layer (type)                 Output Shape              Param #   \n",
            "=================================================================\n",
            "embedding_1 (Embedding)      (1, None, 64)             5248      \n",
            "_________________________________________________________________\n",
            "gru_1 (GRU)                  (1, None, 1026)           3361176   \n",
            "_________________________________________________________________\n",
            "dense_1 (Dense)              (1, None, 82)             84214     \n",
            "=================================================================\n",
            "Total params: 3,450,638\n",
            "Trainable params: 3,450,638\n",
            "Non-trainable params: 0\n",
            "_________________________________________________________________\n"
          ],
          "name": "stdout"
        }
      ]
    },
    {
      "cell_type": "code",
      "metadata": {
        "id": "ouyJDSPqfdJS"
      },
      "source": [
        "def generate_text(model,start_seed,gen_size=500,temp=1.0):\n",
        "  '''\n",
        "  model: Trained Model to Generate Text\n",
        "  start_seed: Intial Seed text in string form\n",
        "  gen_size: Number of characters to generate\n",
        "\n",
        "  Basic idea behind this function is to take in some seed text, format it so\n",
        "  that it is in the correct shape for our network, then loop the sequence as\n",
        "  we keep adding our own predicted characters. Similar to our work in the RNN\n",
        "  time series problems.\n",
        "  '''\n",
        "\n",
        "  # Number of characters to generate\n",
        "  num_generate = gen_size\n",
        "\n",
        "  # Vectorizing starting seed text\n",
        "  input_eval = [char_to_ind[s] for s in start_seed]\n",
        "\n",
        "  # Expand to match batch format shape\n",
        "  input_eval = tf.expand_dims(input_eval, 0)\n",
        "\n",
        "  # Empty list to hold resulting generated text\n",
        "  text_generated = []\n",
        "\n",
        "  # Temperature effects randomness in our resulting text\n",
        "  # The term is derived from entropy/thermodynamics.\n",
        "  # The temperature is used to effect probability of next characters.\n",
        "  # Higher probability == lesss surprising/ more expected\n",
        "  # Lower temperature == more surprising / less expected\n",
        "\n",
        "  temperature = temp\n",
        "\n",
        "  # Here bacth size == 1\n",
        "  model.reset_states()\n",
        "\n",
        "  for i in range(num_generate):\n",
        "\n",
        "    # Generate predictions\n",
        "    predictions = model(input_eval)\n",
        "\n",
        "    # Remove the batch shape dimension\n",
        "    predictions = tf.squeeze(predictions, 0)\n",
        "\n",
        "    # Use a categorical distribution to select hte next character\n",
        "    predictions = predictions / temperature\n",
        "    predicted_id = tf.random.categorical(predictions, num_samples = 1)[-1,0].numpy()\n",
        "\n",
        "    # Pass the predicted character for the next input\n",
        "    input_eval = tf.expand_dims([predicted_id],0)\n",
        "\n",
        "    # Transform back to character letter\n",
        "    text_generated.append(ind_to_char[predicted_id])\n",
        "  \n",
        "  return (start_seed + ''.join(text_generated))"
      ],
      "id": "ouyJDSPqfdJS",
      "execution_count": 68,
      "outputs": []
    },
    {
      "cell_type": "code",
      "metadata": {
        "colab": {
          "base_uri": "https://localhost:8080/"
        },
        "id": "lynH4unziNMC",
        "outputId": "8fe8607d-58a5-4179-e851-4488a816589d"
      },
      "source": [
        "print(generate_text(model, \"JULIET\", gen_size=1000, temp=1.0))"
      ],
      "id": "lynH4unziNMC",
      "execution_count": 73,
      "outputs": [
        {
          "output_type": "stream",
          "text": [
            "JULIETUPUDESPUSTULUTEUNENUSUSw're blastly\n",
            "    Oft been appearing to you.\n",
            "  CORIOLANUS. So- spake quitencr. What?\n",
            "  MENENIUS. O that craver you for you. 'Tis strange.\n",
            "  THIRD LORD. Dut him awaking your cimble wish.\n",
            "ADRIANA. choice you so?\n",
            "  CELIA. And this will grant itay, that know her got.\n",
            "  When I gate of pull him tar'd more\n",
            "  As the roys-muquit by your swords,\n",
            "    Though there first in Antoniams; till which I,\n",
            "    Their kings from fancy relieity. I had without your\n",
            "    flait. You govers it not; sir, dirmatic; how does live.\n",
            "    Have an eniurgers-\n",
            "  CORIOLANUS. Go, poor lady.\n",
            "  It is the court! I have spoke of, at first mistress; say,\n",
            "  And that mine eye of nest. How do't! this geary villain:\n",
            "    For it she hast never ke ut thee, and trums will swoon?\n",
            "  No more comes on. Why should think you.\n",
            "  High office of death\n",
            "  The starging do as I do vewill does soo last,\n",
            "  His bander in the school'd at the womb's silence?\n",
            "  CYMBELINE. Will you go?  \n",
            "    And I fertune born of virginity is near hee!\n",
            "\n"
          ],
          "name": "stdout"
        }
      ]
    },
    {
      "cell_type": "code",
      "metadata": {
        "id": "qBcP8UzkigI4"
      },
      "source": [
        ""
      ],
      "id": "qBcP8UzkigI4",
      "execution_count": null,
      "outputs": []
    }
  ]
}